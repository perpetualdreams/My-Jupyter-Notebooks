{
 "cells": [
  {
   "cell_type": "code",
   "execution_count": 1,
   "metadata": {},
   "outputs": [],
   "source": [
    "import pandas as pd\n",
    "import numpy as np\n",
    "import matplotlib.pyplot as plt\n",
    "import seaborn as sns\n",
    "plt.style.use('fivethirtyeight')\n",
    "from datetime import timedelta\n",
    "from datetime import datetime as dt\n",
    "from matplotlib.ticker import FuncFormatter\n",
    "%matplotlib inline"
   ]
  },
  {
   "cell_type": "code",
   "execution_count": 2,
   "metadata": {},
   "outputs": [],
   "source": [
    "import matplotlib.pylab as pylab\n",
    "params = {'legend.fontsize': 'x-large',\n",
    "          'figure.figsize': (15, 9),\n",
    "         'axes.labelsize': 'x-large',\n",
    "         'axes.titlesize':'xx-large',\n",
    "         'xtick.labelsize':'x-large',\n",
    "         'ytick.labelsize':'x-large'}\n",
    "pylab.rcParams.update(params)"
   ]
  },
  {
   "cell_type": "markdown",
   "metadata": {},
   "source": [
    "# Load data"
   ]
  },
  {
   "cell_type": "markdown",
   "metadata": {},
   "source": [
    "### Errors encountered when loading in data:\n",
    "\n",
    "- **ParserError**: Error tokenizing data. C error: Expected 13 fields in line 30, saw 14\n",
    "\n",
    " Reason: <br>\n",
    " - The were erroneous values such as 'Moccasins & Boat Shoes' in the `order_created_at` column, and as a result shifted the data for the `order_created_at` and `order_status` columns to the right by 1 column, resulting in 14 columns.\n",
    "\n",
    " - This 14th column had a blank header, which resulted in ParserError.\n",
    "\n",
    " Solution: <br>\n",
    " - Specify a list of 14 column names before reading in csv; extra column named as 'error'.<br><br>\n",
    "\n",
    "- **UnicodeDecodeError**: 'utf-8' codec can't decode byte 0xc9 in position 82: invalid continuation byte\n",
    "\n",
    " Solution:\n",
    "  - When reading in csv, include parameter `encoding='latin-1'`"
   ]
  },
  {
   "cell_type": "code",
   "execution_count": 3,
   "metadata": {},
   "outputs": [],
   "source": [
    "col_names = ['zuid','gender','birthday','cohort','order_nr','environment','voucher_code',\n",
    "             'order_value','category','sub_category','order_created_at','order_status', 'error']\n",
    "\n",
    "df = pd.read_csv('sales.csv', names=col_names, skipinitialspace=True, encoding='latin-1', low_memory=False)"
   ]
  },
  {
   "cell_type": "code",
   "execution_count": 4,
   "metadata": {},
   "outputs": [
    {
     "data": {
      "text/html": [
       "<div>\n",
       "<style scoped>\n",
       "    .dataframe tbody tr th:only-of-type {\n",
       "        vertical-align: middle;\n",
       "    }\n",
       "\n",
       "    .dataframe tbody tr th {\n",
       "        vertical-align: top;\n",
       "    }\n",
       "\n",
       "    .dataframe thead th {\n",
       "        text-align: right;\n",
       "    }\n",
       "</style>\n",
       "<table border=\"1\" class=\"dataframe\">\n",
       "  <thead>\n",
       "    <tr style=\"text-align: right;\">\n",
       "      <th></th>\n",
       "      <th>zuid</th>\n",
       "      <th>gender</th>\n",
       "      <th>birthday</th>\n",
       "      <th>cohort</th>\n",
       "      <th>order_nr</th>\n",
       "      <th>environment</th>\n",
       "      <th>voucher_code</th>\n",
       "      <th>order_value</th>\n",
       "      <th>category</th>\n",
       "      <th>sub_category</th>\n",
       "      <th>order_created_at</th>\n",
       "      <th>order_status</th>\n",
       "      <th>error</th>\n",
       "    </tr>\n",
       "  </thead>\n",
       "  <tbody>\n",
       "    <tr>\n",
       "      <th>0</th>\n",
       "      <td>zuid</td>\n",
       "      <td>gender</td>\n",
       "      <td>birthday</td>\n",
       "      <td>cohort</td>\n",
       "      <td>order_nr</td>\n",
       "      <td>environment</td>\n",
       "      <td>voucher_code</td>\n",
       "      <td>order_value</td>\n",
       "      <td>category</td>\n",
       "      <td>sub_category</td>\n",
       "      <td>order_created_at</td>\n",
       "      <td>order_status</td>\n",
       "      <td>NaN</td>\n",
       "    </tr>\n",
       "    <tr>\n",
       "      <th>1</th>\n",
       "      <td>2.13795E+14</td>\n",
       "      <td>male</td>\n",
       "      <td>(null)</td>\n",
       "      <td>2016-07</td>\n",
       "      <td>205926117</td>\n",
       "      <td>mobileTheme</td>\n",
       "      <td>NaN</td>\n",
       "      <td>27.1</td>\n",
       "      <td>apparel</td>\n",
       "      <td>Shirts</td>\n",
       "      <td>2/8/16 0:52</td>\n",
       "      <td>net</td>\n",
       "      <td>NaN</td>\n",
       "    </tr>\n",
       "    <tr>\n",
       "      <th>2</th>\n",
       "      <td>2.13795E+14</td>\n",
       "      <td>male</td>\n",
       "      <td>(null)</td>\n",
       "      <td>2016-07</td>\n",
       "      <td>207816617</td>\n",
       "      <td>mobileTheme</td>\n",
       "      <td>NaN</td>\n",
       "      <td>23.03</td>\n",
       "      <td>apparel</td>\n",
       "      <td>T-Shirts</td>\n",
       "      <td>22/7/16 13:06</td>\n",
       "      <td>net</td>\n",
       "      <td>NaN</td>\n",
       "    </tr>\n",
       "    <tr>\n",
       "      <th>3</th>\n",
       "      <td>2.13795E+14</td>\n",
       "      <td>male</td>\n",
       "      <td>(null)</td>\n",
       "      <td>2016-07</td>\n",
       "      <td>205926117</td>\n",
       "      <td>mobileTheme</td>\n",
       "      <td>NaN</td>\n",
       "      <td>13.93</td>\n",
       "      <td>apparel</td>\n",
       "      <td>T-Shirts</td>\n",
       "      <td>2/8/16 0:52</td>\n",
       "      <td>net</td>\n",
       "      <td>NaN</td>\n",
       "    </tr>\n",
       "    <tr>\n",
       "      <th>4</th>\n",
       "      <td>2.13795E+14</td>\n",
       "      <td>male</td>\n",
       "      <td>(null)</td>\n",
       "      <td>2016-07</td>\n",
       "      <td>508943717</td>\n",
       "      <td>NaN</td>\n",
       "      <td>NaN</td>\n",
       "      <td>14.02</td>\n",
       "      <td>apparel</td>\n",
       "      <td>Shorts</td>\n",
       "      <td>30/7/16 11:07</td>\n",
       "      <td>net</td>\n",
       "      <td>NaN</td>\n",
       "    </tr>\n",
       "  </tbody>\n",
       "</table>\n",
       "</div>"
      ],
      "text/plain": [
       "          zuid  gender  birthday   cohort   order_nr  environment  \\\n",
       "0         zuid  gender  birthday   cohort   order_nr  environment   \n",
       "1  2.13795E+14    male    (null)  2016-07  205926117  mobileTheme   \n",
       "2  2.13795E+14    male    (null)  2016-07  207816617  mobileTheme   \n",
       "3  2.13795E+14    male    (null)  2016-07  205926117  mobileTheme   \n",
       "4  2.13795E+14    male    (null)  2016-07  508943717          NaN   \n",
       "\n",
       "   voucher_code  order_value  category  sub_category  order_created_at  \\\n",
       "0  voucher_code  order_value  category  sub_category  order_created_at   \n",
       "1           NaN         27.1   apparel        Shirts       2/8/16 0:52   \n",
       "2           NaN        23.03   apparel      T-Shirts     22/7/16 13:06   \n",
       "3           NaN        13.93   apparel      T-Shirts       2/8/16 0:52   \n",
       "4           NaN        14.02   apparel        Shorts     30/7/16 11:07   \n",
       "\n",
       "   order_status error  \n",
       "0  order_status   NaN  \n",
       "1           net   NaN  \n",
       "2           net   NaN  \n",
       "3           net   NaN  \n",
       "4           net   NaN  "
      ]
     },
     "execution_count": 4,
     "metadata": {},
     "output_type": "execute_result"
    }
   ],
   "source": [
    "df.head()"
   ]
  },
  {
   "cell_type": "code",
   "execution_count": 5,
   "metadata": {
    "scrolled": true
   },
   "outputs": [
    {
     "data": {
      "text/html": [
       "<div>\n",
       "<style scoped>\n",
       "    .dataframe tbody tr th:only-of-type {\n",
       "        vertical-align: middle;\n",
       "    }\n",
       "\n",
       "    .dataframe tbody tr th {\n",
       "        vertical-align: top;\n",
       "    }\n",
       "\n",
       "    .dataframe thead th {\n",
       "        text-align: right;\n",
       "    }\n",
       "</style>\n",
       "<table border=\"1\" class=\"dataframe\">\n",
       "  <thead>\n",
       "    <tr style=\"text-align: right;\">\n",
       "      <th></th>\n",
       "      <th>zuid</th>\n",
       "      <th>gender</th>\n",
       "      <th>birthday</th>\n",
       "      <th>cohort</th>\n",
       "      <th>order_nr</th>\n",
       "      <th>environment</th>\n",
       "      <th>voucher_code</th>\n",
       "      <th>order_value</th>\n",
       "      <th>category</th>\n",
       "      <th>sub_category</th>\n",
       "      <th>order_created_at</th>\n",
       "      <th>order_status</th>\n",
       "      <th>error</th>\n",
       "    </tr>\n",
       "  </thead>\n",
       "  <tbody>\n",
       "    <tr>\n",
       "      <th>1</th>\n",
       "      <td>2.13795E+14</td>\n",
       "      <td>male</td>\n",
       "      <td>(null)</td>\n",
       "      <td>2016-07</td>\n",
       "      <td>205926117</td>\n",
       "      <td>mobileTheme</td>\n",
       "      <td>NaN</td>\n",
       "      <td>27.1</td>\n",
       "      <td>apparel</td>\n",
       "      <td>Shirts</td>\n",
       "      <td>2/8/16 0:52</td>\n",
       "      <td>net</td>\n",
       "      <td>NaN</td>\n",
       "    </tr>\n",
       "    <tr>\n",
       "      <th>2</th>\n",
       "      <td>2.13795E+14</td>\n",
       "      <td>male</td>\n",
       "      <td>(null)</td>\n",
       "      <td>2016-07</td>\n",
       "      <td>207816617</td>\n",
       "      <td>mobileTheme</td>\n",
       "      <td>NaN</td>\n",
       "      <td>23.03</td>\n",
       "      <td>apparel</td>\n",
       "      <td>T-Shirts</td>\n",
       "      <td>22/7/16 13:06</td>\n",
       "      <td>net</td>\n",
       "      <td>NaN</td>\n",
       "    </tr>\n",
       "    <tr>\n",
       "      <th>3</th>\n",
       "      <td>2.13795E+14</td>\n",
       "      <td>male</td>\n",
       "      <td>(null)</td>\n",
       "      <td>2016-07</td>\n",
       "      <td>205926117</td>\n",
       "      <td>mobileTheme</td>\n",
       "      <td>NaN</td>\n",
       "      <td>13.93</td>\n",
       "      <td>apparel</td>\n",
       "      <td>T-Shirts</td>\n",
       "      <td>2/8/16 0:52</td>\n",
       "      <td>net</td>\n",
       "      <td>NaN</td>\n",
       "    </tr>\n",
       "    <tr>\n",
       "      <th>4</th>\n",
       "      <td>2.13795E+14</td>\n",
       "      <td>male</td>\n",
       "      <td>(null)</td>\n",
       "      <td>2016-07</td>\n",
       "      <td>508943717</td>\n",
       "      <td>NaN</td>\n",
       "      <td>NaN</td>\n",
       "      <td>14.02</td>\n",
       "      <td>apparel</td>\n",
       "      <td>Shorts</td>\n",
       "      <td>30/7/16 11:07</td>\n",
       "      <td>net</td>\n",
       "      <td>NaN</td>\n",
       "    </tr>\n",
       "    <tr>\n",
       "      <th>5</th>\n",
       "      <td>2.13795E+14</td>\n",
       "      <td>male</td>\n",
       "      <td>(null)</td>\n",
       "      <td>2016-07</td>\n",
       "      <td>205926117</td>\n",
       "      <td>mobileTheme</td>\n",
       "      <td>NaN</td>\n",
       "      <td>13.93</td>\n",
       "      <td>apparel</td>\n",
       "      <td>T-Shirts</td>\n",
       "      <td>2/8/16 0:52</td>\n",
       "      <td>net</td>\n",
       "      <td>NaN</td>\n",
       "    </tr>\n",
       "    <tr>\n",
       "      <th>6</th>\n",
       "      <td>2.13795E+14</td>\n",
       "      <td>male</td>\n",
       "      <td>(null)</td>\n",
       "      <td>2016-07</td>\n",
       "      <td>207816617</td>\n",
       "      <td>mobileTheme</td>\n",
       "      <td>NaN</td>\n",
       "      <td>14.02</td>\n",
       "      <td>apparel</td>\n",
       "      <td>Shorts</td>\n",
       "      <td>22/7/16 13:06</td>\n",
       "      <td>returned</td>\n",
       "      <td>NaN</td>\n",
       "    </tr>\n",
       "    <tr>\n",
       "      <th>7</th>\n",
       "      <td>2.13795E+14</td>\n",
       "      <td>male</td>\n",
       "      <td>(null)</td>\n",
       "      <td>2016-07</td>\n",
       "      <td>205926117</td>\n",
       "      <td>mobileTheme</td>\n",
       "      <td>NaN</td>\n",
       "      <td>13.93</td>\n",
       "      <td>apparel</td>\n",
       "      <td>T-Shirts</td>\n",
       "      <td>2/8/16 0:52</td>\n",
       "      <td>net</td>\n",
       "      <td>NaN</td>\n",
       "    </tr>\n",
       "    <tr>\n",
       "      <th>8</th>\n",
       "      <td>2.13795E+14</td>\n",
       "      <td>male</td>\n",
       "      <td>(null)</td>\n",
       "      <td>2016-07</td>\n",
       "      <td>207816617</td>\n",
       "      <td>mobileTheme</td>\n",
       "      <td>NaN</td>\n",
       "      <td>14.02</td>\n",
       "      <td>apparel</td>\n",
       "      <td>T-Shirts</td>\n",
       "      <td>22/7/16 13:06</td>\n",
       "      <td>net</td>\n",
       "      <td>NaN</td>\n",
       "    </tr>\n",
       "    <tr>\n",
       "      <th>9</th>\n",
       "      <td>2.14675E+14</td>\n",
       "      <td>male</td>\n",
       "      <td>22/9/97</td>\n",
       "      <td>2016-11</td>\n",
       "      <td>203527495</td>\n",
       "      <td>iosApp</td>\n",
       "      <td>NaN</td>\n",
       "      <td>41.96</td>\n",
       "      <td>footwear</td>\n",
       "      <td>Heels</td>\n",
       "      <td>15/11/16 23:38</td>\n",
       "      <td>net</td>\n",
       "      <td>NaN</td>\n",
       "    </tr>\n",
       "    <tr>\n",
       "      <th>10</th>\n",
       "      <td>2.1471E+14</td>\n",
       "      <td>female</td>\n",
       "      <td>6/4/83</td>\n",
       "      <td>2016-08</td>\n",
       "      <td>207723237</td>\n",
       "      <td>desktop</td>\n",
       "      <td>NaN</td>\n",
       "      <td>28.01</td>\n",
       "      <td>footwear</td>\n",
       "      <td>Boots</td>\n",
       "      <td>12/8/16 20:19</td>\n",
       "      <td>net</td>\n",
       "      <td>NaN</td>\n",
       "    </tr>\n",
       "  </tbody>\n",
       "</table>\n",
       "</div>"
      ],
      "text/plain": [
       "           zuid  gender birthday   cohort   order_nr  environment  \\\n",
       "1   2.13795E+14    male   (null)  2016-07  205926117  mobileTheme   \n",
       "2   2.13795E+14    male   (null)  2016-07  207816617  mobileTheme   \n",
       "3   2.13795E+14    male   (null)  2016-07  205926117  mobileTheme   \n",
       "4   2.13795E+14    male   (null)  2016-07  508943717          NaN   \n",
       "5   2.13795E+14    male   (null)  2016-07  205926117  mobileTheme   \n",
       "6   2.13795E+14    male   (null)  2016-07  207816617  mobileTheme   \n",
       "7   2.13795E+14    male   (null)  2016-07  205926117  mobileTheme   \n",
       "8   2.13795E+14    male   (null)  2016-07  207816617  mobileTheme   \n",
       "9   2.14675E+14    male  22/9/97  2016-11  203527495       iosApp   \n",
       "10   2.1471E+14  female   6/4/83  2016-08  207723237      desktop   \n",
       "\n",
       "   voucher_code order_value  category sub_category order_created_at  \\\n",
       "1           NaN        27.1   apparel       Shirts      2/8/16 0:52   \n",
       "2           NaN       23.03   apparel     T-Shirts    22/7/16 13:06   \n",
       "3           NaN       13.93   apparel     T-Shirts      2/8/16 0:52   \n",
       "4           NaN       14.02   apparel       Shorts    30/7/16 11:07   \n",
       "5           NaN       13.93   apparel     T-Shirts      2/8/16 0:52   \n",
       "6           NaN       14.02   apparel       Shorts    22/7/16 13:06   \n",
       "7           NaN       13.93   apparel     T-Shirts      2/8/16 0:52   \n",
       "8           NaN       14.02   apparel     T-Shirts    22/7/16 13:06   \n",
       "9           NaN       41.96  footwear        Heels   15/11/16 23:38   \n",
       "10          NaN       28.01  footwear        Boots    12/8/16 20:19   \n",
       "\n",
       "   order_status error  \n",
       "1           net   NaN  \n",
       "2           net   NaN  \n",
       "3           net   NaN  \n",
       "4           net   NaN  \n",
       "5           net   NaN  \n",
       "6      returned   NaN  \n",
       "7           net   NaN  \n",
       "8           net   NaN  \n",
       "9           net   NaN  \n",
       "10          net   NaN  "
      ]
     },
     "execution_count": 5,
     "metadata": {},
     "output_type": "execute_result"
    }
   ],
   "source": [
    "# Drop first row containing original headers from csv file\n",
    "df.drop(df.index[0], inplace=True)\n",
    "df.head(10)"
   ]
  },
  {
   "cell_type": "markdown",
   "metadata": {},
   "source": [
    "# Data Cleaning"
   ]
  },
  {
   "cell_type": "code",
   "execution_count": 6,
   "metadata": {},
   "outputs": [
    {
     "name": "stdout",
     "output_type": "stream",
     "text": [
      "<class 'pandas.core.frame.DataFrame'>\n",
      "Int64Index: 929476 entries, 1 to 929476\n",
      "Data columns (total 13 columns):\n",
      " #   Column            Non-Null Count   Dtype \n",
      "---  ------            --------------   ----- \n",
      " 0   zuid              929476 non-null  object\n",
      " 1   gender            927614 non-null  object\n",
      " 2   birthday          929476 non-null  object\n",
      " 3   cohort            929476 non-null  object\n",
      " 4   order_nr          929476 non-null  object\n",
      " 5   environment       910165 non-null  object\n",
      " 6   voucher_code      371045 non-null  object\n",
      " 7   order_value       929476 non-null  object\n",
      " 8   category          929476 non-null  object\n",
      " 9   sub_category      929344 non-null  object\n",
      " 10  order_created_at  929476 non-null  object\n",
      " 11  order_status      929476 non-null  object\n",
      " 12  error             9234 non-null    object\n",
      "dtypes: object(13)\n",
      "memory usage: 99.3+ MB\n"
     ]
    }
   ],
   "source": [
    "df.info()"
   ]
  },
  {
   "cell_type": "markdown",
   "metadata": {},
   "source": [
    "Concerns with datatypes:\n",
    "\n",
    "- `order_value` should be `float64`\n",
    "- `order_created_at` should be `datetime64`\n",
    "- `birthday` should be `datetime64`"
   ]
  },
  {
   "cell_type": "markdown",
   "metadata": {},
   "source": [
    "### Fix 'order_created_at' column"
   ]
  },
  {
   "cell_type": "code",
   "execution_count": 7,
   "metadata": {},
   "outputs": [],
   "source": [
    "# Find all erroneous text values in the 'order_created_at' column and replace with \n",
    "# the correct dates in the 'order_status' column\n",
    "df['order_created_at'] = np.where(df['order_created_at'].str.contains('[A-Za-z]'), \n",
    "                                  df['order_status'], df['order_created_at'])\n",
    "\n",
    "# Shift the order_status values in the temporary 'error' column back to the order_status column\n",
    "df['order_status'] = np.where(df['order_created_at'].str.contains('[A-Za-z]'), \n",
    "                              df['error'], df['order_status'])"
   ]
  },
  {
   "cell_type": "code",
   "execution_count": 108,
   "metadata": {
    "scrolled": true
   },
   "outputs": [
    {
     "data": {
      "text/html": [
       "<div>\n",
       "<style scoped>\n",
       "    .dataframe tbody tr th:only-of-type {\n",
       "        vertical-align: middle;\n",
       "    }\n",
       "\n",
       "    .dataframe tbody tr th {\n",
       "        vertical-align: top;\n",
       "    }\n",
       "\n",
       "    .dataframe thead th {\n",
       "        text-align: right;\n",
       "    }\n",
       "</style>\n",
       "<table border=\"1\" class=\"dataframe\">\n",
       "  <thead>\n",
       "    <tr style=\"text-align: right;\">\n",
       "      <th></th>\n",
       "      <th>zuid</th>\n",
       "      <th>gender</th>\n",
       "      <th>birthday</th>\n",
       "      <th>cohort</th>\n",
       "      <th>order_nr</th>\n",
       "      <th>environment</th>\n",
       "      <th>voucher_code</th>\n",
       "      <th>order_value</th>\n",
       "      <th>category</th>\n",
       "      <th>sub_category</th>\n",
       "      <th>order_created_at</th>\n",
       "      <th>order_status</th>\n",
       "      <th>order_time</th>\n",
       "      <th>order_hour</th>\n",
       "      <th>order_year_mth</th>\n",
       "      <th>order_month</th>\n",
       "      <th>order_day</th>\n",
       "      <th>age</th>\n",
       "    </tr>\n",
       "  </thead>\n",
       "  <tbody>\n",
       "    <tr>\n",
       "      <th>1</th>\n",
       "      <td>2.13795E+14</td>\n",
       "      <td>male</td>\n",
       "      <td>NaT</td>\n",
       "      <td>2016-07</td>\n",
       "      <td>205926117</td>\n",
       "      <td>mobile</td>\n",
       "      <td>NaN</td>\n",
       "      <td>27.10</td>\n",
       "      <td>apparel</td>\n",
       "      <td>Shirts</td>\n",
       "      <td>2016-02-08 00:52:00</td>\n",
       "      <td>net</td>\n",
       "      <td>00:52:00</td>\n",
       "      <td>0</td>\n",
       "      <td>2/8/16</td>\n",
       "      <td>2</td>\n",
       "      <td>0</td>\n",
       "      <td>NaN</td>\n",
       "    </tr>\n",
       "    <tr>\n",
       "      <th>2</th>\n",
       "      <td>2.13795E+14</td>\n",
       "      <td>male</td>\n",
       "      <td>NaT</td>\n",
       "      <td>2016-07</td>\n",
       "      <td>207816617</td>\n",
       "      <td>mobile</td>\n",
       "      <td>NaN</td>\n",
       "      <td>23.03</td>\n",
       "      <td>apparel</td>\n",
       "      <td>T-Shirts</td>\n",
       "      <td>2016-07-22 13:06:00</td>\n",
       "      <td>net</td>\n",
       "      <td>13:06:00</td>\n",
       "      <td>13</td>\n",
       "      <td>22/7/16</td>\n",
       "      <td>7</td>\n",
       "      <td>4</td>\n",
       "      <td>NaN</td>\n",
       "    </tr>\n",
       "    <tr>\n",
       "      <th>3</th>\n",
       "      <td>2.13795E+14</td>\n",
       "      <td>male</td>\n",
       "      <td>NaT</td>\n",
       "      <td>2016-07</td>\n",
       "      <td>205926117</td>\n",
       "      <td>mobile</td>\n",
       "      <td>NaN</td>\n",
       "      <td>13.93</td>\n",
       "      <td>apparel</td>\n",
       "      <td>T-Shirts</td>\n",
       "      <td>2016-02-08 00:52:00</td>\n",
       "      <td>net</td>\n",
       "      <td>00:52:00</td>\n",
       "      <td>0</td>\n",
       "      <td>2/8/16</td>\n",
       "      <td>2</td>\n",
       "      <td>0</td>\n",
       "      <td>NaN</td>\n",
       "    </tr>\n",
       "    <tr>\n",
       "      <th>4</th>\n",
       "      <td>2.13795E+14</td>\n",
       "      <td>male</td>\n",
       "      <td>NaT</td>\n",
       "      <td>2016-07</td>\n",
       "      <td>508943717</td>\n",
       "      <td>NaN</td>\n",
       "      <td>NaN</td>\n",
       "      <td>14.02</td>\n",
       "      <td>apparel</td>\n",
       "      <td>Shorts</td>\n",
       "      <td>2016-07-30 11:07:00</td>\n",
       "      <td>net</td>\n",
       "      <td>11:07:00</td>\n",
       "      <td>11</td>\n",
       "      <td>30/7/16</td>\n",
       "      <td>7</td>\n",
       "      <td>5</td>\n",
       "      <td>NaN</td>\n",
       "    </tr>\n",
       "    <tr>\n",
       "      <th>5</th>\n",
       "      <td>2.13795E+14</td>\n",
       "      <td>male</td>\n",
       "      <td>NaT</td>\n",
       "      <td>2016-07</td>\n",
       "      <td>205926117</td>\n",
       "      <td>mobile</td>\n",
       "      <td>NaN</td>\n",
       "      <td>13.93</td>\n",
       "      <td>apparel</td>\n",
       "      <td>T-Shirts</td>\n",
       "      <td>2016-02-08 00:52:00</td>\n",
       "      <td>net</td>\n",
       "      <td>00:52:00</td>\n",
       "      <td>0</td>\n",
       "      <td>2/8/16</td>\n",
       "      <td>2</td>\n",
       "      <td>0</td>\n",
       "      <td>NaN</td>\n",
       "    </tr>\n",
       "  </tbody>\n",
       "</table>\n",
       "</div>"
      ],
      "text/plain": [
       "          zuid gender birthday   cohort   order_nr environment voucher_code  \\\n",
       "1  2.13795E+14   male      NaT  2016-07  205926117      mobile          NaN   \n",
       "2  2.13795E+14   male      NaT  2016-07  207816617      mobile          NaN   \n",
       "3  2.13795E+14   male      NaT  2016-07  205926117      mobile          NaN   \n",
       "4  2.13795E+14   male      NaT  2016-07  508943717         NaN          NaN   \n",
       "5  2.13795E+14   male      NaT  2016-07  205926117      mobile          NaN   \n",
       "\n",
       "   order_value category sub_category    order_created_at order_status  \\\n",
       "1        27.10  apparel       Shirts 2016-02-08 00:52:00          net   \n",
       "2        23.03  apparel     T-Shirts 2016-07-22 13:06:00          net   \n",
       "3        13.93  apparel     T-Shirts 2016-02-08 00:52:00          net   \n",
       "4        14.02  apparel       Shorts 2016-07-30 11:07:00          net   \n",
       "5        13.93  apparel     T-Shirts 2016-02-08 00:52:00          net   \n",
       "\n",
       "  order_time  order_hour order_year_mth  order_month  order_day  age  \n",
       "1   00:52:00           0        2/8/16             2          0  NaN  \n",
       "2   13:06:00          13        22/7/16            7          4  NaN  \n",
       "3   00:52:00           0        2/8/16             2          0  NaN  \n",
       "4   11:07:00          11        30/7/16            7          5  NaN  \n",
       "5   00:52:00           0        2/8/16             2          0  NaN  "
      ]
     },
     "execution_count": 108,
     "metadata": {},
     "output_type": "execute_result"
    }
   ],
   "source": [
    "# Check the dataset\n",
    "df.head()"
   ]
  },
  {
   "cell_type": "code",
   "execution_count": 9,
   "metadata": {},
   "outputs": [],
   "source": [
    "# Now, we can drop the 'error' column\n",
    "df.drop('error', axis=1, inplace=True)"
   ]
  },
  {
   "cell_type": "markdown",
   "metadata": {},
   "source": [
    "### Standardise NA values to np.nan"
   ]
  },
  {
   "cell_type": "code",
   "execution_count": 10,
   "metadata": {},
   "outputs": [],
   "source": [
    "# Replace irregular null values with np.nan \n",
    "faulty_values = ['(null)', 'nan']\n",
    "df.replace(faulty_values, np.nan, inplace=True)"
   ]
  },
  {
   "cell_type": "code",
   "execution_count": 107,
   "metadata": {
    "scrolled": true
   },
   "outputs": [
    {
     "data": {
      "text/html": [
       "<div>\n",
       "<style scoped>\n",
       "    .dataframe tbody tr th:only-of-type {\n",
       "        vertical-align: middle;\n",
       "    }\n",
       "\n",
       "    .dataframe tbody tr th {\n",
       "        vertical-align: top;\n",
       "    }\n",
       "\n",
       "    .dataframe thead th {\n",
       "        text-align: right;\n",
       "    }\n",
       "</style>\n",
       "<table border=\"1\" class=\"dataframe\">\n",
       "  <thead>\n",
       "    <tr style=\"text-align: right;\">\n",
       "      <th></th>\n",
       "      <th>zuid</th>\n",
       "      <th>gender</th>\n",
       "      <th>birthday</th>\n",
       "      <th>cohort</th>\n",
       "      <th>order_nr</th>\n",
       "      <th>environment</th>\n",
       "      <th>voucher_code</th>\n",
       "      <th>order_value</th>\n",
       "      <th>category</th>\n",
       "      <th>sub_category</th>\n",
       "      <th>order_created_at</th>\n",
       "      <th>order_status</th>\n",
       "      <th>order_time</th>\n",
       "      <th>order_hour</th>\n",
       "      <th>order_year_mth</th>\n",
       "      <th>order_month</th>\n",
       "      <th>order_day</th>\n",
       "      <th>age</th>\n",
       "    </tr>\n",
       "  </thead>\n",
       "  <tbody>\n",
       "    <tr>\n",
       "      <th>1</th>\n",
       "      <td>2.13795E+14</td>\n",
       "      <td>male</td>\n",
       "      <td>NaT</td>\n",
       "      <td>2016-07</td>\n",
       "      <td>205926117</td>\n",
       "      <td>mobile</td>\n",
       "      <td>NaN</td>\n",
       "      <td>27.10</td>\n",
       "      <td>apparel</td>\n",
       "      <td>Shirts</td>\n",
       "      <td>2016-02-08 00:52:00</td>\n",
       "      <td>net</td>\n",
       "      <td>00:52:00</td>\n",
       "      <td>0</td>\n",
       "      <td>2/8/16</td>\n",
       "      <td>2</td>\n",
       "      <td>0</td>\n",
       "      <td>NaN</td>\n",
       "    </tr>\n",
       "    <tr>\n",
       "      <th>2</th>\n",
       "      <td>2.13795E+14</td>\n",
       "      <td>male</td>\n",
       "      <td>NaT</td>\n",
       "      <td>2016-07</td>\n",
       "      <td>207816617</td>\n",
       "      <td>mobile</td>\n",
       "      <td>NaN</td>\n",
       "      <td>23.03</td>\n",
       "      <td>apparel</td>\n",
       "      <td>T-Shirts</td>\n",
       "      <td>2016-07-22 13:06:00</td>\n",
       "      <td>net</td>\n",
       "      <td>13:06:00</td>\n",
       "      <td>13</td>\n",
       "      <td>22/7/16</td>\n",
       "      <td>7</td>\n",
       "      <td>4</td>\n",
       "      <td>NaN</td>\n",
       "    </tr>\n",
       "    <tr>\n",
       "      <th>3</th>\n",
       "      <td>2.13795E+14</td>\n",
       "      <td>male</td>\n",
       "      <td>NaT</td>\n",
       "      <td>2016-07</td>\n",
       "      <td>205926117</td>\n",
       "      <td>mobile</td>\n",
       "      <td>NaN</td>\n",
       "      <td>13.93</td>\n",
       "      <td>apparel</td>\n",
       "      <td>T-Shirts</td>\n",
       "      <td>2016-02-08 00:52:00</td>\n",
       "      <td>net</td>\n",
       "      <td>00:52:00</td>\n",
       "      <td>0</td>\n",
       "      <td>2/8/16</td>\n",
       "      <td>2</td>\n",
       "      <td>0</td>\n",
       "      <td>NaN</td>\n",
       "    </tr>\n",
       "    <tr>\n",
       "      <th>4</th>\n",
       "      <td>2.13795E+14</td>\n",
       "      <td>male</td>\n",
       "      <td>NaT</td>\n",
       "      <td>2016-07</td>\n",
       "      <td>508943717</td>\n",
       "      <td>NaN</td>\n",
       "      <td>NaN</td>\n",
       "      <td>14.02</td>\n",
       "      <td>apparel</td>\n",
       "      <td>Shorts</td>\n",
       "      <td>2016-07-30 11:07:00</td>\n",
       "      <td>net</td>\n",
       "      <td>11:07:00</td>\n",
       "      <td>11</td>\n",
       "      <td>30/7/16</td>\n",
       "      <td>7</td>\n",
       "      <td>5</td>\n",
       "      <td>NaN</td>\n",
       "    </tr>\n",
       "    <tr>\n",
       "      <th>5</th>\n",
       "      <td>2.13795E+14</td>\n",
       "      <td>male</td>\n",
       "      <td>NaT</td>\n",
       "      <td>2016-07</td>\n",
       "      <td>205926117</td>\n",
       "      <td>mobile</td>\n",
       "      <td>NaN</td>\n",
       "      <td>13.93</td>\n",
       "      <td>apparel</td>\n",
       "      <td>T-Shirts</td>\n",
       "      <td>2016-02-08 00:52:00</td>\n",
       "      <td>net</td>\n",
       "      <td>00:52:00</td>\n",
       "      <td>0</td>\n",
       "      <td>2/8/16</td>\n",
       "      <td>2</td>\n",
       "      <td>0</td>\n",
       "      <td>NaN</td>\n",
       "    </tr>\n",
       "  </tbody>\n",
       "</table>\n",
       "</div>"
      ],
      "text/plain": [
       "          zuid gender birthday   cohort   order_nr environment voucher_code  \\\n",
       "1  2.13795E+14   male      NaT  2016-07  205926117      mobile          NaN   \n",
       "2  2.13795E+14   male      NaT  2016-07  207816617      mobile          NaN   \n",
       "3  2.13795E+14   male      NaT  2016-07  205926117      mobile          NaN   \n",
       "4  2.13795E+14   male      NaT  2016-07  508943717         NaN          NaN   \n",
       "5  2.13795E+14   male      NaT  2016-07  205926117      mobile          NaN   \n",
       "\n",
       "   order_value category sub_category    order_created_at order_status  \\\n",
       "1        27.10  apparel       Shirts 2016-02-08 00:52:00          net   \n",
       "2        23.03  apparel     T-Shirts 2016-07-22 13:06:00          net   \n",
       "3        13.93  apparel     T-Shirts 2016-02-08 00:52:00          net   \n",
       "4        14.02  apparel       Shorts 2016-07-30 11:07:00          net   \n",
       "5        13.93  apparel     T-Shirts 2016-02-08 00:52:00          net   \n",
       "\n",
       "  order_time  order_hour order_year_mth  order_month  order_day  age  \n",
       "1   00:52:00           0        2/8/16             2          0  NaN  \n",
       "2   13:06:00          13        22/7/16            7          4  NaN  \n",
       "3   00:52:00           0        2/8/16             2          0  NaN  \n",
       "4   11:07:00          11        30/7/16            7          5  NaN  \n",
       "5   00:52:00           0        2/8/16             2          0  NaN  "
      ]
     },
     "execution_count": 107,
     "metadata": {},
     "output_type": "execute_result"
    }
   ],
   "source": [
    "df.head()"
   ]
  },
  {
   "cell_type": "code",
   "execution_count": 12,
   "metadata": {},
   "outputs": [
    {
     "data": {
      "text/plain": [
       "zuid                     0\n",
       "gender                1862\n",
       "birthday            345425\n",
       "cohort                   0\n",
       "order_nr                 0\n",
       "environment          19311\n",
       "voucher_code        558431\n",
       "order_value              0\n",
       "category             22515\n",
       "sub_category           132\n",
       "order_created_at         0\n",
       "order_status             0\n",
       "dtype: int64"
      ]
     },
     "execution_count": 12,
     "metadata": {},
     "output_type": "execute_result"
    }
   ],
   "source": [
    "# Check number of na values in each column:\n",
    "df.isna().sum()"
   ]
  },
  {
   "cell_type": "markdown",
   "metadata": {},
   "source": [
    "### Convert datatypes"
   ]
  },
  {
   "cell_type": "code",
   "execution_count": 13,
   "metadata": {},
   "outputs": [],
   "source": [
    "# Convert datatypes for columns, and assign it back to the column since the astype() function only returns a copy.\n",
    "df['order_value'] = df['order_value'].astype(float)\n",
    "df['birthday'] = pd.to_datetime(df['birthday'])"
   ]
  },
  {
   "cell_type": "code",
   "execution_count": 14,
   "metadata": {},
   "outputs": [
    {
     "name": "stdout",
     "output_type": "stream",
     "text": [
      "<class 'pandas.core.frame.DataFrame'>\n",
      "Int64Index: 929476 entries, 1 to 929476\n",
      "Data columns (total 12 columns):\n",
      " #   Column            Non-Null Count   Dtype         \n",
      "---  ------            --------------   -----         \n",
      " 0   zuid              929476 non-null  object        \n",
      " 1   gender            927614 non-null  object        \n",
      " 2   birthday          584051 non-null  datetime64[ns]\n",
      " 3   cohort            929476 non-null  object        \n",
      " 4   order_nr          929476 non-null  object        \n",
      " 5   environment       910165 non-null  object        \n",
      " 6   voucher_code      371045 non-null  object        \n",
      " 7   order_value       929476 non-null  float64       \n",
      " 8   category          906961 non-null  object        \n",
      " 9   sub_category      929344 non-null  object        \n",
      " 10  order_created_at  929476 non-null  object        \n",
      " 11  order_status      929476 non-null  object        \n",
      "dtypes: datetime64[ns](1), float64(1), object(10)\n",
      "memory usage: 92.2+ MB\n"
     ]
    }
   ],
   "source": [
    "df.info()"
   ]
  },
  {
   "cell_type": "markdown",
   "metadata": {},
   "source": [
    "### Create new date/time columns"
   ]
  },
  {
   "cell_type": "code",
   "execution_count": 15,
   "metadata": {},
   "outputs": [],
   "source": [
    "# Extract out order time\n",
    "df['order_time'] = pd.to_datetime(df['order_created_at']).dt.time"
   ]
  },
  {
   "cell_type": "code",
   "execution_count": 16,
   "metadata": {},
   "outputs": [],
   "source": [
    "# Extract hour\n",
    "df['order_hour'] = pd.to_datetime(df['order_time'], format='%H:%M:%S').dt.hour"
   ]
  },
  {
   "cell_type": "code",
   "execution_count": 17,
   "metadata": {},
   "outputs": [
    {
     "name": "stdout",
     "output_type": "stream",
     "text": [
      "<class 'pandas.core.frame.DataFrame'>\n",
      "Int64Index: 929476 entries, 1 to 929476\n",
      "Data columns (total 14 columns):\n",
      " #   Column            Non-Null Count   Dtype         \n",
      "---  ------            --------------   -----         \n",
      " 0   zuid              929476 non-null  object        \n",
      " 1   gender            927614 non-null  object        \n",
      " 2   birthday          584051 non-null  datetime64[ns]\n",
      " 3   cohort            929476 non-null  object        \n",
      " 4   order_nr          929476 non-null  object        \n",
      " 5   environment       910165 non-null  object        \n",
      " 6   voucher_code      371045 non-null  object        \n",
      " 7   order_value       929476 non-null  float64       \n",
      " 8   category          906961 non-null  object        \n",
      " 9   sub_category      929344 non-null  object        \n",
      " 10  order_created_at  929476 non-null  object        \n",
      " 11  order_status      929476 non-null  object        \n",
      " 12  order_time        929476 non-null  object        \n",
      " 13  order_hour        929476 non-null  int64         \n",
      "dtypes: datetime64[ns](1), float64(1), int64(1), object(11)\n",
      "memory usage: 106.4+ MB\n"
     ]
    }
   ],
   "source": [
    "df.info()"
   ]
  },
  {
   "cell_type": "code",
   "execution_count": 18,
   "metadata": {},
   "outputs": [],
   "source": [
    "# Extract out YYYY-MM of order\n",
    "df['order_year_mth'] = df['order_created_at'].str[0:7]"
   ]
  },
  {
   "cell_type": "code",
   "execution_count": 19,
   "metadata": {},
   "outputs": [],
   "source": [
    "# Convert to datetime dtype\n",
    "df['order_created_at'] = pd.to_datetime(df['order_created_at'])"
   ]
  },
  {
   "cell_type": "code",
   "execution_count": 20,
   "metadata": {},
   "outputs": [],
   "source": [
    "# Extract out the month \n",
    "# code is different from the others above because we have already converted order_created_at to datetime format\n",
    "df['order_month'] = df.order_created_at.dt.month"
   ]
  },
  {
   "cell_type": "code",
   "execution_count": 21,
   "metadata": {},
   "outputs": [],
   "source": [
    "# Extract day of week\n",
    "df['order_day'] = df['order_created_at'].dt.dayofweek  # Monday=0, Sunday=6"
   ]
  },
  {
   "cell_type": "code",
   "execution_count": 109,
   "metadata": {},
   "outputs": [
    {
     "data": {
      "text/html": [
       "<div>\n",
       "<style scoped>\n",
       "    .dataframe tbody tr th:only-of-type {\n",
       "        vertical-align: middle;\n",
       "    }\n",
       "\n",
       "    .dataframe tbody tr th {\n",
       "        vertical-align: top;\n",
       "    }\n",
       "\n",
       "    .dataframe thead th {\n",
       "        text-align: right;\n",
       "    }\n",
       "</style>\n",
       "<table border=\"1\" class=\"dataframe\">\n",
       "  <thead>\n",
       "    <tr style=\"text-align: right;\">\n",
       "      <th></th>\n",
       "      <th>zuid</th>\n",
       "      <th>gender</th>\n",
       "      <th>birthday</th>\n",
       "      <th>cohort</th>\n",
       "      <th>order_nr</th>\n",
       "      <th>environment</th>\n",
       "      <th>voucher_code</th>\n",
       "      <th>order_value</th>\n",
       "      <th>category</th>\n",
       "      <th>sub_category</th>\n",
       "      <th>order_created_at</th>\n",
       "      <th>order_status</th>\n",
       "      <th>order_time</th>\n",
       "      <th>order_hour</th>\n",
       "      <th>order_year_mth</th>\n",
       "      <th>order_month</th>\n",
       "      <th>order_day</th>\n",
       "      <th>age</th>\n",
       "    </tr>\n",
       "  </thead>\n",
       "  <tbody>\n",
       "    <tr>\n",
       "      <th>1</th>\n",
       "      <td>2.13795E+14</td>\n",
       "      <td>male</td>\n",
       "      <td>NaT</td>\n",
       "      <td>2016-07</td>\n",
       "      <td>205926117</td>\n",
       "      <td>mobile</td>\n",
       "      <td>NaN</td>\n",
       "      <td>27.10</td>\n",
       "      <td>apparel</td>\n",
       "      <td>Shirts</td>\n",
       "      <td>2016-02-08 00:52:00</td>\n",
       "      <td>net</td>\n",
       "      <td>00:52:00</td>\n",
       "      <td>0</td>\n",
       "      <td>2/8/16</td>\n",
       "      <td>2</td>\n",
       "      <td>0</td>\n",
       "      <td>NaN</td>\n",
       "    </tr>\n",
       "    <tr>\n",
       "      <th>2</th>\n",
       "      <td>2.13795E+14</td>\n",
       "      <td>male</td>\n",
       "      <td>NaT</td>\n",
       "      <td>2016-07</td>\n",
       "      <td>207816617</td>\n",
       "      <td>mobile</td>\n",
       "      <td>NaN</td>\n",
       "      <td>23.03</td>\n",
       "      <td>apparel</td>\n",
       "      <td>T-Shirts</td>\n",
       "      <td>2016-07-22 13:06:00</td>\n",
       "      <td>net</td>\n",
       "      <td>13:06:00</td>\n",
       "      <td>13</td>\n",
       "      <td>22/7/16</td>\n",
       "      <td>7</td>\n",
       "      <td>4</td>\n",
       "      <td>NaN</td>\n",
       "    </tr>\n",
       "    <tr>\n",
       "      <th>3</th>\n",
       "      <td>2.13795E+14</td>\n",
       "      <td>male</td>\n",
       "      <td>NaT</td>\n",
       "      <td>2016-07</td>\n",
       "      <td>205926117</td>\n",
       "      <td>mobile</td>\n",
       "      <td>NaN</td>\n",
       "      <td>13.93</td>\n",
       "      <td>apparel</td>\n",
       "      <td>T-Shirts</td>\n",
       "      <td>2016-02-08 00:52:00</td>\n",
       "      <td>net</td>\n",
       "      <td>00:52:00</td>\n",
       "      <td>0</td>\n",
       "      <td>2/8/16</td>\n",
       "      <td>2</td>\n",
       "      <td>0</td>\n",
       "      <td>NaN</td>\n",
       "    </tr>\n",
       "    <tr>\n",
       "      <th>4</th>\n",
       "      <td>2.13795E+14</td>\n",
       "      <td>male</td>\n",
       "      <td>NaT</td>\n",
       "      <td>2016-07</td>\n",
       "      <td>508943717</td>\n",
       "      <td>NaN</td>\n",
       "      <td>NaN</td>\n",
       "      <td>14.02</td>\n",
       "      <td>apparel</td>\n",
       "      <td>Shorts</td>\n",
       "      <td>2016-07-30 11:07:00</td>\n",
       "      <td>net</td>\n",
       "      <td>11:07:00</td>\n",
       "      <td>11</td>\n",
       "      <td>30/7/16</td>\n",
       "      <td>7</td>\n",
       "      <td>5</td>\n",
       "      <td>NaN</td>\n",
       "    </tr>\n",
       "    <tr>\n",
       "      <th>5</th>\n",
       "      <td>2.13795E+14</td>\n",
       "      <td>male</td>\n",
       "      <td>NaT</td>\n",
       "      <td>2016-07</td>\n",
       "      <td>205926117</td>\n",
       "      <td>mobile</td>\n",
       "      <td>NaN</td>\n",
       "      <td>13.93</td>\n",
       "      <td>apparel</td>\n",
       "      <td>T-Shirts</td>\n",
       "      <td>2016-02-08 00:52:00</td>\n",
       "      <td>net</td>\n",
       "      <td>00:52:00</td>\n",
       "      <td>0</td>\n",
       "      <td>2/8/16</td>\n",
       "      <td>2</td>\n",
       "      <td>0</td>\n",
       "      <td>NaN</td>\n",
       "    </tr>\n",
       "  </tbody>\n",
       "</table>\n",
       "</div>"
      ],
      "text/plain": [
       "          zuid gender birthday   cohort   order_nr environment voucher_code  \\\n",
       "1  2.13795E+14   male      NaT  2016-07  205926117      mobile          NaN   \n",
       "2  2.13795E+14   male      NaT  2016-07  207816617      mobile          NaN   \n",
       "3  2.13795E+14   male      NaT  2016-07  205926117      mobile          NaN   \n",
       "4  2.13795E+14   male      NaT  2016-07  508943717         NaN          NaN   \n",
       "5  2.13795E+14   male      NaT  2016-07  205926117      mobile          NaN   \n",
       "\n",
       "   order_value category sub_category    order_created_at order_status  \\\n",
       "1        27.10  apparel       Shirts 2016-02-08 00:52:00          net   \n",
       "2        23.03  apparel     T-Shirts 2016-07-22 13:06:00          net   \n",
       "3        13.93  apparel     T-Shirts 2016-02-08 00:52:00          net   \n",
       "4        14.02  apparel       Shorts 2016-07-30 11:07:00          net   \n",
       "5        13.93  apparel     T-Shirts 2016-02-08 00:52:00          net   \n",
       "\n",
       "  order_time  order_hour order_year_mth  order_month  order_day  age  \n",
       "1   00:52:00           0        2/8/16             2          0  NaN  \n",
       "2   13:06:00          13        22/7/16            7          4  NaN  \n",
       "3   00:52:00           0        2/8/16             2          0  NaN  \n",
       "4   11:07:00          11        30/7/16            7          5  NaN  \n",
       "5   00:52:00           0        2/8/16             2          0  NaN  "
      ]
     },
     "execution_count": 109,
     "metadata": {},
     "output_type": "execute_result"
    }
   ],
   "source": [
    "df.head()"
   ]
  },
  {
   "cell_type": "code",
   "execution_count": 23,
   "metadata": {},
   "outputs": [
    {
     "name": "stdout",
     "output_type": "stream",
     "text": [
      "<class 'pandas.core.frame.DataFrame'>\n",
      "Int64Index: 929476 entries, 1 to 929476\n",
      "Data columns (total 17 columns):\n",
      " #   Column            Non-Null Count   Dtype         \n",
      "---  ------            --------------   -----         \n",
      " 0   zuid              929476 non-null  object        \n",
      " 1   gender            927614 non-null  object        \n",
      " 2   birthday          584051 non-null  datetime64[ns]\n",
      " 3   cohort            929476 non-null  object        \n",
      " 4   order_nr          929476 non-null  object        \n",
      " 5   environment       910165 non-null  object        \n",
      " 6   voucher_code      371045 non-null  object        \n",
      " 7   order_value       929476 non-null  float64       \n",
      " 8   category          906961 non-null  object        \n",
      " 9   sub_category      929344 non-null  object        \n",
      " 10  order_created_at  929476 non-null  datetime64[ns]\n",
      " 11  order_status      929476 non-null  object        \n",
      " 12  order_time        929476 non-null  object        \n",
      " 13  order_hour        929476 non-null  int64         \n",
      " 14  order_year_mth    929476 non-null  object        \n",
      " 15  order_month       929476 non-null  int64         \n",
      " 16  order_day         929476 non-null  int64         \n",
      "dtypes: datetime64[ns](2), float64(1), int64(3), object(11)\n",
      "memory usage: 127.6+ MB\n"
     ]
    }
   ],
   "source": [
    "df.info()"
   ]
  },
  {
   "cell_type": "markdown",
   "metadata": {},
   "source": [
    "### Update values in 'environment' column"
   ]
  },
  {
   "cell_type": "code",
   "execution_count": 24,
   "metadata": {},
   "outputs": [
    {
     "data": {
      "text/plain": [
       "array(['mobileTheme', nan, 'iosApp', 'desktop', 'tabletTheme',\n",
       "       'androidApp'], dtype=object)"
      ]
     },
     "execution_count": 24,
     "metadata": {},
     "output_type": "execute_result"
    }
   ],
   "source": [
    "df.environment.unique()"
   ]
  },
  {
   "cell_type": "markdown",
   "metadata": {},
   "source": [
    "For easier analysis, I will combine 'mobileTheme', 'iosApp', and 'androidApp' together under 'mobile'."
   ]
  },
  {
   "cell_type": "code",
   "execution_count": 25,
   "metadata": {},
   "outputs": [
    {
     "data": {
      "text/plain": [
       "array(['mobile', nan, 'desktop', 'tablet'], dtype=object)"
      ]
     },
     "execution_count": 25,
     "metadata": {},
     "output_type": "execute_result"
    }
   ],
   "source": [
    "# Lump 'mobileTheme', 'iosApp', and 'androidApp' together under 'mobile'\n",
    "df.replace({'environment': {'mobileTheme':'mobile', 'iosApp':'mobile', 'androidApp':'mobile'}}, inplace=True)\n",
    "\n",
    "# Rename 'tabletTheme' to 'tablet'\n",
    "df.environment.replace('tabletTheme', 'tablet', inplace=True)\n",
    "\n",
    "df.environment.unique()"
   ]
  },
  {
   "cell_type": "markdown",
   "metadata": {},
   "source": [
    "# Exploratory Data Analysis"
   ]
  },
  {
   "cell_type": "code",
   "execution_count": 26,
   "metadata": {},
   "outputs": [
    {
     "data": {
      "text/html": [
       "<div>\n",
       "<style scoped>\n",
       "    .dataframe tbody tr th:only-of-type {\n",
       "        vertical-align: middle;\n",
       "    }\n",
       "\n",
       "    .dataframe tbody tr th {\n",
       "        vertical-align: top;\n",
       "    }\n",
       "\n",
       "    .dataframe thead th {\n",
       "        text-align: right;\n",
       "    }\n",
       "</style>\n",
       "<table border=\"1\" class=\"dataframe\">\n",
       "  <thead>\n",
       "    <tr style=\"text-align: right;\">\n",
       "      <th></th>\n",
       "      <th>zuid</th>\n",
       "      <th>gender</th>\n",
       "      <th>birthday</th>\n",
       "      <th>cohort</th>\n",
       "      <th>order_nr</th>\n",
       "      <th>environment</th>\n",
       "      <th>voucher_code</th>\n",
       "      <th>order_value</th>\n",
       "      <th>category</th>\n",
       "      <th>sub_category</th>\n",
       "      <th>order_created_at</th>\n",
       "      <th>order_status</th>\n",
       "      <th>order_time</th>\n",
       "      <th>order_hour</th>\n",
       "      <th>order_year_mth</th>\n",
       "      <th>order_month</th>\n",
       "      <th>order_day</th>\n",
       "    </tr>\n",
       "  </thead>\n",
       "  <tbody>\n",
       "    <tr>\n",
       "      <th>1</th>\n",
       "      <td>2.13795E+14</td>\n",
       "      <td>male</td>\n",
       "      <td>NaT</td>\n",
       "      <td>2016-07</td>\n",
       "      <td>205926117</td>\n",
       "      <td>mobile</td>\n",
       "      <td>NaN</td>\n",
       "      <td>27.10</td>\n",
       "      <td>apparel</td>\n",
       "      <td>Shirts</td>\n",
       "      <td>2016-02-08 00:52:00</td>\n",
       "      <td>net</td>\n",
       "      <td>00:52:00</td>\n",
       "      <td>0</td>\n",
       "      <td>2/8/16</td>\n",
       "      <td>2</td>\n",
       "      <td>0</td>\n",
       "    </tr>\n",
       "    <tr>\n",
       "      <th>2</th>\n",
       "      <td>2.13795E+14</td>\n",
       "      <td>male</td>\n",
       "      <td>NaT</td>\n",
       "      <td>2016-07</td>\n",
       "      <td>207816617</td>\n",
       "      <td>mobile</td>\n",
       "      <td>NaN</td>\n",
       "      <td>23.03</td>\n",
       "      <td>apparel</td>\n",
       "      <td>T-Shirts</td>\n",
       "      <td>2016-07-22 13:06:00</td>\n",
       "      <td>net</td>\n",
       "      <td>13:06:00</td>\n",
       "      <td>13</td>\n",
       "      <td>22/7/16</td>\n",
       "      <td>7</td>\n",
       "      <td>4</td>\n",
       "    </tr>\n",
       "    <tr>\n",
       "      <th>3</th>\n",
       "      <td>2.13795E+14</td>\n",
       "      <td>male</td>\n",
       "      <td>NaT</td>\n",
       "      <td>2016-07</td>\n",
       "      <td>205926117</td>\n",
       "      <td>mobile</td>\n",
       "      <td>NaN</td>\n",
       "      <td>13.93</td>\n",
       "      <td>apparel</td>\n",
       "      <td>T-Shirts</td>\n",
       "      <td>2016-02-08 00:52:00</td>\n",
       "      <td>net</td>\n",
       "      <td>00:52:00</td>\n",
       "      <td>0</td>\n",
       "      <td>2/8/16</td>\n",
       "      <td>2</td>\n",
       "      <td>0</td>\n",
       "    </tr>\n",
       "    <tr>\n",
       "      <th>4</th>\n",
       "      <td>2.13795E+14</td>\n",
       "      <td>male</td>\n",
       "      <td>NaT</td>\n",
       "      <td>2016-07</td>\n",
       "      <td>508943717</td>\n",
       "      <td>NaN</td>\n",
       "      <td>NaN</td>\n",
       "      <td>14.02</td>\n",
       "      <td>apparel</td>\n",
       "      <td>Shorts</td>\n",
       "      <td>2016-07-30 11:07:00</td>\n",
       "      <td>net</td>\n",
       "      <td>11:07:00</td>\n",
       "      <td>11</td>\n",
       "      <td>30/7/16</td>\n",
       "      <td>7</td>\n",
       "      <td>5</td>\n",
       "    </tr>\n",
       "    <tr>\n",
       "      <th>5</th>\n",
       "      <td>2.13795E+14</td>\n",
       "      <td>male</td>\n",
       "      <td>NaT</td>\n",
       "      <td>2016-07</td>\n",
       "      <td>205926117</td>\n",
       "      <td>mobile</td>\n",
       "      <td>NaN</td>\n",
       "      <td>13.93</td>\n",
       "      <td>apparel</td>\n",
       "      <td>T-Shirts</td>\n",
       "      <td>2016-02-08 00:52:00</td>\n",
       "      <td>net</td>\n",
       "      <td>00:52:00</td>\n",
       "      <td>0</td>\n",
       "      <td>2/8/16</td>\n",
       "      <td>2</td>\n",
       "      <td>0</td>\n",
       "    </tr>\n",
       "  </tbody>\n",
       "</table>\n",
       "</div>"
      ],
      "text/plain": [
       "          zuid gender birthday   cohort   order_nr environment voucher_code  \\\n",
       "1  2.13795E+14   male      NaT  2016-07  205926117      mobile          NaN   \n",
       "2  2.13795E+14   male      NaT  2016-07  207816617      mobile          NaN   \n",
       "3  2.13795E+14   male      NaT  2016-07  205926117      mobile          NaN   \n",
       "4  2.13795E+14   male      NaT  2016-07  508943717         NaN          NaN   \n",
       "5  2.13795E+14   male      NaT  2016-07  205926117      mobile          NaN   \n",
       "\n",
       "   order_value category sub_category    order_created_at order_status  \\\n",
       "1        27.10  apparel       Shirts 2016-02-08 00:52:00          net   \n",
       "2        23.03  apparel     T-Shirts 2016-07-22 13:06:00          net   \n",
       "3        13.93  apparel     T-Shirts 2016-02-08 00:52:00          net   \n",
       "4        14.02  apparel       Shorts 2016-07-30 11:07:00          net   \n",
       "5        13.93  apparel     T-Shirts 2016-02-08 00:52:00          net   \n",
       "\n",
       "  order_time  order_hour order_year_mth  order_month  order_day  \n",
       "1   00:52:00           0        2/8/16             2          0  \n",
       "2   13:06:00          13        22/7/16            7          4  \n",
       "3   00:52:00           0        2/8/16             2          0  \n",
       "4   11:07:00          11        30/7/16            7          5  \n",
       "5   00:52:00           0        2/8/16             2          0  "
      ]
     },
     "execution_count": 26,
     "metadata": {},
     "output_type": "execute_result"
    }
   ],
   "source": [
    "df.head()"
   ]
  },
  {
   "cell_type": "code",
   "execution_count": 27,
   "metadata": {},
   "outputs": [
    {
     "name": "stdout",
     "output_type": "stream",
     "text": [
      "Number of customers: 1192\n",
      "Number of successful orders:  326618\n"
     ]
    }
   ],
   "source": [
    "print(\"Number of customers:\", df['zuid'].nunique())\n",
    "print(\"Number of successful orders: \", df['order_nr'].nunique())"
   ]
  },
  {
   "cell_type": "markdown",
   "metadata": {},
   "source": [
    "### Percentage of successful orders"
   ]
  },
  {
   "cell_type": "code",
   "execution_count": 28,
   "metadata": {},
   "outputs": [],
   "source": [
    "df_order_stat = df.groupby('order_status', as_index=False).agg({'order_nr': pd.Series.nunique})"
   ]
  },
  {
   "cell_type": "code",
   "execution_count": 29,
   "metadata": {},
   "outputs": [
    {
     "data": {
      "text/html": [
       "<div>\n",
       "<style scoped>\n",
       "    .dataframe tbody tr th:only-of-type {\n",
       "        vertical-align: middle;\n",
       "    }\n",
       "\n",
       "    .dataframe tbody tr th {\n",
       "        vertical-align: top;\n",
       "    }\n",
       "\n",
       "    .dataframe thead th {\n",
       "        text-align: right;\n",
       "    }\n",
       "</style>\n",
       "<table border=\"1\" class=\"dataframe\">\n",
       "  <thead>\n",
       "    <tr style=\"text-align: right;\">\n",
       "      <th></th>\n",
       "      <th>order_status</th>\n",
       "      <th>order_nr</th>\n",
       "    </tr>\n",
       "  </thead>\n",
       "  <tbody>\n",
       "    <tr>\n",
       "      <th>0</th>\n",
       "      <td>1/1/16 22:22</td>\n",
       "      <td>1</td>\n",
       "    </tr>\n",
       "    <tr>\n",
       "      <th>1</th>\n",
       "      <td>1/1/16 22:23</td>\n",
       "      <td>1</td>\n",
       "    </tr>\n",
       "    <tr>\n",
       "      <th>2</th>\n",
       "      <td>1/1/16 22:24</td>\n",
       "      <td>1</td>\n",
       "    </tr>\n",
       "    <tr>\n",
       "      <th>3</th>\n",
       "      <td>1/1/16 22:25</td>\n",
       "      <td>1</td>\n",
       "    </tr>\n",
       "    <tr>\n",
       "      <th>4</th>\n",
       "      <td>1/1/16 22:26</td>\n",
       "      <td>1</td>\n",
       "    </tr>\n",
       "    <tr>\n",
       "      <th>...</th>\n",
       "      <td>...</td>\n",
       "      <td>...</td>\n",
       "    </tr>\n",
       "    <tr>\n",
       "      <th>7883</th>\n",
       "      <td>canceled</td>\n",
       "      <td>12557</td>\n",
       "    </tr>\n",
       "    <tr>\n",
       "      <th>7884</th>\n",
       "      <td>invalid</td>\n",
       "      <td>25468</td>\n",
       "    </tr>\n",
       "    <tr>\n",
       "      <th>7885</th>\n",
       "      <td>net</td>\n",
       "      <td>267262</td>\n",
       "    </tr>\n",
       "    <tr>\n",
       "      <th>7886</th>\n",
       "      <td>rejected</td>\n",
       "      <td>3834</td>\n",
       "    </tr>\n",
       "    <tr>\n",
       "      <th>7887</th>\n",
       "      <td>returned</td>\n",
       "      <td>73453</td>\n",
       "    </tr>\n",
       "  </tbody>\n",
       "</table>\n",
       "<p>7888 rows × 2 columns</p>\n",
       "</div>"
      ],
      "text/plain": [
       "      order_status  order_nr\n",
       "0     1/1/16 22:22         1\n",
       "1     1/1/16 22:23         1\n",
       "2     1/1/16 22:24         1\n",
       "3     1/1/16 22:25         1\n",
       "4     1/1/16 22:26         1\n",
       "...            ...       ...\n",
       "7883      canceled     12557\n",
       "7884       invalid     25468\n",
       "7885           net    267262\n",
       "7886      rejected      3834\n",
       "7887      returned     73453\n",
       "\n",
       "[7888 rows x 2 columns]"
      ]
     },
     "execution_count": 29,
     "metadata": {},
     "output_type": "execute_result"
    }
   ],
   "source": [
    "df_order_stat"
   ]
  },
  {
   "cell_type": "markdown",
   "metadata": {},
   "source": [
    "There seems to be many rows with erroneous date values in the order_status column. We will ignore those rows and focus on the ones with a proper order status. "
   ]
  },
  {
   "cell_type": "markdown",
   "metadata": {},
   "source": [
    "#### drop rows with dates"
   ]
  },
  {
   "cell_type": "code",
   "execution_count": 30,
   "metadata": {},
   "outputs": [
    {
     "data": {
      "text/html": [
       "<div>\n",
       "<style scoped>\n",
       "    .dataframe tbody tr th:only-of-type {\n",
       "        vertical-align: middle;\n",
       "    }\n",
       "\n",
       "    .dataframe tbody tr th {\n",
       "        vertical-align: top;\n",
       "    }\n",
       "\n",
       "    .dataframe thead th {\n",
       "        text-align: right;\n",
       "    }\n",
       "</style>\n",
       "<table border=\"1\" class=\"dataframe\">\n",
       "  <thead>\n",
       "    <tr style=\"text-align: right;\">\n",
       "      <th></th>\n",
       "      <th>order_status</th>\n",
       "      <th>order_nr</th>\n",
       "    </tr>\n",
       "  </thead>\n",
       "  <tbody>\n",
       "    <tr>\n",
       "      <th>0</th>\n",
       "      <td>1/1/16 22:22</td>\n",
       "      <td>1</td>\n",
       "    </tr>\n",
       "    <tr>\n",
       "      <th>1</th>\n",
       "      <td>1/1/16 22:23</td>\n",
       "      <td>1</td>\n",
       "    </tr>\n",
       "    <tr>\n",
       "      <th>2</th>\n",
       "      <td>1/1/16 22:24</td>\n",
       "      <td>1</td>\n",
       "    </tr>\n",
       "    <tr>\n",
       "      <th>3</th>\n",
       "      <td>1/1/16 22:25</td>\n",
       "      <td>1</td>\n",
       "    </tr>\n",
       "    <tr>\n",
       "      <th>4</th>\n",
       "      <td>1/1/16 22:26</td>\n",
       "      <td>1</td>\n",
       "    </tr>\n",
       "    <tr>\n",
       "      <th>...</th>\n",
       "      <td>...</td>\n",
       "      <td>...</td>\n",
       "    </tr>\n",
       "    <tr>\n",
       "      <th>7883</th>\n",
       "      <td>canceled</td>\n",
       "      <td>12557</td>\n",
       "    </tr>\n",
       "    <tr>\n",
       "      <th>7884</th>\n",
       "      <td>invalid</td>\n",
       "      <td>25468</td>\n",
       "    </tr>\n",
       "    <tr>\n",
       "      <th>7885</th>\n",
       "      <td>net</td>\n",
       "      <td>267262</td>\n",
       "    </tr>\n",
       "    <tr>\n",
       "      <th>7886</th>\n",
       "      <td>rejected</td>\n",
       "      <td>3834</td>\n",
       "    </tr>\n",
       "    <tr>\n",
       "      <th>7887</th>\n",
       "      <td>returned</td>\n",
       "      <td>73453</td>\n",
       "    </tr>\n",
       "  </tbody>\n",
       "</table>\n",
       "<p>7652 rows × 2 columns</p>\n",
       "</div>"
      ],
      "text/plain": [
       "      order_status  order_nr\n",
       "0     1/1/16 22:22         1\n",
       "1     1/1/16 22:23         1\n",
       "2     1/1/16 22:24         1\n",
       "3     1/1/16 22:25         1\n",
       "4     1/1/16 22:26         1\n",
       "...            ...       ...\n",
       "7883      canceled     12557\n",
       "7884       invalid     25468\n",
       "7885           net    267262\n",
       "7886      rejected      3834\n",
       "7887      returned     73453\n",
       "\n",
       "[7652 rows x 2 columns]"
      ]
     },
     "execution_count": 30,
     "metadata": {},
     "output_type": "execute_result"
    }
   ],
   "source": [
    "# Filter out rows with date values\n",
    "df_order_stat = df_order_stat[df_order_stat.order_status.str[0:2] != '20']\n",
    "df_order_stat"
   ]
  },
  {
   "cell_type": "code",
   "execution_count": 31,
   "metadata": {},
   "outputs": [
    {
     "data": {
      "text/plain": [
       "order_status    1/1/16 22:221/1/16 22:231/1/16 22:241/1/16 22:...\n",
       "order_nr                                                   390385\n",
       "dtype: object"
      ]
     },
     "execution_count": 31,
     "metadata": {},
     "output_type": "execute_result"
    }
   ],
   "source": [
    "# Total orders made, including unsuccessful ones\n",
    "df_order_stat.sum()"
   ]
  },
  {
   "cell_type": "code",
   "execution_count": 32,
   "metadata": {},
   "outputs": [
    {
     "data": {
      "text/plain": [
       "0.6985890311416876"
      ]
     },
     "execution_count": 32,
     "metadata": {},
     "output_type": "execute_result"
    }
   ],
   "source": [
    "# percentage of successful orders\n",
    "267262/382574"
   ]
  },
  {
   "cell_type": "markdown",
   "metadata": {},
   "source": [
    "### Keep only the successful orders for further analysis"
   ]
  },
  {
   "cell_type": "code",
   "execution_count": 33,
   "metadata": {},
   "outputs": [
    {
     "name": "stdout",
     "output_type": "stream",
     "text": [
      "<class 'pandas.core.frame.DataFrame'>\n",
      "Int64Index: 646680 entries, 1 to 929476\n",
      "Data columns (total 17 columns):\n",
      " #   Column            Non-Null Count   Dtype         \n",
      "---  ------            --------------   -----         \n",
      " 0   zuid              646680 non-null  object        \n",
      " 1   gender            645371 non-null  object        \n",
      " 2   birthday          397118 non-null  datetime64[ns]\n",
      " 3   cohort            646680 non-null  object        \n",
      " 4   order_nr          646680 non-null  object        \n",
      " 5   environment       631877 non-null  object        \n",
      " 6   voucher_code      238108 non-null  object        \n",
      " 7   order_value       646680 non-null  float64       \n",
      " 8   category          628265 non-null  object        \n",
      " 9   sub_category      646574 non-null  object        \n",
      " 10  order_created_at  646680 non-null  datetime64[ns]\n",
      " 11  order_status      646680 non-null  object        \n",
      " 12  order_time        646680 non-null  object        \n",
      " 13  order_hour        646680 non-null  int64         \n",
      " 14  order_year_mth    646680 non-null  object        \n",
      " 15  order_month       646680 non-null  int64         \n",
      " 16  order_day         646680 non-null  int64         \n",
      "dtypes: datetime64[ns](2), float64(1), int64(3), object(11)\n",
      "memory usage: 88.8+ MB\n"
     ]
    }
   ],
   "source": [
    "df = df[df.order_status == 'net']\n",
    "df.info()"
   ]
  },
  {
   "cell_type": "code",
   "execution_count": 34,
   "metadata": {},
   "outputs": [
    {
     "data": {
      "text/plain": [
       "array(['net'], dtype=object)"
      ]
     },
     "execution_count": 34,
     "metadata": {},
     "output_type": "execute_result"
    }
   ],
   "source": [
    "# check \n",
    "df.order_status.unique()"
   ]
  },
  {
   "cell_type": "code",
   "execution_count": 35,
   "metadata": {},
   "outputs": [
    {
     "data": {
      "text/html": [
       "<div>\n",
       "<style scoped>\n",
       "    .dataframe tbody tr th:only-of-type {\n",
       "        vertical-align: middle;\n",
       "    }\n",
       "\n",
       "    .dataframe tbody tr th {\n",
       "        vertical-align: top;\n",
       "    }\n",
       "\n",
       "    .dataframe thead th {\n",
       "        text-align: right;\n",
       "    }\n",
       "</style>\n",
       "<table border=\"1\" class=\"dataframe\">\n",
       "  <thead>\n",
       "    <tr style=\"text-align: right;\">\n",
       "      <th></th>\n",
       "      <th>order_value</th>\n",
       "      <th>order_hour</th>\n",
       "      <th>order_month</th>\n",
       "      <th>order_day</th>\n",
       "    </tr>\n",
       "  </thead>\n",
       "  <tbody>\n",
       "    <tr>\n",
       "      <th>count</th>\n",
       "      <td>646680.000000</td>\n",
       "      <td>646680.000000</td>\n",
       "      <td>646680.000000</td>\n",
       "      <td>646680.000000</td>\n",
       "    </tr>\n",
       "    <tr>\n",
       "      <th>mean</th>\n",
       "      <td>28.755141</td>\n",
       "      <td>14.470434</td>\n",
       "      <td>6.396055</td>\n",
       "      <td>2.950815</td>\n",
       "    </tr>\n",
       "    <tr>\n",
       "      <th>std</th>\n",
       "      <td>28.066380</td>\n",
       "      <td>6.833077</td>\n",
       "      <td>3.500032</td>\n",
       "      <td>2.035006</td>\n",
       "    </tr>\n",
       "    <tr>\n",
       "      <th>min</th>\n",
       "      <td>-24.730000</td>\n",
       "      <td>0.000000</td>\n",
       "      <td>1.000000</td>\n",
       "      <td>0.000000</td>\n",
       "    </tr>\n",
       "    <tr>\n",
       "      <th>25%</th>\n",
       "      <td>13.930000</td>\n",
       "      <td>11.000000</td>\n",
       "      <td>3.000000</td>\n",
       "      <td>1.000000</td>\n",
       "    </tr>\n",
       "    <tr>\n",
       "      <th>50%</th>\n",
       "      <td>21.660000</td>\n",
       "      <td>15.000000</td>\n",
       "      <td>6.000000</td>\n",
       "      <td>3.000000</td>\n",
       "    </tr>\n",
       "    <tr>\n",
       "      <th>75%</th>\n",
       "      <td>32.620000</td>\n",
       "      <td>21.000000</td>\n",
       "      <td>10.000000</td>\n",
       "      <td>5.000000</td>\n",
       "    </tr>\n",
       "    <tr>\n",
       "      <th>max</th>\n",
       "      <td>1316.360000</td>\n",
       "      <td>23.000000</td>\n",
       "      <td>12.000000</td>\n",
       "      <td>6.000000</td>\n",
       "    </tr>\n",
       "  </tbody>\n",
       "</table>\n",
       "</div>"
      ],
      "text/plain": [
       "         order_value     order_hour    order_month      order_day\n",
       "count  646680.000000  646680.000000  646680.000000  646680.000000\n",
       "mean       28.755141      14.470434       6.396055       2.950815\n",
       "std        28.066380       6.833077       3.500032       2.035006\n",
       "min       -24.730000       0.000000       1.000000       0.000000\n",
       "25%        13.930000      11.000000       3.000000       1.000000\n",
       "50%        21.660000      15.000000       6.000000       3.000000\n",
       "75%        32.620000      21.000000      10.000000       5.000000\n",
       "max      1316.360000      23.000000      12.000000       6.000000"
      ]
     },
     "execution_count": 35,
     "metadata": {},
     "output_type": "execute_result"
    }
   ],
   "source": [
    "df.describe()"
   ]
  },
  {
   "cell_type": "markdown",
   "metadata": {},
   "source": [
    "### Average age of Zalora's customers?"
   ]
  },
  {
   "cell_type": "code",
   "execution_count": 37,
   "metadata": {},
   "outputs": [],
   "source": [
    "# we use max order date + 1 as \"today's date\" to simulate a real-time analysis\n",
    "def calculate_age(born):\n",
    "    today = df['order_created_at'].max() + timedelta(days=1)\n",
    "    return today.year - born.year - ((today.month, today.day) < (born.month, born.day))\n",
    "\n",
    "# int(True) is 1 and int(False) is 0"
   ]
  },
  {
   "cell_type": "code",
   "execution_count": 38,
   "metadata": {},
   "outputs": [
    {
     "name": "stderr",
     "output_type": "stream",
     "text": [
      "/Users/zxl/opt/anaconda3/lib/python3.7/site-packages/ipykernel_launcher.py:2: SettingWithCopyWarning: \n",
      "A value is trying to be set on a copy of a slice from a DataFrame.\n",
      "Try using .loc[row_indexer,col_indexer] = value instead\n",
      "\n",
      "See the caveats in the documentation: https://pandas.pydata.org/pandas-docs/stable/user_guide/indexing.html#returning-a-view-versus-a-copy\n",
      "  \n"
     ]
    }
   ],
   "source": [
    "# calculate age\n",
    "df['age'] = df_birthday.birthday.apply(calculate_age)"
   ]
  },
  {
   "cell_type": "code",
   "execution_count": 39,
   "metadata": {},
   "outputs": [
    {
     "data": {
      "text/html": [
       "<div>\n",
       "<style scoped>\n",
       "    .dataframe tbody tr th:only-of-type {\n",
       "        vertical-align: middle;\n",
       "    }\n",
       "\n",
       "    .dataframe tbody tr th {\n",
       "        vertical-align: top;\n",
       "    }\n",
       "\n",
       "    .dataframe thead th {\n",
       "        text-align: right;\n",
       "    }\n",
       "</style>\n",
       "<table border=\"1\" class=\"dataframe\">\n",
       "  <thead>\n",
       "    <tr style=\"text-align: right;\">\n",
       "      <th></th>\n",
       "      <th>order_value</th>\n",
       "      <th>order_hour</th>\n",
       "      <th>order_month</th>\n",
       "      <th>order_day</th>\n",
       "      <th>age</th>\n",
       "    </tr>\n",
       "  </thead>\n",
       "  <tbody>\n",
       "    <tr>\n",
       "      <th>count</th>\n",
       "      <td>646680.000000</td>\n",
       "      <td>646680.000000</td>\n",
       "      <td>646680.000000</td>\n",
       "      <td>646680.000000</td>\n",
       "      <td>397118.000000</td>\n",
       "    </tr>\n",
       "    <tr>\n",
       "      <th>mean</th>\n",
       "      <td>28.755141</td>\n",
       "      <td>14.470434</td>\n",
       "      <td>6.396055</td>\n",
       "      <td>2.950815</td>\n",
       "      <td>24.359830</td>\n",
       "    </tr>\n",
       "    <tr>\n",
       "      <th>std</th>\n",
       "      <td>28.066380</td>\n",
       "      <td>6.833077</td>\n",
       "      <td>3.500032</td>\n",
       "      <td>2.035006</td>\n",
       "      <td>19.033775</td>\n",
       "    </tr>\n",
       "    <tr>\n",
       "      <th>min</th>\n",
       "      <td>-24.730000</td>\n",
       "      <td>0.000000</td>\n",
       "      <td>1.000000</td>\n",
       "      <td>0.000000</td>\n",
       "      <td>-53.000000</td>\n",
       "    </tr>\n",
       "    <tr>\n",
       "      <th>25%</th>\n",
       "      <td>13.930000</td>\n",
       "      <td>11.000000</td>\n",
       "      <td>3.000000</td>\n",
       "      <td>1.000000</td>\n",
       "      <td>21.000000</td>\n",
       "    </tr>\n",
       "    <tr>\n",
       "      <th>50%</th>\n",
       "      <td>21.660000</td>\n",
       "      <td>15.000000</td>\n",
       "      <td>6.000000</td>\n",
       "      <td>3.000000</td>\n",
       "      <td>27.000000</td>\n",
       "    </tr>\n",
       "    <tr>\n",
       "      <th>75%</th>\n",
       "      <td>32.620000</td>\n",
       "      <td>21.000000</td>\n",
       "      <td>10.000000</td>\n",
       "      <td>5.000000</td>\n",
       "      <td>34.000000</td>\n",
       "    </tr>\n",
       "    <tr>\n",
       "      <th>max</th>\n",
       "      <td>1316.360000</td>\n",
       "      <td>23.000000</td>\n",
       "      <td>12.000000</td>\n",
       "      <td>6.000000</td>\n",
       "      <td>47.000000</td>\n",
       "    </tr>\n",
       "  </tbody>\n",
       "</table>\n",
       "</div>"
      ],
      "text/plain": [
       "         order_value     order_hour    order_month      order_day  \\\n",
       "count  646680.000000  646680.000000  646680.000000  646680.000000   \n",
       "mean       28.755141      14.470434       6.396055       2.950815   \n",
       "std        28.066380       6.833077       3.500032       2.035006   \n",
       "min       -24.730000       0.000000       1.000000       0.000000   \n",
       "25%        13.930000      11.000000       3.000000       1.000000   \n",
       "50%        21.660000      15.000000       6.000000       3.000000   \n",
       "75%        32.620000      21.000000      10.000000       5.000000   \n",
       "max      1316.360000      23.000000      12.000000       6.000000   \n",
       "\n",
       "                 age  \n",
       "count  397118.000000  \n",
       "mean       24.359830  \n",
       "std        19.033775  \n",
       "min       -53.000000  \n",
       "25%        21.000000  \n",
       "50%        27.000000  \n",
       "75%        34.000000  \n",
       "max        47.000000  "
      ]
     },
     "execution_count": 39,
     "metadata": {},
     "output_type": "execute_result"
    }
   ],
   "source": [
    "# Check stats for age \n",
    "df.describe()"
   ]
  },
  {
   "cell_type": "code",
   "execution_count": 40,
   "metadata": {},
   "outputs": [
    {
     "data": {
      "text/plain": [
       "27.0"
      ]
     },
     "execution_count": 40,
     "metadata": {},
     "output_type": "execute_result"
    }
   ],
   "source": [
    "# median age of customer\n",
    "df.age.median()"
   ]
  },
  {
   "cell_type": "code",
   "execution_count": 41,
   "metadata": {},
   "outputs": [
    {
     "data": {
      "text/plain": [
       "<matplotlib.axes._subplots.AxesSubplot at 0x7f8602309ad0>"
      ]
     },
     "execution_count": 41,
     "metadata": {},
     "output_type": "execute_result"
    },
    {
     "data": {
      "image/png": "[encoded data removed]",
      "text/plain": [
       "<Figure size 1080x648 with 1 Axes>"
      ]
     },
     "metadata": {
      "needs_background": "light"
     },
     "output_type": "display_data"
    }
   ],
   "source": [
    "sns.boxplot(df.age)"
   ]
  },
  {
   "cell_type": "markdown",
   "metadata": {},
   "source": [
    "There are many outliers and fake birthdates, so we will use median age instead of mean age."
   ]
  },
  {
   "cell_type": "markdown",
   "metadata": {},
   "source": [
    "### Total sales by cohort"
   ]
  },
  {
   "cell_type": "code",
   "execution_count": 42,
   "metadata": {},
   "outputs": [
    {
     "data": {
      "text/plain": [
       "<matplotlib.axes._subplots.AxesSubplot at 0x7f86116df410>"
      ]
     },
     "execution_count": 42,
     "metadata": {},
     "output_type": "execute_result"
    },
    {
     "data": {
      "image/png": "[encoded data removed]",
      "text/plain": [
       "<Figure size 1080x648 with 1 Axes>"
      ]
     },
     "metadata": {
      "needs_background": "light"
     },
     "output_type": "display_data"
    }
   ],
   "source": [
    "df.groupby('cohort').agg({'order_value': 'sum'}).plot(kind='bar')"
   ]
  },
  {
   "cell_type": "markdown",
   "metadata": {},
   "source": [
    "### Average Order Value by cohort"
   ]
  },
  {
   "cell_type": "code",
   "execution_count": 43,
   "metadata": {},
   "outputs": [
    {
     "data": {
      "text/plain": [
       "<matplotlib.axes._subplots.AxesSubplot at 0x7f86024fe0d0>"
      ]
     },
     "execution_count": 43,
     "metadata": {},
     "output_type": "execute_result"
    },
    {
     "data": {
      "image/png": "[encoded data removed]",
      "text/plain": [
       "<Figure size 1080x648 with 1 Axes>"
      ]
     },
     "metadata": {
      "needs_background": "light"
     },
     "output_type": "display_data"
    }
   ],
   "source": [
    "df.groupby('cohort').agg({'order_value': 'mean'}).plot(kind='bar')"
   ]
  },
  {
   "cell_type": "markdown",
   "metadata": {},
   "source": [
    "### Number of customers in each cohort"
   ]
  },
  {
   "cell_type": "code",
   "execution_count": 44,
   "metadata": {},
   "outputs": [
    {
     "data": {
      "text/plain": [
       "<matplotlib.axes._subplots.AxesSubplot at 0x7f86024bbf10>"
      ]
     },
     "execution_count": 44,
     "metadata": {},
     "output_type": "execute_result"
    },
    {
     "data": {
      "image/png": "[encoded data removed]",
      "text/plain": [
       "<Figure size 1080x648 with 1 Axes>"
      ]
     },
     "metadata": {
      "needs_background": "light"
     },
     "output_type": "display_data"
    }
   ],
   "source": [
    "df.cohort.value_counts().plot(kind='bar')"
   ]
  },
  {
   "cell_type": "markdown",
   "metadata": {},
   "source": [
    "### Gender make-up of customers"
   ]
  },
  {
   "cell_type": "code",
   "execution_count": 45,
   "metadata": {},
   "outputs": [
    {
     "data": {
      "text/plain": [
       "gender\n",
       "female    518053\n",
       "male      127318\n",
       "Name: zuid, dtype: int64"
      ]
     },
     "execution_count": 45,
     "metadata": {},
     "output_type": "execute_result"
    }
   ],
   "source": [
    "# count number of male and female customers\n",
    "df.groupby('gender').zuid.count()"
   ]
  },
  {
   "cell_type": "code",
   "execution_count": 46,
   "metadata": {},
   "outputs": [],
   "source": [
    "females = df.groupby('gender').zuid.count()[0]\n",
    "males = df.groupby('gender').zuid.count()[1]\n",
    "total = df.groupby('gender').zuid.count().sum()"
   ]
  },
  {
   "cell_type": "code",
   "execution_count": 47,
   "metadata": {},
   "outputs": [
    {
     "name": "stdout",
     "output_type": "stream",
     "text": [
      "percentage of female customers: 80.27%\n",
      "percentage of male customers: 19.73%\n"
     ]
    }
   ],
   "source": [
    "print('percentage of female customers:', \"{:.2f}%\".format(females/total*100))\n",
    "print('percentage of male customers:', \"{:.2f}%\".format(males/total*100))"
   ]
  },
  {
   "cell_type": "code",
   "execution_count": 48,
   "metadata": {},
   "outputs": [
    {
     "data": {
      "text/html": [
       "<div>\n",
       "<style scoped>\n",
       "    .dataframe tbody tr th:only-of-type {\n",
       "        vertical-align: middle;\n",
       "    }\n",
       "\n",
       "    .dataframe tbody tr th {\n",
       "        vertical-align: top;\n",
       "    }\n",
       "\n",
       "    .dataframe thead th {\n",
       "        text-align: right;\n",
       "    }\n",
       "</style>\n",
       "<table border=\"1\" class=\"dataframe\">\n",
       "  <thead>\n",
       "    <tr style=\"text-align: right;\">\n",
       "      <th></th>\n",
       "      <th>order_value</th>\n",
       "      <th>order_hour</th>\n",
       "      <th>order_month</th>\n",
       "      <th>order_day</th>\n",
       "      <th>age</th>\n",
       "    </tr>\n",
       "    <tr>\n",
       "      <th>gender</th>\n",
       "      <th></th>\n",
       "      <th></th>\n",
       "      <th></th>\n",
       "      <th></th>\n",
       "      <th></th>\n",
       "    </tr>\n",
       "  </thead>\n",
       "  <tbody>\n",
       "    <tr>\n",
       "      <th>female</th>\n",
       "      <td>28.200806</td>\n",
       "      <td>14.513810</td>\n",
       "      <td>6.341735</td>\n",
       "      <td>2.941869</td>\n",
       "      <td>24.500969</td>\n",
       "    </tr>\n",
       "    <tr>\n",
       "      <th>male</th>\n",
       "      <td>31.029860</td>\n",
       "      <td>14.291255</td>\n",
       "      <td>6.618122</td>\n",
       "      <td>2.987535</td>\n",
       "      <td>23.903723</td>\n",
       "    </tr>\n",
       "  </tbody>\n",
       "</table>\n",
       "</div>"
      ],
      "text/plain": [
       "        order_value  order_hour  order_month  order_day        age\n",
       "gender                                                            \n",
       "female    28.200806   14.513810     6.341735   2.941869  24.500969\n",
       "male      31.029860   14.291255     6.618122   2.987535  23.903723"
      ]
     },
     "execution_count": 48,
     "metadata": {},
     "output_type": "execute_result"
    }
   ],
   "source": [
    "# order value by gender\n",
    "df.groupby('gender').mean()"
   ]
  },
  {
   "cell_type": "markdown",
   "metadata": {},
   "source": [
    "No significant difference in average order value by gender."
   ]
  },
  {
   "cell_type": "markdown",
   "metadata": {},
   "source": [
    "### Average order value"
   ]
  },
  {
   "cell_type": "code",
   "execution_count": 49,
   "metadata": {
    "scrolled": true
   },
   "outputs": [],
   "source": [
    "# calculate total order value for each order\n",
    "df_order_value = df.groupby('order_nr').agg({'order_value': 'sum'})"
   ]
  },
  {
   "cell_type": "code",
   "execution_count": 50,
   "metadata": {},
   "outputs": [
    {
     "data": {
      "text/html": [
       "<div>\n",
       "<style scoped>\n",
       "    .dataframe tbody tr th:only-of-type {\n",
       "        vertical-align: middle;\n",
       "    }\n",
       "\n",
       "    .dataframe tbody tr th {\n",
       "        vertical-align: top;\n",
       "    }\n",
       "\n",
       "    .dataframe thead th {\n",
       "        text-align: right;\n",
       "    }\n",
       "</style>\n",
       "<table border=\"1\" class=\"dataframe\">\n",
       "  <thead>\n",
       "    <tr style=\"text-align: right;\">\n",
       "      <th></th>\n",
       "      <th>order_value</th>\n",
       "    </tr>\n",
       "  </thead>\n",
       "  <tbody>\n",
       "    <tr>\n",
       "      <th>count</th>\n",
       "      <td>267262.000000</td>\n",
       "    </tr>\n",
       "    <tr>\n",
       "      <th>mean</th>\n",
       "      <td>69.577323</td>\n",
       "    </tr>\n",
       "    <tr>\n",
       "      <th>std</th>\n",
       "      <td>62.471352</td>\n",
       "    </tr>\n",
       "    <tr>\n",
       "      <th>min</th>\n",
       "      <td>-445.780000</td>\n",
       "    </tr>\n",
       "    <tr>\n",
       "      <th>25%</th>\n",
       "      <td>32.620000</td>\n",
       "    </tr>\n",
       "    <tr>\n",
       "      <th>50%</th>\n",
       "      <td>53.080000</td>\n",
       "    </tr>\n",
       "    <tr>\n",
       "      <th>75%</th>\n",
       "      <td>88.640000</td>\n",
       "    </tr>\n",
       "    <tr>\n",
       "      <th>max</th>\n",
       "      <td>2955.530000</td>\n",
       "    </tr>\n",
       "  </tbody>\n",
       "</table>\n",
       "</div>"
      ],
      "text/plain": [
       "         order_value\n",
       "count  267262.000000\n",
       "mean       69.577323\n",
       "std        62.471352\n",
       "min      -445.780000\n",
       "25%        32.620000\n",
       "50%        53.080000\n",
       "75%        88.640000\n",
       "max      2955.530000"
      ]
     },
     "execution_count": 50,
     "metadata": {},
     "output_type": "execute_result"
    }
   ],
   "source": [
    "df_order_value.describe()"
   ]
  },
  {
   "cell_type": "code",
   "execution_count": 51,
   "metadata": {
    "scrolled": false
   },
   "outputs": [
    {
     "data": {
      "text/plain": [
       "order_value    53.08\n",
       "dtype: float64"
      ]
     },
     "execution_count": 51,
     "metadata": {},
     "output_type": "execute_result"
    }
   ],
   "source": [
    "# median order value\n",
    "df_order_value.median()"
   ]
  },
  {
   "cell_type": "markdown",
   "metadata": {},
   "source": [
    "### How many orders were made with vouchers?"
   ]
  },
  {
   "cell_type": "code",
   "execution_count": 52,
   "metadata": {},
   "outputs": [],
   "source": [
    "# for each order, count number of voucher codes used\n",
    "df_voucher_code = df.groupby('order_nr').agg({'voucher_code': 'count'}).sort_values('voucher_code')"
   ]
  },
  {
   "cell_type": "code",
   "execution_count": 53,
   "metadata": {
    "scrolled": true
   },
   "outputs": [
    {
     "data": {
      "text/html": [
       "<div>\n",
       "<style scoped>\n",
       "    .dataframe tbody tr th:only-of-type {\n",
       "        vertical-align: middle;\n",
       "    }\n",
       "\n",
       "    .dataframe tbody tr th {\n",
       "        vertical-align: top;\n",
       "    }\n",
       "\n",
       "    .dataframe thead th {\n",
       "        text-align: right;\n",
       "    }\n",
       "</style>\n",
       "<table border=\"1\" class=\"dataframe\">\n",
       "  <thead>\n",
       "    <tr style=\"text-align: right;\">\n",
       "      <th></th>\n",
       "      <th>voucher_code</th>\n",
       "    </tr>\n",
       "    <tr>\n",
       "      <th>order_nr</th>\n",
       "      <th></th>\n",
       "    </tr>\n",
       "  </thead>\n",
       "  <tbody>\n",
       "    <tr>\n",
       "      <th>201111135</th>\n",
       "      <td>0</td>\n",
       "    </tr>\n",
       "    <tr>\n",
       "      <th>206752655</th>\n",
       "      <td>0</td>\n",
       "    </tr>\n",
       "    <tr>\n",
       "      <th>206752675</th>\n",
       "      <td>0</td>\n",
       "    </tr>\n",
       "    <tr>\n",
       "      <th>206752725</th>\n",
       "      <td>0</td>\n",
       "    </tr>\n",
       "    <tr>\n",
       "      <th>206752737</th>\n",
       "      <td>0</td>\n",
       "    </tr>\n",
       "    <tr>\n",
       "      <th>...</th>\n",
       "      <td>...</td>\n",
       "    </tr>\n",
       "    <tr>\n",
       "      <th>204345491</th>\n",
       "      <td>60</td>\n",
       "    </tr>\n",
       "    <tr>\n",
       "      <th>203639215</th>\n",
       "      <td>60</td>\n",
       "    </tr>\n",
       "    <tr>\n",
       "      <th>207875941</th>\n",
       "      <td>61</td>\n",
       "    </tr>\n",
       "    <tr>\n",
       "      <th>209291557</th>\n",
       "      <td>69</td>\n",
       "    </tr>\n",
       "    <tr>\n",
       "      <th>206341481</th>\n",
       "      <td>70</td>\n",
       "    </tr>\n",
       "  </tbody>\n",
       "</table>\n",
       "<p>267262 rows × 1 columns</p>\n",
       "</div>"
      ],
      "text/plain": [
       "           voucher_code\n",
       "order_nr               \n",
       "201111135             0\n",
       "206752655             0\n",
       "206752675             0\n",
       "206752725             0\n",
       "206752737             0\n",
       "...                 ...\n",
       "204345491            60\n",
       "203639215            60\n",
       "207875941            61\n",
       "209291557            69\n",
       "206341481            70\n",
       "\n",
       "[267262 rows x 1 columns]"
      ]
     },
     "execution_count": 53,
     "metadata": {},
     "output_type": "execute_result"
    }
   ],
   "source": [
    "df_voucher_code"
   ]
  },
  {
   "cell_type": "code",
   "execution_count": 54,
   "metadata": {},
   "outputs": [
    {
     "data": {
      "text/plain": [
       "74656"
      ]
     },
     "execution_count": 54,
     "metadata": {},
     "output_type": "execute_result"
    }
   ],
   "source": [
    "# find number of orders that had voucher code applied\n",
    "orders_with_vouchers = len(df_voucher_code[df_voucher_code.voucher_code > 0])\n",
    "orders_with_vouchers"
   ]
  },
  {
   "cell_type": "code",
   "execution_count": 55,
   "metadata": {},
   "outputs": [
    {
     "data": {
      "text/plain": [
       "27.93363815282382"
      ]
     },
     "execution_count": 55,
     "metadata": {},
     "output_type": "execute_result"
    }
   ],
   "source": [
    "# percentage of orders with voucher code applied\n",
    "orders_with_vouchers/len(df_voucher_code)*100"
   ]
  },
  {
   "cell_type": "markdown",
   "metadata": {},
   "source": [
    "### Number of voucher codes"
   ]
  },
  {
   "cell_type": "code",
   "execution_count": 56,
   "metadata": {},
   "outputs": [
    {
     "data": {
      "text/plain": [
       "ZLAPP15          16764\n",
       "GRABRWF20         5927\n",
       "UOBZ520           4733\n",
       "RED20             4275\n",
       "BFCM18            4261\n",
       "                 ...  \n",
       "NL5URWN              1\n",
       "NL10LQF              1\n",
       "NLYC82O              1\n",
       "SHOPCITIE2AY3        1\n",
       "IVAEE2AJJ            1\n",
       "Name: voucher_code, Length: 13403, dtype: int64"
      ]
     },
     "execution_count": 56,
     "metadata": {},
     "output_type": "execute_result"
    }
   ],
   "source": [
    "# total number of voucher codes (seen from length of column)\n",
    "df.voucher_code.value_counts()"
   ]
  },
  {
   "cell_type": "markdown",
   "metadata": {},
   "source": [
    "### Average number of orders per voucher"
   ]
  },
  {
   "cell_type": "code",
   "execution_count": 57,
   "metadata": {},
   "outputs": [
    {
     "name": "stdout",
     "output_type": "stream",
     "text": [
      "on average, the number of orders generated per campaign is:\n"
     ]
    },
    {
     "data": {
      "text/plain": [
       "5.570096247108856"
      ]
     },
     "execution_count": 57,
     "metadata": {},
     "output_type": "execute_result"
    }
   ],
   "source": [
    "print('on average, the number of orders generated per campaign is:')\n",
    "\n",
    "# orders with vouchers applied / number of voucher codes\n",
    "74656 / 13403"
   ]
  },
  {
   "cell_type": "markdown",
   "metadata": {},
   "source": [
    "### Top 20 vouchers"
   ]
  },
  {
   "cell_type": "code",
   "execution_count": 58,
   "metadata": {},
   "outputs": [
    {
     "data": {
      "text/plain": [
       "ZLAPP15        16764\n",
       "GRABRWF20       5927\n",
       "UOBZ520         4733\n",
       "RED20           4275\n",
       "BFCM18          4261\n",
       "BRANDNEW        3586\n",
       "SHOPDBS20       3552\n",
       "SALE18          3441\n",
       "UOBSHOP20       3428\n",
       "UOBGSS20        2759\n",
       "BESTEVER        2277\n",
       "FEVERPITCH      2182\n",
       "MERRYCITI20     2149\n",
       "SHOP11NG        2108\n",
       "PERFECT10       2027\n",
       "ZBAPQZJ0        1899\n",
       "MERRYCITI18     1886\n",
       "FEBTASY         1820\n",
       "SUMMER17        1701\n",
       "JULYJOY         1532\n",
       "Name: voucher_code, dtype: int64"
      ]
     },
     "execution_count": 58,
     "metadata": {},
     "output_type": "execute_result"
    }
   ],
   "source": [
    "df.voucher_code.value_counts().head(20)"
   ]
  },
  {
   "cell_type": "markdown",
   "metadata": {},
   "source": [
    "### Worst 20 vouchers"
   ]
  },
  {
   "cell_type": "code",
   "execution_count": 59,
   "metadata": {},
   "outputs": [
    {
     "data": {
      "text/plain": [
       "NLX650O          1\n",
       "NLYCOFN          1\n",
       "NL6PNCH          1\n",
       "SHOPCITIE2GHE    1\n",
       "NL15CSSH96H      1\n",
       "NL537PV          1\n",
       "NLPDIVO          1\n",
       "NL16216          1\n",
       "NL09TRB          1\n",
       "NL56YCM          1\n",
       "NL6973T          1\n",
       "NLYY1QG          1\n",
       "NL56Q8I          1\n",
       "NLTL9HK          1\n",
       "FEBTASY94T01     1\n",
       "NL5URWN          1\n",
       "NL10LQF          1\n",
       "NLYC82O          1\n",
       "SHOPCITIE2AY3    1\n",
       "IVAEE2AJJ        1\n",
       "Name: voucher_code, dtype: int64"
      ]
     },
     "execution_count": 59,
     "metadata": {},
     "output_type": "execute_result"
    }
   ],
   "source": [
    "df.voucher_code.value_counts().tail(20)"
   ]
  },
  {
   "cell_type": "markdown",
   "metadata": {},
   "source": [
    "### Which was the best month for sales?"
   ]
  },
  {
   "cell_type": "markdown",
   "metadata": {},
   "source": [
    "We have data for both June 16 and June 17 sales, so let's keep the June 17 sales for analysis since the rest of the months only have sales data for one year."
   ]
  },
  {
   "cell_type": "code",
   "execution_count": 60,
   "metadata": {},
   "outputs": [],
   "source": [
    "# Filter out Jun 16 and use Jun 17 sales for month of June sales.\n",
    "df_after_jun16 = df[df['order_year_mth'] != '2016-06']"
   ]
  },
  {
   "cell_type": "code",
   "execution_count": 61,
   "metadata": {},
   "outputs": [
    {
     "data": {
      "text/html": [
       "<div>\n",
       "<style scoped>\n",
       "    .dataframe tbody tr th:only-of-type {\n",
       "        vertical-align: middle;\n",
       "    }\n",
       "\n",
       "    .dataframe tbody tr th {\n",
       "        vertical-align: top;\n",
       "    }\n",
       "\n",
       "    .dataframe thead th {\n",
       "        text-align: right;\n",
       "    }\n",
       "</style>\n",
       "<table border=\"1\" class=\"dataframe\">\n",
       "  <thead>\n",
       "    <tr style=\"text-align: right;\">\n",
       "      <th></th>\n",
       "      <th>zuid</th>\n",
       "      <th>gender</th>\n",
       "      <th>birthday</th>\n",
       "      <th>cohort</th>\n",
       "      <th>order_nr</th>\n",
       "      <th>environment</th>\n",
       "      <th>voucher_code</th>\n",
       "      <th>order_value</th>\n",
       "      <th>category</th>\n",
       "      <th>sub_category</th>\n",
       "      <th>order_created_at</th>\n",
       "      <th>order_status</th>\n",
       "      <th>order_time</th>\n",
       "      <th>order_hour</th>\n",
       "      <th>order_year_mth</th>\n",
       "      <th>order_month</th>\n",
       "      <th>order_day</th>\n",
       "      <th>age</th>\n",
       "    </tr>\n",
       "  </thead>\n",
       "  <tbody>\n",
       "    <tr>\n",
       "      <th>1</th>\n",
       "      <td>2.13795E+14</td>\n",
       "      <td>male</td>\n",
       "      <td>NaT</td>\n",
       "      <td>2016-07</td>\n",
       "      <td>205926117</td>\n",
       "      <td>mobile</td>\n",
       "      <td>NaN</td>\n",
       "      <td>27.10</td>\n",
       "      <td>apparel</td>\n",
       "      <td>Shirts</td>\n",
       "      <td>2016-02-08 00:52:00</td>\n",
       "      <td>net</td>\n",
       "      <td>00:52:00</td>\n",
       "      <td>0</td>\n",
       "      <td>2/8/16</td>\n",
       "      <td>2</td>\n",
       "      <td>0</td>\n",
       "      <td>NaN</td>\n",
       "    </tr>\n",
       "    <tr>\n",
       "      <th>2</th>\n",
       "      <td>2.13795E+14</td>\n",
       "      <td>male</td>\n",
       "      <td>NaT</td>\n",
       "      <td>2016-07</td>\n",
       "      <td>207816617</td>\n",
       "      <td>mobile</td>\n",
       "      <td>NaN</td>\n",
       "      <td>23.03</td>\n",
       "      <td>apparel</td>\n",
       "      <td>T-Shirts</td>\n",
       "      <td>2016-07-22 13:06:00</td>\n",
       "      <td>net</td>\n",
       "      <td>13:06:00</td>\n",
       "      <td>13</td>\n",
       "      <td>22/7/16</td>\n",
       "      <td>7</td>\n",
       "      <td>4</td>\n",
       "      <td>NaN</td>\n",
       "    </tr>\n",
       "    <tr>\n",
       "      <th>3</th>\n",
       "      <td>2.13795E+14</td>\n",
       "      <td>male</td>\n",
       "      <td>NaT</td>\n",
       "      <td>2016-07</td>\n",
       "      <td>205926117</td>\n",
       "      <td>mobile</td>\n",
       "      <td>NaN</td>\n",
       "      <td>13.93</td>\n",
       "      <td>apparel</td>\n",
       "      <td>T-Shirts</td>\n",
       "      <td>2016-02-08 00:52:00</td>\n",
       "      <td>net</td>\n",
       "      <td>00:52:00</td>\n",
       "      <td>0</td>\n",
       "      <td>2/8/16</td>\n",
       "      <td>2</td>\n",
       "      <td>0</td>\n",
       "      <td>NaN</td>\n",
       "    </tr>\n",
       "    <tr>\n",
       "      <th>4</th>\n",
       "      <td>2.13795E+14</td>\n",
       "      <td>male</td>\n",
       "      <td>NaT</td>\n",
       "      <td>2016-07</td>\n",
       "      <td>508943717</td>\n",
       "      <td>NaN</td>\n",
       "      <td>NaN</td>\n",
       "      <td>14.02</td>\n",
       "      <td>apparel</td>\n",
       "      <td>Shorts</td>\n",
       "      <td>2016-07-30 11:07:00</td>\n",
       "      <td>net</td>\n",
       "      <td>11:07:00</td>\n",
       "      <td>11</td>\n",
       "      <td>30/7/16</td>\n",
       "      <td>7</td>\n",
       "      <td>5</td>\n",
       "      <td>NaN</td>\n",
       "    </tr>\n",
       "    <tr>\n",
       "      <th>5</th>\n",
       "      <td>2.13795E+14</td>\n",
       "      <td>male</td>\n",
       "      <td>NaT</td>\n",
       "      <td>2016-07</td>\n",
       "      <td>205926117</td>\n",
       "      <td>mobile</td>\n",
       "      <td>NaN</td>\n",
       "      <td>13.93</td>\n",
       "      <td>apparel</td>\n",
       "      <td>T-Shirts</td>\n",
       "      <td>2016-02-08 00:52:00</td>\n",
       "      <td>net</td>\n",
       "      <td>00:52:00</td>\n",
       "      <td>0</td>\n",
       "      <td>2/8/16</td>\n",
       "      <td>2</td>\n",
       "      <td>0</td>\n",
       "      <td>NaN</td>\n",
       "    </tr>\n",
       "    <tr>\n",
       "      <th>...</th>\n",
       "      <td>...</td>\n",
       "      <td>...</td>\n",
       "      <td>...</td>\n",
       "      <td>...</td>\n",
       "      <td>...</td>\n",
       "      <td>...</td>\n",
       "      <td>...</td>\n",
       "      <td>...</td>\n",
       "      <td>...</td>\n",
       "      <td>...</td>\n",
       "      <td>...</td>\n",
       "      <td>...</td>\n",
       "      <td>...</td>\n",
       "      <td>...</td>\n",
       "      <td>...</td>\n",
       "      <td>...</td>\n",
       "      <td>...</td>\n",
       "      <td>...</td>\n",
       "    </tr>\n",
       "    <tr>\n",
       "      <th>929469</th>\n",
       "      <td>2.14674E+14</td>\n",
       "      <td>male</td>\n",
       "      <td>1981-05-05</td>\n",
       "      <td>2017-03</td>\n",
       "      <td>209837635</td>\n",
       "      <td>mobile</td>\n",
       "      <td>5INMARCH</td>\n",
       "      <td>8.05</td>\n",
       "      <td>apparel</td>\n",
       "      <td>Tops</td>\n",
       "      <td>2017-02-03 17:02:00</td>\n",
       "      <td>net</td>\n",
       "      <td>17:02:00</td>\n",
       "      <td>17</td>\n",
       "      <td>2/3/17</td>\n",
       "      <td>2</td>\n",
       "      <td>4</td>\n",
       "      <td>36.0</td>\n",
       "    </tr>\n",
       "    <tr>\n",
       "      <th>929470</th>\n",
       "      <td>2.14674E+14</td>\n",
       "      <td>male</td>\n",
       "      <td>1981-05-05</td>\n",
       "      <td>2017-03</td>\n",
       "      <td>209837635</td>\n",
       "      <td>mobile</td>\n",
       "      <td>5INMARCH</td>\n",
       "      <td>8.05</td>\n",
       "      <td>apparel</td>\n",
       "      <td>Tops</td>\n",
       "      <td>2017-02-03 17:02:00</td>\n",
       "      <td>net</td>\n",
       "      <td>17:02:00</td>\n",
       "      <td>17</td>\n",
       "      <td>2/3/17</td>\n",
       "      <td>2</td>\n",
       "      <td>4</td>\n",
       "      <td>36.0</td>\n",
       "    </tr>\n",
       "    <tr>\n",
       "      <th>929474</th>\n",
       "      <td>2.14674E+14</td>\n",
       "      <td>male</td>\n",
       "      <td>1981-05-05</td>\n",
       "      <td>2017-03</td>\n",
       "      <td>209837635</td>\n",
       "      <td>mobile</td>\n",
       "      <td>5INMARCH</td>\n",
       "      <td>12.93</td>\n",
       "      <td>apparel</td>\n",
       "      <td>Tops</td>\n",
       "      <td>2017-02-03 17:02:00</td>\n",
       "      <td>net</td>\n",
       "      <td>17:02:00</td>\n",
       "      <td>17</td>\n",
       "      <td>2/3/17</td>\n",
       "      <td>2</td>\n",
       "      <td>4</td>\n",
       "      <td>36.0</td>\n",
       "    </tr>\n",
       "    <tr>\n",
       "      <th>929475</th>\n",
       "      <td>2.14674E+14</td>\n",
       "      <td>male</td>\n",
       "      <td>1981-05-05</td>\n",
       "      <td>2017-03</td>\n",
       "      <td>209837635</td>\n",
       "      <td>mobile</td>\n",
       "      <td>5INMARCH</td>\n",
       "      <td>10.49</td>\n",
       "      <td>apparel</td>\n",
       "      <td>Tops</td>\n",
       "      <td>2017-02-03 17:02:00</td>\n",
       "      <td>net</td>\n",
       "      <td>17:02:00</td>\n",
       "      <td>17</td>\n",
       "      <td>2/3/17</td>\n",
       "      <td>2</td>\n",
       "      <td>4</td>\n",
       "      <td>36.0</td>\n",
       "    </tr>\n",
       "    <tr>\n",
       "      <th>929476</th>\n",
       "      <td>2.14776E+14</td>\n",
       "      <td>female</td>\n",
       "      <td>NaT</td>\n",
       "      <td>2016-10</td>\n",
       "      <td>207312265</td>\n",
       "      <td>mobile</td>\n",
       "      <td>NaN</td>\n",
       "      <td>18.60</td>\n",
       "      <td>accessories</td>\n",
       "      <td>Watches</td>\n",
       "      <td>2016-10-27 19:56:00</td>\n",
       "      <td>net</td>\n",
       "      <td>19:56:00</td>\n",
       "      <td>19</td>\n",
       "      <td>27/10/1</td>\n",
       "      <td>10</td>\n",
       "      <td>3</td>\n",
       "      <td>NaN</td>\n",
       "    </tr>\n",
       "  </tbody>\n",
       "</table>\n",
       "<p>646680 rows × 18 columns</p>\n",
       "</div>"
      ],
      "text/plain": [
       "               zuid  gender   birthday   cohort   order_nr environment  \\\n",
       "1       2.13795E+14    male        NaT  2016-07  205926117      mobile   \n",
       "2       2.13795E+14    male        NaT  2016-07  207816617      mobile   \n",
       "3       2.13795E+14    male        NaT  2016-07  205926117      mobile   \n",
       "4       2.13795E+14    male        NaT  2016-07  508943717         NaN   \n",
       "5       2.13795E+14    male        NaT  2016-07  205926117      mobile   \n",
       "...             ...     ...        ...      ...        ...         ...   \n",
       "929469  2.14674E+14    male 1981-05-05  2017-03  209837635      mobile   \n",
       "929470  2.14674E+14    male 1981-05-05  2017-03  209837635      mobile   \n",
       "929474  2.14674E+14    male 1981-05-05  2017-03  209837635      mobile   \n",
       "929475  2.14674E+14    male 1981-05-05  2017-03  209837635      mobile   \n",
       "929476  2.14776E+14  female        NaT  2016-10  207312265      mobile   \n",
       "\n",
       "       voucher_code  order_value     category sub_category  \\\n",
       "1               NaN        27.10      apparel       Shirts   \n",
       "2               NaN        23.03      apparel     T-Shirts   \n",
       "3               NaN        13.93      apparel     T-Shirts   \n",
       "4               NaN        14.02      apparel       Shorts   \n",
       "5               NaN        13.93      apparel     T-Shirts   \n",
       "...             ...          ...          ...          ...   \n",
       "929469     5INMARCH         8.05      apparel         Tops   \n",
       "929470     5INMARCH         8.05      apparel         Tops   \n",
       "929474     5INMARCH        12.93      apparel         Tops   \n",
       "929475     5INMARCH        10.49      apparel         Tops   \n",
       "929476          NaN        18.60  accessories      Watches   \n",
       "\n",
       "          order_created_at order_status order_time  order_hour order_year_mth  \\\n",
       "1      2016-02-08 00:52:00          net   00:52:00           0        2/8/16    \n",
       "2      2016-07-22 13:06:00          net   13:06:00          13        22/7/16   \n",
       "3      2016-02-08 00:52:00          net   00:52:00           0        2/8/16    \n",
       "4      2016-07-30 11:07:00          net   11:07:00          11        30/7/16   \n",
       "5      2016-02-08 00:52:00          net   00:52:00           0        2/8/16    \n",
       "...                    ...          ...        ...         ...            ...   \n",
       "929469 2017-02-03 17:02:00          net   17:02:00          17        2/3/17    \n",
       "929470 2017-02-03 17:02:00          net   17:02:00          17        2/3/17    \n",
       "929474 2017-02-03 17:02:00          net   17:02:00          17        2/3/17    \n",
       "929475 2017-02-03 17:02:00          net   17:02:00          17        2/3/17    \n",
       "929476 2016-10-27 19:56:00          net   19:56:00          19        27/10/1   \n",
       "\n",
       "        order_month  order_day   age  \n",
       "1                 2          0   NaN  \n",
       "2                 7          4   NaN  \n",
       "3                 2          0   NaN  \n",
       "4                 7          5   NaN  \n",
       "5                 2          0   NaN  \n",
       "...             ...        ...   ...  \n",
       "929469            2          4  36.0  \n",
       "929470            2          4  36.0  \n",
       "929474            2          4  36.0  \n",
       "929475            2          4  36.0  \n",
       "929476           10          3   NaN  \n",
       "\n",
       "[646680 rows x 18 columns]"
      ]
     },
     "execution_count": 61,
     "metadata": {},
     "output_type": "execute_result"
    }
   ],
   "source": [
    "df_after_jun16 "
   ]
  },
  {
   "cell_type": "code",
   "execution_count": 62,
   "metadata": {},
   "outputs": [
    {
     "data": {
      "text/html": [
       "<div>\n",
       "<style scoped>\n",
       "    .dataframe tbody tr th:only-of-type {\n",
       "        vertical-align: middle;\n",
       "    }\n",
       "\n",
       "    .dataframe tbody tr th {\n",
       "        vertical-align: top;\n",
       "    }\n",
       "\n",
       "    .dataframe thead th {\n",
       "        text-align: right;\n",
       "    }\n",
       "</style>\n",
       "<table border=\"1\" class=\"dataframe\">\n",
       "  <thead>\n",
       "    <tr style=\"text-align: right;\">\n",
       "      <th></th>\n",
       "      <th>order_month</th>\n",
       "      <th>order_value</th>\n",
       "    </tr>\n",
       "  </thead>\n",
       "  <tbody>\n",
       "    <tr>\n",
       "      <th>0</th>\n",
       "      <td>1</td>\n",
       "      <td>1849293.74</td>\n",
       "    </tr>\n",
       "    <tr>\n",
       "      <th>1</th>\n",
       "      <td>2</td>\n",
       "      <td>1312807.50</td>\n",
       "    </tr>\n",
       "    <tr>\n",
       "      <th>2</th>\n",
       "      <td>3</td>\n",
       "      <td>1509970.31</td>\n",
       "    </tr>\n",
       "    <tr>\n",
       "      <th>3</th>\n",
       "      <td>4</td>\n",
       "      <td>1407255.10</td>\n",
       "    </tr>\n",
       "    <tr>\n",
       "      <th>4</th>\n",
       "      <td>5</td>\n",
       "      <td>1596926.82</td>\n",
       "    </tr>\n",
       "    <tr>\n",
       "      <th>5</th>\n",
       "      <td>6</td>\n",
       "      <td>2564238.56</td>\n",
       "    </tr>\n",
       "    <tr>\n",
       "      <th>6</th>\n",
       "      <td>7</td>\n",
       "      <td>1301912.72</td>\n",
       "    </tr>\n",
       "    <tr>\n",
       "      <th>7</th>\n",
       "      <td>8</td>\n",
       "      <td>1174114.75</td>\n",
       "    </tr>\n",
       "    <tr>\n",
       "      <th>8</th>\n",
       "      <td>9</td>\n",
       "      <td>1091742.78</td>\n",
       "    </tr>\n",
       "    <tr>\n",
       "      <th>9</th>\n",
       "      <td>10</td>\n",
       "      <td>1260014.11</td>\n",
       "    </tr>\n",
       "    <tr>\n",
       "      <th>10</th>\n",
       "      <td>11</td>\n",
       "      <td>1744392.01</td>\n",
       "    </tr>\n",
       "    <tr>\n",
       "      <th>11</th>\n",
       "      <td>12</td>\n",
       "      <td>1782706.05</td>\n",
       "    </tr>\n",
       "  </tbody>\n",
       "</table>\n",
       "</div>"
      ],
      "text/plain": [
       "    order_month  order_value\n",
       "0             1   1849293.74\n",
       "1             2   1312807.50\n",
       "2             3   1509970.31\n",
       "3             4   1407255.10\n",
       "4             5   1596926.82\n",
       "5             6   2564238.56\n",
       "6             7   1301912.72\n",
       "7             8   1174114.75\n",
       "8             9   1091742.78\n",
       "9            10   1260014.11\n",
       "10           11   1744392.01\n",
       "11           12   1782706.05"
      ]
     },
     "execution_count": 62,
     "metadata": {},
     "output_type": "execute_result"
    }
   ],
   "source": [
    "df_monthly = df_after_jun16.groupby('order_month', as_index=False).agg({'order_value':'sum'})\n",
    "df_monthly"
   ]
  },
  {
   "cell_type": "markdown",
   "metadata": {},
   "source": [
    "#### Currency formatter"
   ]
  },
  {
   "cell_type": "code",
   "execution_count": 63,
   "metadata": {},
   "outputs": [],
   "source": [
    "# truncate large currency values\n",
    "def currency(x, pos):\n",
    "    \"\"\"The two args are the value and tick position\"\"\"\n",
    "    if x >= 1e6:\n",
    "        c = '${:1.1f}M'.format(x*1e-6)\n",
    "    else:\n",
    "        c = '${:1.0f}K'.format(x*1e-3)\n",
    "    return c\n",
    "\n",
    "curr_formatter = FuncFormatter(currency)"
   ]
  },
  {
   "cell_type": "markdown",
   "metadata": {},
   "source": [
    "#### Large number formatter"
   ]
  },
  {
   "cell_type": "code",
   "execution_count": 64,
   "metadata": {},
   "outputs": [],
   "source": [
    "# truncate large numbers\n",
    "def number(x, pos):\n",
    "    \"\"\"The two args are the value and tick position\"\"\"\n",
    "    if x >= 1e6:\n",
    "        c = '{:1.1f}M'.format(x*1e-6)\n",
    "    else:\n",
    "        c = '{:1.0f}K'.format(x*1e-3)\n",
    "    return c\n",
    "\n",
    "num_formatter = FuncFormatter(number)"
   ]
  },
  {
   "cell_type": "code",
   "execution_count": 65,
   "metadata": {},
   "outputs": [
    {
     "data": {
      "image/png": "[encoded data removed]",
      "text/plain": [
       "<Figure size 720x360 with 1 Axes>"
      ]
     },
     "metadata": {
      "needs_background": "light"
     },
     "output_type": "display_data"
    }
   ],
   "source": [
    "plt.figure(figsize=(10,5))\n",
    "ax = sns.barplot(data=df_monthly, \n",
    "            x='order_month', \n",
    "            y='order_value',\n",
    "            color='grey')\n",
    "plt.xlabel(None)\n",
    "plt.ylabel('Total sales', size='large')\n",
    "plt.title('Total sales by month', size='large')\n",
    "ax.yaxis.set_major_formatter(num_formatter)"
   ]
  },
  {
   "cell_type": "markdown",
   "metadata": {},
   "source": [
    "### Try a rolling average for more granular trend"
   ]
  },
  {
   "cell_type": "code",
   "execution_count": 66,
   "metadata": {
    "scrolled": true
   },
   "outputs": [
    {
     "name": "stdout",
     "output_type": "stream",
     "text": [
      "<class 'pandas.core.frame.DataFrame'>\n",
      "Int64Index: 646680 entries, 1 to 929476\n",
      "Data columns (total 18 columns):\n",
      " #   Column            Non-Null Count   Dtype         \n",
      "---  ------            --------------   -----         \n",
      " 0   zuid              646680 non-null  object        \n",
      " 1   gender            645371 non-null  object        \n",
      " 2   birthday          397118 non-null  datetime64[ns]\n",
      " 3   cohort            646680 non-null  object        \n",
      " 4   order_nr          646680 non-null  object        \n",
      " 5   environment       631877 non-null  object        \n",
      " 6   voucher_code      238108 non-null  object        \n",
      " 7   order_value       646680 non-null  float64       \n",
      " 8   category          628265 non-null  object        \n",
      " 9   sub_category      646574 non-null  object        \n",
      " 10  order_created_at  646680 non-null  datetime64[ns]\n",
      " 11  order_status      646680 non-null  object        \n",
      " 12  order_time        646680 non-null  object        \n",
      " 13  order_hour        646680 non-null  int64         \n",
      " 14  order_year_mth    646680 non-null  object        \n",
      " 15  order_month       646680 non-null  int64         \n",
      " 16  order_day         646680 non-null  int64         \n",
      " 17  age               397118 non-null  float64       \n",
      "dtypes: datetime64[ns](2), float64(2), int64(3), object(11)\n",
      "memory usage: 93.7+ MB\n"
     ]
    }
   ],
   "source": [
    "df.info()"
   ]
  },
  {
   "cell_type": "code",
   "execution_count": 67,
   "metadata": {},
   "outputs": [
    {
     "data": {
      "text/html": [
       "<div>\n",
       "<style scoped>\n",
       "    .dataframe tbody tr th:only-of-type {\n",
       "        vertical-align: middle;\n",
       "    }\n",
       "\n",
       "    .dataframe tbody tr th {\n",
       "        vertical-align: top;\n",
       "    }\n",
       "\n",
       "    .dataframe thead th {\n",
       "        text-align: right;\n",
       "    }\n",
       "</style>\n",
       "<table border=\"1\" class=\"dataframe\">\n",
       "  <thead>\n",
       "    <tr style=\"text-align: right;\">\n",
       "      <th></th>\n",
       "      <th>zuid</th>\n",
       "      <th>gender</th>\n",
       "      <th>birthday</th>\n",
       "      <th>cohort</th>\n",
       "      <th>order_nr</th>\n",
       "      <th>environment</th>\n",
       "      <th>voucher_code</th>\n",
       "      <th>order_value</th>\n",
       "      <th>category</th>\n",
       "      <th>sub_category</th>\n",
       "      <th>order_status</th>\n",
       "      <th>order_time</th>\n",
       "      <th>order_hour</th>\n",
       "      <th>order_year_mth</th>\n",
       "      <th>order_month</th>\n",
       "      <th>order_day</th>\n",
       "      <th>age</th>\n",
       "    </tr>\n",
       "    <tr>\n",
       "      <th>order_created_at</th>\n",
       "      <th></th>\n",
       "      <th></th>\n",
       "      <th></th>\n",
       "      <th></th>\n",
       "      <th></th>\n",
       "      <th></th>\n",
       "      <th></th>\n",
       "      <th></th>\n",
       "      <th></th>\n",
       "      <th></th>\n",
       "      <th></th>\n",
       "      <th></th>\n",
       "      <th></th>\n",
       "      <th></th>\n",
       "      <th></th>\n",
       "      <th></th>\n",
       "      <th></th>\n",
       "    </tr>\n",
       "  </thead>\n",
       "  <tbody>\n",
       "    <tr>\n",
       "      <th>2016-02-08 00:52:00</th>\n",
       "      <td>2.13795E+14</td>\n",
       "      <td>male</td>\n",
       "      <td>NaT</td>\n",
       "      <td>2016-07</td>\n",
       "      <td>205926117</td>\n",
       "      <td>mobile</td>\n",
       "      <td>NaN</td>\n",
       "      <td>27.10</td>\n",
       "      <td>apparel</td>\n",
       "      <td>Shirts</td>\n",
       "      <td>net</td>\n",
       "      <td>00:52:00</td>\n",
       "      <td>0</td>\n",
       "      <td>2/8/16</td>\n",
       "      <td>2</td>\n",
       "      <td>0</td>\n",
       "      <td>NaN</td>\n",
       "    </tr>\n",
       "    <tr>\n",
       "      <th>2016-07-22 13:06:00</th>\n",
       "      <td>2.13795E+14</td>\n",
       "      <td>male</td>\n",
       "      <td>NaT</td>\n",
       "      <td>2016-07</td>\n",
       "      <td>207816617</td>\n",
       "      <td>mobile</td>\n",
       "      <td>NaN</td>\n",
       "      <td>23.03</td>\n",
       "      <td>apparel</td>\n",
       "      <td>T-Shirts</td>\n",
       "      <td>net</td>\n",
       "      <td>13:06:00</td>\n",
       "      <td>13</td>\n",
       "      <td>22/7/16</td>\n",
       "      <td>7</td>\n",
       "      <td>4</td>\n",
       "      <td>NaN</td>\n",
       "    </tr>\n",
       "    <tr>\n",
       "      <th>2016-02-08 00:52:00</th>\n",
       "      <td>2.13795E+14</td>\n",
       "      <td>male</td>\n",
       "      <td>NaT</td>\n",
       "      <td>2016-07</td>\n",
       "      <td>205926117</td>\n",
       "      <td>mobile</td>\n",
       "      <td>NaN</td>\n",
       "      <td>13.93</td>\n",
       "      <td>apparel</td>\n",
       "      <td>T-Shirts</td>\n",
       "      <td>net</td>\n",
       "      <td>00:52:00</td>\n",
       "      <td>0</td>\n",
       "      <td>2/8/16</td>\n",
       "      <td>2</td>\n",
       "      <td>0</td>\n",
       "      <td>NaN</td>\n",
       "    </tr>\n",
       "    <tr>\n",
       "      <th>2016-07-30 11:07:00</th>\n",
       "      <td>2.13795E+14</td>\n",
       "      <td>male</td>\n",
       "      <td>NaT</td>\n",
       "      <td>2016-07</td>\n",
       "      <td>508943717</td>\n",
       "      <td>NaN</td>\n",
       "      <td>NaN</td>\n",
       "      <td>14.02</td>\n",
       "      <td>apparel</td>\n",
       "      <td>Shorts</td>\n",
       "      <td>net</td>\n",
       "      <td>11:07:00</td>\n",
       "      <td>11</td>\n",
       "      <td>30/7/16</td>\n",
       "      <td>7</td>\n",
       "      <td>5</td>\n",
       "      <td>NaN</td>\n",
       "    </tr>\n",
       "    <tr>\n",
       "      <th>2016-02-08 00:52:00</th>\n",
       "      <td>2.13795E+14</td>\n",
       "      <td>male</td>\n",
       "      <td>NaT</td>\n",
       "      <td>2016-07</td>\n",
       "      <td>205926117</td>\n",
       "      <td>mobile</td>\n",
       "      <td>NaN</td>\n",
       "      <td>13.93</td>\n",
       "      <td>apparel</td>\n",
       "      <td>T-Shirts</td>\n",
       "      <td>net</td>\n",
       "      <td>00:52:00</td>\n",
       "      <td>0</td>\n",
       "      <td>2/8/16</td>\n",
       "      <td>2</td>\n",
       "      <td>0</td>\n",
       "      <td>NaN</td>\n",
       "    </tr>\n",
       "    <tr>\n",
       "      <th>...</th>\n",
       "      <td>...</td>\n",
       "      <td>...</td>\n",
       "      <td>...</td>\n",
       "      <td>...</td>\n",
       "      <td>...</td>\n",
       "      <td>...</td>\n",
       "      <td>...</td>\n",
       "      <td>...</td>\n",
       "      <td>...</td>\n",
       "      <td>...</td>\n",
       "      <td>...</td>\n",
       "      <td>...</td>\n",
       "      <td>...</td>\n",
       "      <td>...</td>\n",
       "      <td>...</td>\n",
       "      <td>...</td>\n",
       "      <td>...</td>\n",
       "    </tr>\n",
       "    <tr>\n",
       "      <th>2017-02-03 17:02:00</th>\n",
       "      <td>2.14674E+14</td>\n",
       "      <td>male</td>\n",
       "      <td>1981-05-05</td>\n",
       "      <td>2017-03</td>\n",
       "      <td>209837635</td>\n",
       "      <td>mobile</td>\n",
       "      <td>5INMARCH</td>\n",
       "      <td>8.05</td>\n",
       "      <td>apparel</td>\n",
       "      <td>Tops</td>\n",
       "      <td>net</td>\n",
       "      <td>17:02:00</td>\n",
       "      <td>17</td>\n",
       "      <td>2/3/17</td>\n",
       "      <td>2</td>\n",
       "      <td>4</td>\n",
       "      <td>36.0</td>\n",
       "    </tr>\n",
       "    <tr>\n",
       "      <th>2017-02-03 17:02:00</th>\n",
       "      <td>2.14674E+14</td>\n",
       "      <td>male</td>\n",
       "      <td>1981-05-05</td>\n",
       "      <td>2017-03</td>\n",
       "      <td>209837635</td>\n",
       "      <td>mobile</td>\n",
       "      <td>5INMARCH</td>\n",
       "      <td>8.05</td>\n",
       "      <td>apparel</td>\n",
       "      <td>Tops</td>\n",
       "      <td>net</td>\n",
       "      <td>17:02:00</td>\n",
       "      <td>17</td>\n",
       "      <td>2/3/17</td>\n",
       "      <td>2</td>\n",
       "      <td>4</td>\n",
       "      <td>36.0</td>\n",
       "    </tr>\n",
       "    <tr>\n",
       "      <th>2017-02-03 17:02:00</th>\n",
       "      <td>2.14674E+14</td>\n",
       "      <td>male</td>\n",
       "      <td>1981-05-05</td>\n",
       "      <td>2017-03</td>\n",
       "      <td>209837635</td>\n",
       "      <td>mobile</td>\n",
       "      <td>5INMARCH</td>\n",
       "      <td>12.93</td>\n",
       "      <td>apparel</td>\n",
       "      <td>Tops</td>\n",
       "      <td>net</td>\n",
       "      <td>17:02:00</td>\n",
       "      <td>17</td>\n",
       "      <td>2/3/17</td>\n",
       "      <td>2</td>\n",
       "      <td>4</td>\n",
       "      <td>36.0</td>\n",
       "    </tr>\n",
       "    <tr>\n",
       "      <th>2017-02-03 17:02:00</th>\n",
       "      <td>2.14674E+14</td>\n",
       "      <td>male</td>\n",
       "      <td>1981-05-05</td>\n",
       "      <td>2017-03</td>\n",
       "      <td>209837635</td>\n",
       "      <td>mobile</td>\n",
       "      <td>5INMARCH</td>\n",
       "      <td>10.49</td>\n",
       "      <td>apparel</td>\n",
       "      <td>Tops</td>\n",
       "      <td>net</td>\n",
       "      <td>17:02:00</td>\n",
       "      <td>17</td>\n",
       "      <td>2/3/17</td>\n",
       "      <td>2</td>\n",
       "      <td>4</td>\n",
       "      <td>36.0</td>\n",
       "    </tr>\n",
       "    <tr>\n",
       "      <th>2016-10-27 19:56:00</th>\n",
       "      <td>2.14776E+14</td>\n",
       "      <td>female</td>\n",
       "      <td>NaT</td>\n",
       "      <td>2016-10</td>\n",
       "      <td>207312265</td>\n",
       "      <td>mobile</td>\n",
       "      <td>NaN</td>\n",
       "      <td>18.60</td>\n",
       "      <td>accessories</td>\n",
       "      <td>Watches</td>\n",
       "      <td>net</td>\n",
       "      <td>19:56:00</td>\n",
       "      <td>19</td>\n",
       "      <td>27/10/1</td>\n",
       "      <td>10</td>\n",
       "      <td>3</td>\n",
       "      <td>NaN</td>\n",
       "    </tr>\n",
       "  </tbody>\n",
       "</table>\n",
       "<p>646680 rows × 17 columns</p>\n",
       "</div>"
      ],
      "text/plain": [
       "                            zuid  gender   birthday   cohort   order_nr  \\\n",
       "order_created_at                                                          \n",
       "2016-02-08 00:52:00  2.13795E+14    male        NaT  2016-07  205926117   \n",
       "2016-07-22 13:06:00  2.13795E+14    male        NaT  2016-07  207816617   \n",
       "2016-02-08 00:52:00  2.13795E+14    male        NaT  2016-07  205926117   \n",
       "2016-07-30 11:07:00  2.13795E+14    male        NaT  2016-07  508943717   \n",
       "2016-02-08 00:52:00  2.13795E+14    male        NaT  2016-07  205926117   \n",
       "...                          ...     ...        ...      ...        ...   \n",
       "2017-02-03 17:02:00  2.14674E+14    male 1981-05-05  2017-03  209837635   \n",
       "2017-02-03 17:02:00  2.14674E+14    male 1981-05-05  2017-03  209837635   \n",
       "2017-02-03 17:02:00  2.14674E+14    male 1981-05-05  2017-03  209837635   \n",
       "2017-02-03 17:02:00  2.14674E+14    male 1981-05-05  2017-03  209837635   \n",
       "2016-10-27 19:56:00  2.14776E+14  female        NaT  2016-10  207312265   \n",
       "\n",
       "                    environment voucher_code  order_value     category  \\\n",
       "order_created_at                                                         \n",
       "2016-02-08 00:52:00      mobile          NaN        27.10      apparel   \n",
       "2016-07-22 13:06:00      mobile          NaN        23.03      apparel   \n",
       "2016-02-08 00:52:00      mobile          NaN        13.93      apparel   \n",
       "2016-07-30 11:07:00         NaN          NaN        14.02      apparel   \n",
       "2016-02-08 00:52:00      mobile          NaN        13.93      apparel   \n",
       "...                         ...          ...          ...          ...   \n",
       "2017-02-03 17:02:00      mobile     5INMARCH         8.05      apparel   \n",
       "2017-02-03 17:02:00      mobile     5INMARCH         8.05      apparel   \n",
       "2017-02-03 17:02:00      mobile     5INMARCH        12.93      apparel   \n",
       "2017-02-03 17:02:00      mobile     5INMARCH        10.49      apparel   \n",
       "2016-10-27 19:56:00      mobile          NaN        18.60  accessories   \n",
       "\n",
       "                    sub_category order_status order_time  order_hour  \\\n",
       "order_created_at                                                       \n",
       "2016-02-08 00:52:00       Shirts          net   00:52:00           0   \n",
       "2016-07-22 13:06:00     T-Shirts          net   13:06:00          13   \n",
       "2016-02-08 00:52:00     T-Shirts          net   00:52:00           0   \n",
       "2016-07-30 11:07:00       Shorts          net   11:07:00          11   \n",
       "2016-02-08 00:52:00     T-Shirts          net   00:52:00           0   \n",
       "...                          ...          ...        ...         ...   \n",
       "2017-02-03 17:02:00         Tops          net   17:02:00          17   \n",
       "2017-02-03 17:02:00         Tops          net   17:02:00          17   \n",
       "2017-02-03 17:02:00         Tops          net   17:02:00          17   \n",
       "2017-02-03 17:02:00         Tops          net   17:02:00          17   \n",
       "2016-10-27 19:56:00      Watches          net   19:56:00          19   \n",
       "\n",
       "                    order_year_mth  order_month  order_day   age  \n",
       "order_created_at                                                  \n",
       "2016-02-08 00:52:00        2/8/16             2          0   NaN  \n",
       "2016-07-22 13:06:00        22/7/16            7          4   NaN  \n",
       "2016-02-08 00:52:00        2/8/16             2          0   NaN  \n",
       "2016-07-30 11:07:00        30/7/16            7          5   NaN  \n",
       "2016-02-08 00:52:00        2/8/16             2          0   NaN  \n",
       "...                            ...          ...        ...   ...  \n",
       "2017-02-03 17:02:00        2/3/17             2          4  36.0  \n",
       "2017-02-03 17:02:00        2/3/17             2          4  36.0  \n",
       "2017-02-03 17:02:00        2/3/17             2          4  36.0  \n",
       "2017-02-03 17:02:00        2/3/17             2          4  36.0  \n",
       "2016-10-27 19:56:00        27/10/1           10          3   NaN  \n",
       "\n",
       "[646680 rows x 17 columns]"
      ]
     },
     "execution_count": 67,
     "metadata": {},
     "output_type": "execute_result"
    }
   ],
   "source": [
    "df_dateindex = df.set_index('order_created_at', drop=True)\n",
    "df_dateindex"
   ]
  },
  {
   "cell_type": "code",
   "execution_count": 68,
   "metadata": {
    "scrolled": false
   },
   "outputs": [
    {
     "data": {
      "image/png": "[encoded data removed]",
      "text/plain": [
       "<Figure size 1080x648 with 1 Axes>"
      ]
     },
     "metadata": {
      "needs_background": "light"
     },
     "output_type": "display_data"
    }
   ],
   "source": [
    "ax = df_dateindex.resample('D').sum().rolling(30).mean()['order_value'].plot()\n",
    "plt.xlabel(None)\n",
    "plt.ylabel('Daily rder value ($)')\n",
    "plt.title('Daily total order value over time')\n",
    "ax.set_ylim(0, None)\n",
    "plt.savefig('rolling_aov.png', transparent=True, dpi=300);"
   ]
  },
  {
   "cell_type": "markdown",
   "metadata": {},
   "source": [
    "### Which day of the week receives the most orders?"
   ]
  },
  {
   "cell_type": "code",
   "execution_count": 69,
   "metadata": {},
   "outputs": [
    {
     "data": {
      "text/html": [
       "<div>\n",
       "<style scoped>\n",
       "    .dataframe tbody tr th:only-of-type {\n",
       "        vertical-align: middle;\n",
       "    }\n",
       "\n",
       "    .dataframe tbody tr th {\n",
       "        vertical-align: top;\n",
       "    }\n",
       "\n",
       "    .dataframe thead th {\n",
       "        text-align: right;\n",
       "    }\n",
       "</style>\n",
       "<table border=\"1\" class=\"dataframe\">\n",
       "  <thead>\n",
       "    <tr style=\"text-align: right;\">\n",
       "      <th></th>\n",
       "      <th>0</th>\n",
       "      <th>1</th>\n",
       "      <th>2</th>\n",
       "      <th>3</th>\n",
       "      <th>4</th>\n",
       "      <th>5</th>\n",
       "      <th>6</th>\n",
       "    </tr>\n",
       "  </thead>\n",
       "  <tbody>\n",
       "    <tr>\n",
       "      <th>order_day</th>\n",
       "      <td>0</td>\n",
       "      <td>1</td>\n",
       "      <td>2</td>\n",
       "      <td>3</td>\n",
       "      <td>4</td>\n",
       "      <td>5</td>\n",
       "      <td>6</td>\n",
       "    </tr>\n",
       "    <tr>\n",
       "      <th>order_nr</th>\n",
       "      <td>101385</td>\n",
       "      <td>95225</td>\n",
       "      <td>88185</td>\n",
       "      <td>88868</td>\n",
       "      <td>90630</td>\n",
       "      <td>86808</td>\n",
       "      <td>95579</td>\n",
       "    </tr>\n",
       "  </tbody>\n",
       "</table>\n",
       "</div>"
      ],
      "text/plain": [
       "                0      1      2      3      4      5      6\n",
       "order_day       0      1      2      3      4      5      6\n",
       "order_nr   101385  95225  88185  88868  90630  86808  95579"
      ]
     },
     "execution_count": 69,
     "metadata": {},
     "output_type": "execute_result"
    }
   ],
   "source": [
    "df_dayweek = df.groupby('order_day', as_index=False).order_nr.count().sort_values('order_day')\n",
    "df_dayweek.T"
   ]
  },
  {
   "cell_type": "code",
   "execution_count": 70,
   "metadata": {},
   "outputs": [
    {
     "data": {
      "image/png": "[encoded data removed]",
      "text/plain": [
       "<Figure size 504x360 with 1 Axes>"
      ]
     },
     "metadata": {
      "needs_background": "light"
     },
     "output_type": "display_data"
    }
   ],
   "source": [
    "plt.figure(figsize=(7,5))\n",
    "ax = sns.barplot(data=df_dayweek, \n",
    "            x='order_day', \n",
    "            y='order_nr',\n",
    "            color='grey')\n",
    "plt.xlabel(None)\n",
    "plt.ylabel('Number of orders', size='large')\n",
    "plt.title('Total number of orders by day of week', size='large')\n",
    "bars = ('Mon', 'Tue', 'Wed', 'Thu', 'Fri', 'Sat', 'Sun')\n",
    "y_pos = np.arange(len(bars))\n",
    "plt.xticks(y_pos, bars, size='large')\n",
    "plt.yticks(size='large')\n",
    "ax.yaxis.set_major_formatter(num_formatter)\n",
    "plt.savefig('order_by_weekday.png', transparent=True, dpi=300, pad_inches=0.1);"
   ]
  },
  {
   "cell_type": "markdown",
   "metadata": {},
   "source": [
    "### Orders by hour of day"
   ]
  },
  {
   "cell_type": "code",
   "execution_count": 71,
   "metadata": {},
   "outputs": [
    {
     "data": {
      "text/html": [
       "<div>\n",
       "<style scoped>\n",
       "    .dataframe tbody tr th:only-of-type {\n",
       "        vertical-align: middle;\n",
       "    }\n",
       "\n",
       "    .dataframe tbody tr th {\n",
       "        vertical-align: top;\n",
       "    }\n",
       "\n",
       "    .dataframe thead th {\n",
       "        text-align: right;\n",
       "    }\n",
       "</style>\n",
       "<table border=\"1\" class=\"dataframe\">\n",
       "  <thead>\n",
       "    <tr style=\"text-align: right;\">\n",
       "      <th></th>\n",
       "      <th>0</th>\n",
       "      <th>1</th>\n",
       "      <th>2</th>\n",
       "      <th>3</th>\n",
       "      <th>4</th>\n",
       "      <th>5</th>\n",
       "      <th>6</th>\n",
       "      <th>7</th>\n",
       "      <th>8</th>\n",
       "      <th>9</th>\n",
       "      <th>...</th>\n",
       "      <th>14</th>\n",
       "      <th>15</th>\n",
       "      <th>16</th>\n",
       "      <th>17</th>\n",
       "      <th>18</th>\n",
       "      <th>19</th>\n",
       "      <th>20</th>\n",
       "      <th>21</th>\n",
       "      <th>22</th>\n",
       "      <th>23</th>\n",
       "    </tr>\n",
       "  </thead>\n",
       "  <tbody>\n",
       "    <tr>\n",
       "      <th>order_hour</th>\n",
       "      <td>0</td>\n",
       "      <td>1</td>\n",
       "      <td>2</td>\n",
       "      <td>3</td>\n",
       "      <td>4</td>\n",
       "      <td>5</td>\n",
       "      <td>6</td>\n",
       "      <td>7</td>\n",
       "      <td>8</td>\n",
       "      <td>9</td>\n",
       "      <td>...</td>\n",
       "      <td>14</td>\n",
       "      <td>15</td>\n",
       "      <td>16</td>\n",
       "      <td>17</td>\n",
       "      <td>18</td>\n",
       "      <td>19</td>\n",
       "      <td>20</td>\n",
       "      <td>21</td>\n",
       "      <td>22</td>\n",
       "      <td>23</td>\n",
       "    </tr>\n",
       "    <tr>\n",
       "      <th>order_nr</th>\n",
       "      <td>14681</td>\n",
       "      <td>8023</td>\n",
       "      <td>4174</td>\n",
       "      <td>2238</td>\n",
       "      <td>1389</td>\n",
       "      <td>1432</td>\n",
       "      <td>1966</td>\n",
       "      <td>3426</td>\n",
       "      <td>5832</td>\n",
       "      <td>9159</td>\n",
       "      <td>...</td>\n",
       "      <td>14879</td>\n",
       "      <td>14983</td>\n",
       "      <td>15161</td>\n",
       "      <td>14119</td>\n",
       "      <td>12724</td>\n",
       "      <td>11604</td>\n",
       "      <td>14869</td>\n",
       "      <td>20009</td>\n",
       "      <td>22342</td>\n",
       "      <td>21871</td>\n",
       "    </tr>\n",
       "  </tbody>\n",
       "</table>\n",
       "<p>2 rows × 24 columns</p>\n",
       "</div>"
      ],
      "text/plain": [
       "               0     1     2     3     4     5     6     7     8     9   ...  \\\n",
       "order_hour      0     1     2     3     4     5     6     7     8     9  ...   \n",
       "order_nr    14681  8023  4174  2238  1389  1432  1966  3426  5832  9159  ...   \n",
       "\n",
       "               14     15     16     17     18     19     20     21     22  \\\n",
       "order_hour     14     15     16     17     18     19     20     21     22   \n",
       "order_nr    14879  14983  15161  14119  12724  11604  14869  20009  22342   \n",
       "\n",
       "               23  \n",
       "order_hour     23  \n",
       "order_nr    21871  \n",
       "\n",
       "[2 rows x 24 columns]"
      ]
     },
     "execution_count": 71,
     "metadata": {},
     "output_type": "execute_result"
    }
   ],
   "source": [
    "# get the number of unique orders in each hour\n",
    "df_hour = df.groupby('order_hour').agg({'order_nr': pd.Series.nunique}).reset_index()\n",
    "df_hour.T"
   ]
  },
  {
   "cell_type": "code",
   "execution_count": 72,
   "metadata": {},
   "outputs": [
    {
     "data": {
      "image/png": "[encoded data removed]",
      "text/plain": [
       "<Figure size 1080x648 with 1 Axes>"
      ]
     },
     "metadata": {
      "needs_background": "light"
     },
     "output_type": "display_data"
    }
   ],
   "source": [
    "ax = sns.lineplot(data=df_hour, x='order_hour', y='order_nr', marker='o')\n",
    "x = df_hour.order_hour   # show all the xticks in graph\n",
    "plt.xticks(x, size=14)\n",
    "plt.ylim(0, None)\n",
    "plt.yticks(size=14)\n",
    "plt.xlabel('Hour', size=18)\n",
    "plt.ylabel('Total number of orders', size=18)\n",
    "plt.title('Orders by hour', size=20);"
   ]
  },
  {
   "cell_type": "markdown",
   "metadata": {},
   "source": [
    "### Which environment did the most number of sales come from?"
   ]
  },
  {
   "cell_type": "code",
   "execution_count": 73,
   "metadata": {},
   "outputs": [],
   "source": [
    "# find number of unique orders made in each environment\n",
    "df_env = df.groupby('environment', as_index=False).agg({'order_nr': pd.Series.nunique})"
   ]
  },
  {
   "cell_type": "code",
   "execution_count": 74,
   "metadata": {},
   "outputs": [
    {
     "data": {
      "text/html": [
       "<div>\n",
       "<style scoped>\n",
       "    .dataframe tbody tr th:only-of-type {\n",
       "        vertical-align: middle;\n",
       "    }\n",
       "\n",
       "    .dataframe tbody tr th {\n",
       "        vertical-align: top;\n",
       "    }\n",
       "\n",
       "    .dataframe thead th {\n",
       "        text-align: right;\n",
       "    }\n",
       "</style>\n",
       "<table border=\"1\" class=\"dataframe\">\n",
       "  <thead>\n",
       "    <tr style=\"text-align: right;\">\n",
       "      <th></th>\n",
       "      <th>environment</th>\n",
       "      <th>order_nr</th>\n",
       "    </tr>\n",
       "  </thead>\n",
       "  <tbody>\n",
       "    <tr>\n",
       "      <th>0</th>\n",
       "      <td>desktop</td>\n",
       "      <td>83737</td>\n",
       "    </tr>\n",
       "    <tr>\n",
       "      <th>1</th>\n",
       "      <td>mobile</td>\n",
       "      <td>165210</td>\n",
       "    </tr>\n",
       "    <tr>\n",
       "      <th>2</th>\n",
       "      <td>tablet</td>\n",
       "      <td>6174</td>\n",
       "    </tr>\n",
       "  </tbody>\n",
       "</table>\n",
       "</div>"
      ],
      "text/plain": [
       "  environment  order_nr\n",
       "0     desktop     83737\n",
       "1      mobile    165210\n",
       "2      tablet      6174"
      ]
     },
     "execution_count": 74,
     "metadata": {},
     "output_type": "execute_result"
    }
   ],
   "source": [
    "df_env"
   ]
  },
  {
   "cell_type": "code",
   "execution_count": 75,
   "metadata": {},
   "outputs": [],
   "source": [
    "df_env.columns= ['environment', 'total orders']"
   ]
  },
  {
   "cell_type": "code",
   "execution_count": 76,
   "metadata": {},
   "outputs": [
    {
     "data": {
      "image/png": "[encoded data removed]",
      "text/plain": [
       "<Figure size 1080x216 with 1 Axes>"
      ]
     },
     "metadata": {
      "needs_background": "light"
     },
     "output_type": "display_data"
    }
   ],
   "source": [
    "plt.figure(figsize=(15, 3))\n",
    "sns.barplot(data=df_env, x='total orders', y='environment', color='grey')\n",
    "plt.yticks(size=15)\n",
    "plt.xticks(size=15);"
   ]
  },
  {
   "cell_type": "markdown",
   "metadata": {},
   "source": [
    "Orders made on mobile app are almost twice of tablet and desktop orders combined."
   ]
  },
  {
   "cell_type": "markdown",
   "metadata": {},
   "source": [
    "### Which category is most popular?"
   ]
  },
  {
   "cell_type": "code",
   "execution_count": 77,
   "metadata": {
    "scrolled": true
   },
   "outputs": [],
   "source": [
    "df_cat = df.groupby('category', as_index=False).agg({'order_value': 'sum'}).sort_values('order_value', ascending=False)"
   ]
  },
  {
   "cell_type": "code",
   "execution_count": 78,
   "metadata": {},
   "outputs": [
    {
     "data": {
      "text/html": [
       "<div>\n",
       "<style scoped>\n",
       "    .dataframe tbody tr th:only-of-type {\n",
       "        vertical-align: middle;\n",
       "    }\n",
       "\n",
       "    .dataframe tbody tr th {\n",
       "        vertical-align: top;\n",
       "    }\n",
       "\n",
       "    .dataframe thead th {\n",
       "        text-align: right;\n",
       "    }\n",
       "</style>\n",
       "<table border=\"1\" class=\"dataframe\">\n",
       "  <thead>\n",
       "    <tr style=\"text-align: right;\">\n",
       "      <th></th>\n",
       "      <th>category</th>\n",
       "      <th>order_value</th>\n",
       "    </tr>\n",
       "  </thead>\n",
       "  <tbody>\n",
       "    <tr>\n",
       "      <th>1</th>\n",
       "      <td>apparel</td>\n",
       "      <td>8.784352e+06</td>\n",
       "    </tr>\n",
       "    <tr>\n",
       "      <th>0</th>\n",
       "      <td>accessories</td>\n",
       "      <td>2.974620e+06</td>\n",
       "    </tr>\n",
       "    <tr>\n",
       "      <th>3</th>\n",
       "      <td>footwear</td>\n",
       "      <td>2.957283e+06</td>\n",
       "    </tr>\n",
       "    <tr>\n",
       "      <th>5</th>\n",
       "      <td>sports</td>\n",
       "      <td>1.507744e+06</td>\n",
       "    </tr>\n",
       "    <tr>\n",
       "      <th>6</th>\n",
       "      <td>traditional</td>\n",
       "      <td>1.486579e+06</td>\n",
       "    </tr>\n",
       "    <tr>\n",
       "      <th>2</th>\n",
       "      <td>beauty</td>\n",
       "      <td>4.174349e+05</td>\n",
       "    </tr>\n",
       "    <tr>\n",
       "      <th>4</th>\n",
       "      <td>kids</td>\n",
       "      <td>3.064810e+03</td>\n",
       "    </tr>\n",
       "  </tbody>\n",
       "</table>\n",
       "</div>"
      ],
      "text/plain": [
       "      category   order_value\n",
       "1      apparel  8.784352e+06\n",
       "0  accessories  2.974620e+06\n",
       "3     footwear  2.957283e+06\n",
       "5       sports  1.507744e+06\n",
       "6  traditional  1.486579e+06\n",
       "2       beauty  4.174349e+05\n",
       "4         kids  3.064810e+03"
      ]
     },
     "execution_count": 78,
     "metadata": {},
     "output_type": "execute_result"
    }
   ],
   "source": [
    "df_cat"
   ]
  },
  {
   "cell_type": "code",
   "execution_count": 79,
   "metadata": {},
   "outputs": [
    {
     "data": {
      "text/plain": [
       "<matplotlib.axes._subplots.AxesSubplot at 0x7f85eed654d0>"
      ]
     },
     "execution_count": 79,
     "metadata": {},
     "output_type": "execute_result"
    },
    {
     "data": {
      "image/png": "[encoded data removed]",
      "text/plain": [
       "<Figure size 1080x648 with 1 Axes>"
      ]
     },
     "metadata": {
      "needs_background": "light"
     },
     "output_type": "display_data"
    }
   ],
   "source": [
    "sns.barplot(data=df_cat, \n",
    "            x='order_value', \n",
    "            y='category', \n",
    "            color='grey', \n",
    "            saturation=.5)\n"
   ]
  },
  {
   "cell_type": "markdown",
   "metadata": {},
   "source": [
    "### Which sub-category is most popular?"
   ]
  },
  {
   "cell_type": "code",
   "execution_count": 80,
   "metadata": {
    "scrolled": true
   },
   "outputs": [],
   "source": [
    "df_subcat = df.groupby('sub_category', as_index=False).agg({'order_value': 'sum'}).sort_values('order_value', ascending=False)"
   ]
  },
  {
   "cell_type": "code",
   "execution_count": 81,
   "metadata": {
    "scrolled": true
   },
   "outputs": [
    {
     "data": {
      "text/html": [
       "<div>\n",
       "<style scoped>\n",
       "    .dataframe tbody tr th:only-of-type {\n",
       "        vertical-align: middle;\n",
       "    }\n",
       "\n",
       "    .dataframe tbody tr th {\n",
       "        vertical-align: top;\n",
       "    }\n",
       "\n",
       "    .dataframe thead th {\n",
       "        text-align: right;\n",
       "    }\n",
       "</style>\n",
       "<table border=\"1\" class=\"dataframe\">\n",
       "  <thead>\n",
       "    <tr style=\"text-align: right;\">\n",
       "      <th></th>\n",
       "      <th>sub_category</th>\n",
       "      <th>order_value</th>\n",
       "    </tr>\n",
       "  </thead>\n",
       "  <tbody>\n",
       "    <tr>\n",
       "      <th>12</th>\n",
       "      <td>Dresses</td>\n",
       "      <td>3.419438e+06</td>\n",
       "    </tr>\n",
       "    <tr>\n",
       "      <th>76</th>\n",
       "      <td>Tops</td>\n",
       "      <td>1.321077e+06</td>\n",
       "    </tr>\n",
       "    <tr>\n",
       "      <th>80</th>\n",
       "      <td>Traditional Dresses</td>\n",
       "      <td>9.233018e+05</td>\n",
       "    </tr>\n",
       "    <tr>\n",
       "      <th>0</th>\n",
       "      <td>Backpacks</td>\n",
       "      <td>7.275165e+05</td>\n",
       "    </tr>\n",
       "    <tr>\n",
       "      <th>86</th>\n",
       "      <td>Watches</td>\n",
       "      <td>6.962357e+05</td>\n",
       "    </tr>\n",
       "    <tr>\n",
       "      <th>54</th>\n",
       "      <td>Sneakers</td>\n",
       "      <td>6.396705e+05</td>\n",
       "    </tr>\n",
       "    <tr>\n",
       "      <th>73</th>\n",
       "      <td>T-Shirts</td>\n",
       "      <td>5.996371e+05</td>\n",
       "    </tr>\n",
       "    <tr>\n",
       "      <th>22</th>\n",
       "      <td>Heels</td>\n",
       "      <td>5.820643e+05</td>\n",
       "    </tr>\n",
       "    <tr>\n",
       "      <th>45</th>\n",
       "      <td>Sandals &amp; Flip Flops</td>\n",
       "      <td>5.485055e+05</td>\n",
       "    </tr>\n",
       "    <tr>\n",
       "      <th>61</th>\n",
       "      <td>Sports Lifestyle Shoes</td>\n",
       "      <td>5.168263e+05</td>\n",
       "    </tr>\n",
       "    <tr>\n",
       "      <th>66</th>\n",
       "      <td>Sports Performance Shoes</td>\n",
       "      <td>4.424945e+05</td>\n",
       "    </tr>\n",
       "    <tr>\n",
       "      <th>1</th>\n",
       "      <td>Ballerina &amp; Flats</td>\n",
       "      <td>4.266332e+05</td>\n",
       "    </tr>\n",
       "    <tr>\n",
       "      <th>46</th>\n",
       "      <td>Shirts</td>\n",
       "      <td>3.844218e+05</td>\n",
       "    </tr>\n",
       "    <tr>\n",
       "      <th>81</th>\n",
       "      <td>Traditional Tops</td>\n",
       "      <td>3.816653e+05</td>\n",
       "    </tr>\n",
       "    <tr>\n",
       "      <th>43</th>\n",
       "      <td>Playsuits &amp; Jumpsuits</td>\n",
       "      <td>3.791462e+05</td>\n",
       "    </tr>\n",
       "    <tr>\n",
       "      <th>18</th>\n",
       "      <td>Fashion Bags</td>\n",
       "      <td>3.731756e+05</td>\n",
       "    </tr>\n",
       "    <tr>\n",
       "      <th>25</th>\n",
       "      <td>Jeans</td>\n",
       "      <td>3.577929e+05</td>\n",
       "    </tr>\n",
       "    <tr>\n",
       "      <th>33</th>\n",
       "      <td>Long Pants</td>\n",
       "      <td>3.544532e+05</td>\n",
       "    </tr>\n",
       "    <tr>\n",
       "      <th>48</th>\n",
       "      <td>Shorts</td>\n",
       "      <td>2.957342e+05</td>\n",
       "    </tr>\n",
       "    <tr>\n",
       "      <th>6</th>\n",
       "      <td>Boots</td>\n",
       "      <td>2.826097e+05</td>\n",
       "    </tr>\n",
       "  </tbody>\n",
       "</table>\n",
       "</div>"
      ],
      "text/plain": [
       "                sub_category   order_value\n",
       "12                   Dresses  3.419438e+06\n",
       "76                      Tops  1.321077e+06\n",
       "80       Traditional Dresses  9.233018e+05\n",
       "0                  Backpacks  7.275165e+05\n",
       "86                   Watches  6.962357e+05\n",
       "54                  Sneakers  6.396705e+05\n",
       "73                  T-Shirts  5.996371e+05\n",
       "22                     Heels  5.820643e+05\n",
       "45      Sandals & Flip Flops  5.485055e+05\n",
       "61    Sports Lifestyle Shoes  5.168263e+05\n",
       "66  Sports Performance Shoes  4.424945e+05\n",
       "1          Ballerina & Flats  4.266332e+05\n",
       "46                    Shirts  3.844218e+05\n",
       "81          Traditional Tops  3.816653e+05\n",
       "43     Playsuits & Jumpsuits  3.791462e+05\n",
       "18              Fashion Bags  3.731756e+05\n",
       "25                     Jeans  3.577929e+05\n",
       "33                Long Pants  3.544532e+05\n",
       "48                    Shorts  2.957342e+05\n",
       "6                      Boots  2.826097e+05"
      ]
     },
     "execution_count": 81,
     "metadata": {},
     "output_type": "execute_result"
    }
   ],
   "source": [
    "df_subcat = df_subcat.head(20)\n",
    "df_subcat"
   ]
  },
  {
   "cell_type": "code",
   "execution_count": 82,
   "metadata": {
    "scrolled": true
   },
   "outputs": [
    {
     "data": {
      "image/png": "[encoded data removed]",
      "text/plain": [
       "<Figure size 1080x432 with 1 Axes>"
      ]
     },
     "metadata": {
      "needs_background": "light"
     },
     "output_type": "display_data"
    }
   ],
   "source": [
    "plt.figure(figsize=(15, 6))\n",
    "sns.barplot(data=df_subcat, \n",
    "            x='order_value', \n",
    "            y='sub_category', \n",
    "            color='grey', \n",
    "            saturation=.5);"
   ]
  },
  {
   "cell_type": "markdown",
   "metadata": {},
   "source": [
    "# RFM analysis"
   ]
  },
  {
   "cell_type": "markdown",
   "metadata": {},
   "source": [
    "### Formulas\n",
    "\n",
    "- Recency: **number of days** between present date and date of last purchase for each customer.<br>\n",
    "- Frequency: **number of orders** for each customer.<br>\n",
    "- Monetary: **total sum of order value** for each customer."
   ]
  },
  {
   "cell_type": "markdown",
   "metadata": {},
   "source": [
    "There are three basic steps to RFM analysis:\n",
    "1. Sort all customers in ascending order based on Recency, Frequency and Monetary Value.\n",
    "2. Split customers into 4 or 5 for each factor.\n",
    "3. Combine factors to group customers into RFM segments for targeted marketing."
   ]
  },
  {
   "cell_type": "code",
   "execution_count": 84,
   "metadata": {},
   "outputs": [
    {
     "name": "stdout",
     "output_type": "stream",
     "text": [
      "We will do our RFM analysis from 2016-01-06 00:00:00 to 2017-12-06 23:57:00.\n"
     ]
    }
   ],
   "source": [
    "# Timeframe of the data\n",
    "print('We will do our RFM analysis from {} to {}.'.format(df['order_created_at'].min(),\n",
    "                                    df['order_created_at'].max()))"
   ]
  },
  {
   "cell_type": "markdown",
   "metadata": {},
   "source": [
    "## Find the last purchase date of each customer"
   ]
  },
  {
   "cell_type": "code",
   "execution_count": 85,
   "metadata": {},
   "outputs": [
    {
     "data": {
      "text/html": [
       "<div>\n",
       "<style scoped>\n",
       "    .dataframe tbody tr th:only-of-type {\n",
       "        vertical-align: middle;\n",
       "    }\n",
       "\n",
       "    .dataframe tbody tr th {\n",
       "        vertical-align: top;\n",
       "    }\n",
       "\n",
       "    .dataframe thead th {\n",
       "        text-align: right;\n",
       "    }\n",
       "</style>\n",
       "<table border=\"1\" class=\"dataframe\">\n",
       "  <thead>\n",
       "    <tr style=\"text-align: right;\">\n",
       "      <th></th>\n",
       "      <th>zuid</th>\n",
       "      <th>gender</th>\n",
       "      <th>birthday</th>\n",
       "      <th>cohort</th>\n",
       "      <th>order_nr</th>\n",
       "      <th>environment</th>\n",
       "      <th>voucher_code</th>\n",
       "      <th>order_value</th>\n",
       "      <th>category</th>\n",
       "      <th>sub_category</th>\n",
       "      <th>order_created_at</th>\n",
       "      <th>order_status</th>\n",
       "      <th>order_time</th>\n",
       "      <th>order_hour</th>\n",
       "      <th>order_year_mth</th>\n",
       "      <th>order_month</th>\n",
       "      <th>order_day</th>\n",
       "      <th>age</th>\n",
       "    </tr>\n",
       "  </thead>\n",
       "  <tbody>\n",
       "    <tr>\n",
       "      <th>1</th>\n",
       "      <td>2.13795E+14</td>\n",
       "      <td>male</td>\n",
       "      <td>NaT</td>\n",
       "      <td>2016-07</td>\n",
       "      <td>205926117</td>\n",
       "      <td>mobile</td>\n",
       "      <td>NaN</td>\n",
       "      <td>27.10</td>\n",
       "      <td>apparel</td>\n",
       "      <td>Shirts</td>\n",
       "      <td>2016-02-08 00:52:00</td>\n",
       "      <td>net</td>\n",
       "      <td>00:52:00</td>\n",
       "      <td>0</td>\n",
       "      <td>2/8/16</td>\n",
       "      <td>2</td>\n",
       "      <td>0</td>\n",
       "      <td>NaN</td>\n",
       "    </tr>\n",
       "    <tr>\n",
       "      <th>2</th>\n",
       "      <td>2.13795E+14</td>\n",
       "      <td>male</td>\n",
       "      <td>NaT</td>\n",
       "      <td>2016-07</td>\n",
       "      <td>207816617</td>\n",
       "      <td>mobile</td>\n",
       "      <td>NaN</td>\n",
       "      <td>23.03</td>\n",
       "      <td>apparel</td>\n",
       "      <td>T-Shirts</td>\n",
       "      <td>2016-07-22 13:06:00</td>\n",
       "      <td>net</td>\n",
       "      <td>13:06:00</td>\n",
       "      <td>13</td>\n",
       "      <td>22/7/16</td>\n",
       "      <td>7</td>\n",
       "      <td>4</td>\n",
       "      <td>NaN</td>\n",
       "    </tr>\n",
       "    <tr>\n",
       "      <th>3</th>\n",
       "      <td>2.13795E+14</td>\n",
       "      <td>male</td>\n",
       "      <td>NaT</td>\n",
       "      <td>2016-07</td>\n",
       "      <td>205926117</td>\n",
       "      <td>mobile</td>\n",
       "      <td>NaN</td>\n",
       "      <td>13.93</td>\n",
       "      <td>apparel</td>\n",
       "      <td>T-Shirts</td>\n",
       "      <td>2016-02-08 00:52:00</td>\n",
       "      <td>net</td>\n",
       "      <td>00:52:00</td>\n",
       "      <td>0</td>\n",
       "      <td>2/8/16</td>\n",
       "      <td>2</td>\n",
       "      <td>0</td>\n",
       "      <td>NaN</td>\n",
       "    </tr>\n",
       "    <tr>\n",
       "      <th>4</th>\n",
       "      <td>2.13795E+14</td>\n",
       "      <td>male</td>\n",
       "      <td>NaT</td>\n",
       "      <td>2016-07</td>\n",
       "      <td>508943717</td>\n",
       "      <td>NaN</td>\n",
       "      <td>NaN</td>\n",
       "      <td>14.02</td>\n",
       "      <td>apparel</td>\n",
       "      <td>Shorts</td>\n",
       "      <td>2016-07-30 11:07:00</td>\n",
       "      <td>net</td>\n",
       "      <td>11:07:00</td>\n",
       "      <td>11</td>\n",
       "      <td>30/7/16</td>\n",
       "      <td>7</td>\n",
       "      <td>5</td>\n",
       "      <td>NaN</td>\n",
       "    </tr>\n",
       "    <tr>\n",
       "      <th>5</th>\n",
       "      <td>2.13795E+14</td>\n",
       "      <td>male</td>\n",
       "      <td>NaT</td>\n",
       "      <td>2016-07</td>\n",
       "      <td>205926117</td>\n",
       "      <td>mobile</td>\n",
       "      <td>NaN</td>\n",
       "      <td>13.93</td>\n",
       "      <td>apparel</td>\n",
       "      <td>T-Shirts</td>\n",
       "      <td>2016-02-08 00:52:00</td>\n",
       "      <td>net</td>\n",
       "      <td>00:52:00</td>\n",
       "      <td>0</td>\n",
       "      <td>2/8/16</td>\n",
       "      <td>2</td>\n",
       "      <td>0</td>\n",
       "      <td>NaN</td>\n",
       "    </tr>\n",
       "  </tbody>\n",
       "</table>\n",
       "</div>"
      ],
      "text/plain": [
       "          zuid gender birthday   cohort   order_nr environment voucher_code  \\\n",
       "1  2.13795E+14   male      NaT  2016-07  205926117      mobile          NaN   \n",
       "2  2.13795E+14   male      NaT  2016-07  207816617      mobile          NaN   \n",
       "3  2.13795E+14   male      NaT  2016-07  205926117      mobile          NaN   \n",
       "4  2.13795E+14   male      NaT  2016-07  508943717         NaN          NaN   \n",
       "5  2.13795E+14   male      NaT  2016-07  205926117      mobile          NaN   \n",
       "\n",
       "   order_value category sub_category    order_created_at order_status  \\\n",
       "1        27.10  apparel       Shirts 2016-02-08 00:52:00          net   \n",
       "2        23.03  apparel     T-Shirts 2016-07-22 13:06:00          net   \n",
       "3        13.93  apparel     T-Shirts 2016-02-08 00:52:00          net   \n",
       "4        14.02  apparel       Shorts 2016-07-30 11:07:00          net   \n",
       "5        13.93  apparel     T-Shirts 2016-02-08 00:52:00          net   \n",
       "\n",
       "  order_time  order_hour order_year_mth  order_month  order_day  age  \n",
       "1   00:52:00           0        2/8/16             2          0  NaN  \n",
       "2   13:06:00          13        22/7/16            7          4  NaN  \n",
       "3   00:52:00           0        2/8/16             2          0  NaN  \n",
       "4   11:07:00          11        30/7/16            7          5  NaN  \n",
       "5   00:52:00           0        2/8/16             2          0  NaN  "
      ]
     },
     "execution_count": 85,
     "metadata": {},
     "output_type": "execute_result"
    }
   ],
   "source": [
    "df.head()"
   ]
  },
  {
   "cell_type": "code",
   "execution_count": 86,
   "metadata": {},
   "outputs": [
    {
     "data": {
      "text/html": [
       "<div>\n",
       "<style scoped>\n",
       "    .dataframe tbody tr th:only-of-type {\n",
       "        vertical-align: middle;\n",
       "    }\n",
       "\n",
       "    .dataframe tbody tr th {\n",
       "        vertical-align: top;\n",
       "    }\n",
       "\n",
       "    .dataframe thead th {\n",
       "        text-align: right;\n",
       "    }\n",
       "</style>\n",
       "<table border=\"1\" class=\"dataframe\">\n",
       "  <thead>\n",
       "    <tr style=\"text-align: right;\">\n",
       "      <th></th>\n",
       "      <th>zuid</th>\n",
       "      <th>last_purchase_date</th>\n",
       "    </tr>\n",
       "  </thead>\n",
       "  <tbody>\n",
       "    <tr>\n",
       "      <th>0</th>\n",
       "      <td>2.13795E+14</td>\n",
       "      <td>2017-12-06 23:55:00</td>\n",
       "    </tr>\n",
       "    <tr>\n",
       "      <th>1</th>\n",
       "      <td>2.13796E+14</td>\n",
       "      <td>2017-11-01 21:43:00</td>\n",
       "    </tr>\n",
       "    <tr>\n",
       "      <th>2</th>\n",
       "      <td>2.13797E+14</td>\n",
       "      <td>2017-12-03 17:26:00</td>\n",
       "    </tr>\n",
       "    <tr>\n",
       "      <th>3</th>\n",
       "      <td>2.13798E+14</td>\n",
       "      <td>2017-06-19 14:50:00</td>\n",
       "    </tr>\n",
       "    <tr>\n",
       "      <th>4</th>\n",
       "      <td>2.13799E+14</td>\n",
       "      <td>2017-12-04 19:17:00</td>\n",
       "    </tr>\n",
       "  </tbody>\n",
       "</table>\n",
       "</div>"
      ],
      "text/plain": [
       "          zuid  last_purchase_date\n",
       "0  2.13795E+14 2017-12-06 23:55:00\n",
       "1  2.13796E+14 2017-11-01 21:43:00\n",
       "2  2.13797E+14 2017-12-03 17:26:00\n",
       "3  2.13798E+14 2017-06-19 14:50:00\n",
       "4  2.13799E+14 2017-12-04 19:17:00"
      ]
     },
     "execution_count": 86,
     "metadata": {},
     "output_type": "execute_result"
    }
   ],
   "source": [
    "# Group by customer ID and retrieve last date of purchase\n",
    "recency_df = df.groupby(by='zuid', as_index=False)['order_created_at'].max()\n",
    "recency_df.columns = ['zuid','last_purchase_date']\n",
    "recency_df.head()"
   ]
  },
  {
   "cell_type": "markdown",
   "metadata": {},
   "source": [
    "To simulate an analysis in real time, we can set the CURRENT date at one day after the last purchase.<br> \n",
    "This date will be used as a reference to calculate the Recency score."
   ]
  },
  {
   "cell_type": "code",
   "execution_count": 87,
   "metadata": {},
   "outputs": [
    {
     "data": {
      "text/plain": [
       "Timestamp('2017-12-07 23:57:00')"
      ]
     },
     "execution_count": 87,
     "metadata": {},
     "output_type": "execute_result"
    }
   ],
   "source": [
    "CURRENT = df['order_created_at'].max() + timedelta(days=1)\n",
    "CURRENT"
   ]
  },
  {
   "cell_type": "code",
   "execution_count": 88,
   "metadata": {},
   "outputs": [],
   "source": [
    "rfm = df.groupby('zuid').agg({'order_created_at': lambda date: (CURRENT - date.max()).days, # days since last order\n",
    "                                        'order_nr': lambda num: len(num), # number of orders made\n",
    "                                        'order_value': lambda value: value.sum()}) # sum of all order values"
   ]
  },
  {
   "cell_type": "code",
   "execution_count": 89,
   "metadata": {},
   "outputs": [],
   "source": [
    "rfm.columns = ['recency', 'frequency', 'monetary']"
   ]
  },
  {
   "cell_type": "code",
   "execution_count": 90,
   "metadata": {},
   "outputs": [
    {
     "data": {
      "text/html": [
       "<div>\n",
       "<style scoped>\n",
       "    .dataframe tbody tr th:only-of-type {\n",
       "        vertical-align: middle;\n",
       "    }\n",
       "\n",
       "    .dataframe tbody tr th {\n",
       "        vertical-align: top;\n",
       "    }\n",
       "\n",
       "    .dataframe thead th {\n",
       "        text-align: right;\n",
       "    }\n",
       "</style>\n",
       "<table border=\"1\" class=\"dataframe\">\n",
       "  <thead>\n",
       "    <tr style=\"text-align: right;\">\n",
       "      <th></th>\n",
       "      <th>recency</th>\n",
       "      <th>frequency</th>\n",
       "      <th>monetary</th>\n",
       "    </tr>\n",
       "    <tr>\n",
       "      <th>zuid</th>\n",
       "      <th></th>\n",
       "      <th></th>\n",
       "      <th></th>\n",
       "    </tr>\n",
       "  </thead>\n",
       "  <tbody>\n",
       "    <tr>\n",
       "      <th>2.13795E+14</th>\n",
       "      <td>1</td>\n",
       "      <td>27056</td>\n",
       "      <td>805751.03</td>\n",
       "    </tr>\n",
       "    <tr>\n",
       "      <th>2.13796E+14</th>\n",
       "      <td>36</td>\n",
       "      <td>23</td>\n",
       "      <td>336.31</td>\n",
       "    </tr>\n",
       "    <tr>\n",
       "      <th>2.13797E+14</th>\n",
       "      <td>4</td>\n",
       "      <td>75</td>\n",
       "      <td>1577.63</td>\n",
       "    </tr>\n",
       "    <tr>\n",
       "      <th>2.13798E+14</th>\n",
       "      <td>171</td>\n",
       "      <td>50</td>\n",
       "      <td>2621.52</td>\n",
       "    </tr>\n",
       "    <tr>\n",
       "      <th>2.13799E+14</th>\n",
       "      <td>3</td>\n",
       "      <td>40</td>\n",
       "      <td>1064.96</td>\n",
       "    </tr>\n",
       "    <tr>\n",
       "      <th>...</th>\n",
       "      <td>...</td>\n",
       "      <td>...</td>\n",
       "      <td>...</td>\n",
       "    </tr>\n",
       "    <tr>\n",
       "      <th>2.14985E+14</th>\n",
       "      <td>162</td>\n",
       "      <td>524</td>\n",
       "      <td>17832.57</td>\n",
       "    </tr>\n",
       "    <tr>\n",
       "      <th>2.14986E+14</th>\n",
       "      <td>163</td>\n",
       "      <td>68</td>\n",
       "      <td>2347.60</td>\n",
       "    </tr>\n",
       "    <tr>\n",
       "      <th>2.1498E+14</th>\n",
       "      <td>163</td>\n",
       "      <td>595</td>\n",
       "      <td>22613.19</td>\n",
       "    </tr>\n",
       "    <tr>\n",
       "      <th>2.149E+14</th>\n",
       "      <td>1</td>\n",
       "      <td>797</td>\n",
       "      <td>23864.31</td>\n",
       "    </tr>\n",
       "    <tr>\n",
       "      <th>2.14E+14</th>\n",
       "      <td>1</td>\n",
       "      <td>31</td>\n",
       "      <td>964.35</td>\n",
       "    </tr>\n",
       "  </tbody>\n",
       "</table>\n",
       "<p>1192 rows × 3 columns</p>\n",
       "</div>"
      ],
      "text/plain": [
       "             recency  frequency   monetary\n",
       "zuid                                      \n",
       "2.13795E+14        1      27056  805751.03\n",
       "2.13796E+14       36         23     336.31\n",
       "2.13797E+14        4         75    1577.63\n",
       "2.13798E+14      171         50    2621.52\n",
       "2.13799E+14        3         40    1064.96\n",
       "...              ...        ...        ...\n",
       "2.14985E+14      162        524   17832.57\n",
       "2.14986E+14      163         68    2347.60\n",
       "2.1498E+14       163        595   22613.19\n",
       "2.149E+14          1        797   23864.31\n",
       "2.14E+14           1         31     964.35\n",
       "\n",
       "[1192 rows x 3 columns]"
      ]
     },
     "execution_count": 90,
     "metadata": {},
     "output_type": "execute_result"
    }
   ],
   "source": [
    "rfm"
   ]
  },
  {
   "cell_type": "markdown",
   "metadata": {},
   "source": [
    "## Histogram based on Frequency"
   ]
  },
  {
   "cell_type": "code",
   "execution_count": 91,
   "metadata": {
    "scrolled": false
   },
   "outputs": [
    {
     "data": {
      "image/png": "[encoded data removed]",
      "text/plain": [
       "<Figure size 1080x648 with 1 Axes>"
      ]
     },
     "metadata": {
      "needs_background": "light"
     },
     "output_type": "display_data"
    }
   ],
   "source": [
    "sns.distplot(rfm.frequency, rug=True);"
   ]
  },
  {
   "cell_type": "markdown",
   "metadata": {},
   "source": [
    "### Inspect distribution of frequency"
   ]
  },
  {
   "cell_type": "code",
   "execution_count": 92,
   "metadata": {},
   "outputs": [
    {
     "name": "stdout",
     "output_type": "stream",
     "text": [
      "0 customers purchased 1 time(s)\n",
      "0.00% customers purchased 1 time(s)\n",
      "\n",
      "0 customers purchased 2 time(s)\n",
      "0.00% customers purchased 2 time(s)\n",
      "\n",
      "0 customers purchased 3 time(s)\n",
      "0.00% customers purchased 3 time(s)\n",
      "\n",
      "0 customers purchased 4 time(s)\n",
      "0.00% customers purchased 4 time(s)\n",
      "\n",
      "0 customers purchased 5 time(s)\n",
      "0.00% customers purchased 5 time(s)\n",
      "\n"
     ]
    }
   ],
   "source": [
    "freq_list = []\n",
    "cust_count_list = []\n",
    "cust_count_pct_list = []\n",
    "\n",
    "for i in range(1,6):\n",
    "    cust_count = rfm[rfm['frequency'] == i]['frequency'].count()\n",
    "    cust_count_pct = cust_count/len(rfm)\n",
    "    \n",
    "    freq_list.append(i)\n",
    "    cust_count_list.append(cust_count)\n",
    "    cust_count_pct_list.append(cust_count_pct)\n",
    "    \n",
    "    print(cust_count, 'customers purchased', i, 'time(s)')\n",
    "    print(\"{:.2f}%\".format(cust_count_pct*100), 'customers purchased', i, 'time(s)\\n')"
   ]
  },
  {
   "cell_type": "code",
   "execution_count": 93,
   "metadata": {},
   "outputs": [
    {
     "data": {
      "text/html": [
       "<div>\n",
       "<style scoped>\n",
       "    .dataframe tbody tr th:only-of-type {\n",
       "        vertical-align: middle;\n",
       "    }\n",
       "\n",
       "    .dataframe tbody tr th {\n",
       "        vertical-align: top;\n",
       "    }\n",
       "\n",
       "    .dataframe thead th {\n",
       "        text-align: right;\n",
       "    }\n",
       "</style>\n",
       "<table border=\"1\" class=\"dataframe\">\n",
       "  <thead>\n",
       "    <tr style=\"text-align: right;\">\n",
       "      <th></th>\n",
       "      <th>purchase_count</th>\n",
       "      <th>cust_count</th>\n",
       "      <th>cust_pct</th>\n",
       "    </tr>\n",
       "  </thead>\n",
       "  <tbody>\n",
       "    <tr>\n",
       "      <th>0</th>\n",
       "      <td>1</td>\n",
       "      <td>0</td>\n",
       "      <td>0.0</td>\n",
       "    </tr>\n",
       "    <tr>\n",
       "      <th>1</th>\n",
       "      <td>2</td>\n",
       "      <td>0</td>\n",
       "      <td>0.0</td>\n",
       "    </tr>\n",
       "    <tr>\n",
       "      <th>2</th>\n",
       "      <td>3</td>\n",
       "      <td>0</td>\n",
       "      <td>0.0</td>\n",
       "    </tr>\n",
       "    <tr>\n",
       "      <th>3</th>\n",
       "      <td>4</td>\n",
       "      <td>0</td>\n",
       "      <td>0.0</td>\n",
       "    </tr>\n",
       "    <tr>\n",
       "      <th>4</th>\n",
       "      <td>5</td>\n",
       "      <td>0</td>\n",
       "      <td>0.0</td>\n",
       "    </tr>\n",
       "  </tbody>\n",
       "</table>\n",
       "</div>"
      ],
      "text/plain": [
       "   purchase_count  cust_count  cust_pct\n",
       "0               1           0       0.0\n",
       "1               2           0       0.0\n",
       "2               3           0       0.0\n",
       "3               4           0       0.0\n",
       "4               5           0       0.0"
      ]
     },
     "execution_count": 93,
     "metadata": {},
     "output_type": "execute_result"
    }
   ],
   "source": [
    "df_freq = pd.DataFrame(list(zip(freq_list, cust_count_list, cust_count_pct_list)), \n",
    "               columns =['purchase_count', 'cust_count', 'cust_pct']) \n",
    "df_freq"
   ]
  },
  {
   "cell_type": "code",
   "execution_count": 94,
   "metadata": {
    "scrolled": true
   },
   "outputs": [
    {
     "data": {
      "text/plain": [
       "0    0.0\n",
       "1    0.0\n",
       "2    0.0\n",
       "3    0.0\n",
       "4    0.0\n",
       "Name: cust_pct, dtype: float64"
      ]
     },
     "execution_count": 94,
     "metadata": {},
     "output_type": "execute_result"
    }
   ],
   "source": [
    "df_freq.cust_pct.cumsum()"
   ]
  },
  {
   "cell_type": "markdown",
   "metadata": {},
   "source": [
    "## Histogram based on Recency"
   ]
  },
  {
   "cell_type": "code",
   "execution_count": 95,
   "metadata": {},
   "outputs": [
    {
     "data": {
      "image/png": "[encoded data removed]",
      "text/plain": [
       "<Figure size 1080x648 with 1 Axes>"
      ]
     },
     "metadata": {
      "needs_background": "light"
     },
     "output_type": "display_data"
    }
   ],
   "source": [
    "sns.distplot(rfm.recency, rug=True);"
   ]
  },
  {
   "cell_type": "code",
   "execution_count": 96,
   "metadata": {},
   "outputs": [
    {
     "data": {
      "text/plain": [
       "[1.0, 2.0, 5.0, 35.0]"
      ]
     },
     "execution_count": 96,
     "metadata": {},
     "output_type": "execute_result"
    }
   ],
   "source": [
    "rfm.recency.quantile([.2, .4, .6, .8]).to_list()"
   ]
  },
  {
   "cell_type": "markdown",
   "metadata": {},
   "source": [
    "## Histogram based on Monetary value"
   ]
  },
  {
   "cell_type": "code",
   "execution_count": 97,
   "metadata": {
    "scrolled": false
   },
   "outputs": [
    {
     "data": {
      "image/png": "[encoded data removed]",
      "text/plain": [
       "<Figure size 1080x648 with 1 Axes>"
      ]
     },
     "metadata": {
      "needs_background": "light"
     },
     "output_type": "display_data"
    }
   ],
   "source": [
    "sns.distplot(rfm.monetary, rug=True);"
   ]
  },
  {
   "cell_type": "code",
   "execution_count": 98,
   "metadata": {
    "scrolled": false
   },
   "outputs": [
    {
     "data": {
      "text/plain": [
       "<matplotlib.axes._subplots.AxesSubplot at 0x7f85ee9ef090>"
      ]
     },
     "execution_count": 98,
     "metadata": {},
     "output_type": "execute_result"
    },
    {
     "data": {
      "image/png": "[encoded data removed]",
      "text/plain": [
       "<Figure size 1296x1296 with 1 Axes>"
      ]
     },
     "metadata": {
      "needs_background": "light"
     },
     "output_type": "display_data"
    }
   ],
   "source": [
    "plt.figure(figsize=(18, 18))\n",
    "sns.scatterplot(data=rfm, \n",
    "                x='recency', \n",
    "                y='frequency',\n",
    "                size='monetary')"
   ]
  },
  {
   "cell_type": "markdown",
   "metadata": {},
   "source": [
    "## Computing Quantile of RFM values\n",
    "\n",
    "    \n",
    "The common practice is to divide the customers into 4 or 5 bins. We will go with 5 bins here for more granular analysis and also because the time frame is slightly longer than the conventional one-year timeframe for RFM analysis."
   ]
  },
  {
   "cell_type": "code",
   "execution_count": 99,
   "metadata": {},
   "outputs": [
    {
     "data": {
      "text/html": [
       "<div>\n",
       "<style scoped>\n",
       "    .dataframe tbody tr th:only-of-type {\n",
       "        vertical-align: middle;\n",
       "    }\n",
       "\n",
       "    .dataframe tbody tr th {\n",
       "        vertical-align: top;\n",
       "    }\n",
       "\n",
       "    .dataframe thead th {\n",
       "        text-align: right;\n",
       "    }\n",
       "</style>\n",
       "<table border=\"1\" class=\"dataframe\">\n",
       "  <thead>\n",
       "    <tr style=\"text-align: right;\">\n",
       "      <th></th>\n",
       "      <th>recency</th>\n",
       "      <th>frequency</th>\n",
       "      <th>monetary</th>\n",
       "    </tr>\n",
       "  </thead>\n",
       "  <tbody>\n",
       "    <tr>\n",
       "      <th>0.2</th>\n",
       "      <td>1.0</td>\n",
       "      <td>74.0</td>\n",
       "      <td>2126.512</td>\n",
       "    </tr>\n",
       "    <tr>\n",
       "      <th>0.4</th>\n",
       "      <td>2.0</td>\n",
       "      <td>118.4</td>\n",
       "      <td>3422.632</td>\n",
       "    </tr>\n",
       "    <tr>\n",
       "      <th>0.6</th>\n",
       "      <td>5.0</td>\n",
       "      <td>245.2</td>\n",
       "      <td>6811.280</td>\n",
       "    </tr>\n",
       "    <tr>\n",
       "      <th>0.8</th>\n",
       "      <td>35.0</td>\n",
       "      <td>905.0</td>\n",
       "      <td>27733.912</td>\n",
       "    </tr>\n",
       "  </tbody>\n",
       "</table>\n",
       "</div>"
      ],
      "text/plain": [
       "     recency  frequency   monetary\n",
       "0.2      1.0       74.0   2126.512\n",
       "0.4      2.0      118.4   3422.632\n",
       "0.6      5.0      245.2   6811.280\n",
       "0.8     35.0      905.0  27733.912"
      ]
     },
     "execution_count": 99,
     "metadata": {},
     "output_type": "execute_result"
    }
   ],
   "source": [
    "quintiles = rfm.quantile([.2, .4, .6, .8]).to_dict()\n",
    "pd.DataFrame(quintiles)"
   ]
  },
  {
   "cell_type": "code",
   "execution_count": 100,
   "metadata": {},
   "outputs": [],
   "source": [
    "# For Recency, the label is inverse that of Frequency and Monetary.\n",
    "# This is because a smaller value for Recency is better while larger value for Frequency and Monetary are better.\n",
    "\n",
    "def r_score(x):\n",
    "    if x <= quintiles['recency'][.2]:\n",
    "        return 5\n",
    "    elif x <= quintiles['recency'][.4]:\n",
    "        return 4\n",
    "    elif x <= quintiles['recency'][.6]:\n",
    "        return 3\n",
    "    elif x <= quintiles['recency'][.8]:\n",
    "        return 2\n",
    "    else:\n",
    "        return 1\n",
    "    \n",
    "def fm_score(x, column):\n",
    "    if x <= quintiles[column][.2]:\n",
    "        return 1\n",
    "    elif x <= quintiles[column][.4]:\n",
    "        return 2\n",
    "    elif x <= quintiles[column][.6]:\n",
    "        return 3\n",
    "    elif x <= quintiles[column][.8]:\n",
    "        return 4\n",
    "    else:\n",
    "        return 5"
   ]
  },
  {
   "cell_type": "code",
   "execution_count": 101,
   "metadata": {},
   "outputs": [],
   "source": [
    "rfm['R'] = rfm['recency'].apply(lambda x: r_score(x))\n",
    "rfm['F'] = rfm['frequency'].apply(lambda x: fm_score(x, 'frequency'))\n",
    "rfm['M'] = rfm['monetary'].apply(lambda x: fm_score(x, 'monetary'))"
   ]
  },
  {
   "cell_type": "code",
   "execution_count": 102,
   "metadata": {},
   "outputs": [
    {
     "name": "stdout",
     "output_type": "stream",
     "text": [
      "<class 'pandas.core.frame.DataFrame'>\n",
      "Index: 1192 entries, 2.13795E+14 to 2.14E+14\n",
      "Data columns (total 6 columns):\n",
      " #   Column     Non-Null Count  Dtype  \n",
      "---  ------     --------------  -----  \n",
      " 0   recency    1192 non-null   int64  \n",
      " 1   frequency  1192 non-null   int64  \n",
      " 2   monetary   1192 non-null   float64\n",
      " 3   R          1192 non-null   int64  \n",
      " 4   F          1192 non-null   int64  \n",
      " 5   M          1192 non-null   int64  \n",
      "dtypes: float64(1), int64(5)\n",
      "memory usage: 105.2+ KB\n"
     ]
    }
   ],
   "source": [
    "rfm.info()"
   ]
  },
  {
   "cell_type": "code",
   "execution_count": 103,
   "metadata": {},
   "outputs": [],
   "source": [
    "rfm['RFM_score'] = rfm['R'].apply(str) + rfm['F'].apply(str) + rfm['M'].apply(str)"
   ]
  },
  {
   "cell_type": "code",
   "execution_count": 104,
   "metadata": {},
   "outputs": [
    {
     "data": {
      "text/html": [
       "<div>\n",
       "<style scoped>\n",
       "    .dataframe tbody tr th:only-of-type {\n",
       "        vertical-align: middle;\n",
       "    }\n",
       "\n",
       "    .dataframe tbody tr th {\n",
       "        vertical-align: top;\n",
       "    }\n",
       "\n",
       "    .dataframe thead th {\n",
       "        text-align: right;\n",
       "    }\n",
       "</style>\n",
       "<table border=\"1\" class=\"dataframe\">\n",
       "  <thead>\n",
       "    <tr style=\"text-align: right;\">\n",
       "      <th></th>\n",
       "      <th>recency</th>\n",
       "      <th>frequency</th>\n",
       "      <th>monetary</th>\n",
       "      <th>R</th>\n",
       "      <th>F</th>\n",
       "      <th>M</th>\n",
       "      <th>RFM_score</th>\n",
       "    </tr>\n",
       "    <tr>\n",
       "      <th>zuid</th>\n",
       "      <th></th>\n",
       "      <th></th>\n",
       "      <th></th>\n",
       "      <th></th>\n",
       "      <th></th>\n",
       "      <th></th>\n",
       "      <th></th>\n",
       "    </tr>\n",
       "  </thead>\n",
       "  <tbody>\n",
       "    <tr>\n",
       "      <th>2.13795E+14</th>\n",
       "      <td>1</td>\n",
       "      <td>27056</td>\n",
       "      <td>805751.03</td>\n",
       "      <td>5</td>\n",
       "      <td>5</td>\n",
       "      <td>5</td>\n",
       "      <td>555</td>\n",
       "    </tr>\n",
       "    <tr>\n",
       "      <th>2.13796E+14</th>\n",
       "      <td>36</td>\n",
       "      <td>23</td>\n",
       "      <td>336.31</td>\n",
       "      <td>1</td>\n",
       "      <td>1</td>\n",
       "      <td>1</td>\n",
       "      <td>111</td>\n",
       "    </tr>\n",
       "    <tr>\n",
       "      <th>2.13797E+14</th>\n",
       "      <td>4</td>\n",
       "      <td>75</td>\n",
       "      <td>1577.63</td>\n",
       "      <td>3</td>\n",
       "      <td>2</td>\n",
       "      <td>1</td>\n",
       "      <td>321</td>\n",
       "    </tr>\n",
       "    <tr>\n",
       "      <th>2.13798E+14</th>\n",
       "      <td>171</td>\n",
       "      <td>50</td>\n",
       "      <td>2621.52</td>\n",
       "      <td>1</td>\n",
       "      <td>1</td>\n",
       "      <td>2</td>\n",
       "      <td>112</td>\n",
       "    </tr>\n",
       "    <tr>\n",
       "      <th>2.13799E+14</th>\n",
       "      <td>3</td>\n",
       "      <td>40</td>\n",
       "      <td>1064.96</td>\n",
       "      <td>3</td>\n",
       "      <td>1</td>\n",
       "      <td>1</td>\n",
       "      <td>311</td>\n",
       "    </tr>\n",
       "    <tr>\n",
       "      <th>...</th>\n",
       "      <td>...</td>\n",
       "      <td>...</td>\n",
       "      <td>...</td>\n",
       "      <td>...</td>\n",
       "      <td>...</td>\n",
       "      <td>...</td>\n",
       "      <td>...</td>\n",
       "    </tr>\n",
       "    <tr>\n",
       "      <th>2.14985E+14</th>\n",
       "      <td>162</td>\n",
       "      <td>524</td>\n",
       "      <td>17832.57</td>\n",
       "      <td>1</td>\n",
       "      <td>4</td>\n",
       "      <td>4</td>\n",
       "      <td>144</td>\n",
       "    </tr>\n",
       "    <tr>\n",
       "      <th>2.14986E+14</th>\n",
       "      <td>163</td>\n",
       "      <td>68</td>\n",
       "      <td>2347.60</td>\n",
       "      <td>1</td>\n",
       "      <td>1</td>\n",
       "      <td>2</td>\n",
       "      <td>112</td>\n",
       "    </tr>\n",
       "    <tr>\n",
       "      <th>2.1498E+14</th>\n",
       "      <td>163</td>\n",
       "      <td>595</td>\n",
       "      <td>22613.19</td>\n",
       "      <td>1</td>\n",
       "      <td>4</td>\n",
       "      <td>4</td>\n",
       "      <td>144</td>\n",
       "    </tr>\n",
       "    <tr>\n",
       "      <th>2.149E+14</th>\n",
       "      <td>1</td>\n",
       "      <td>797</td>\n",
       "      <td>23864.31</td>\n",
       "      <td>5</td>\n",
       "      <td>4</td>\n",
       "      <td>4</td>\n",
       "      <td>544</td>\n",
       "    </tr>\n",
       "    <tr>\n",
       "      <th>2.14E+14</th>\n",
       "      <td>1</td>\n",
       "      <td>31</td>\n",
       "      <td>964.35</td>\n",
       "      <td>5</td>\n",
       "      <td>1</td>\n",
       "      <td>1</td>\n",
       "      <td>511</td>\n",
       "    </tr>\n",
       "  </tbody>\n",
       "</table>\n",
       "<p>1192 rows × 7 columns</p>\n",
       "</div>"
      ],
      "text/plain": [
       "             recency  frequency   monetary  R  F  M RFM_score\n",
       "zuid                                                         \n",
       "2.13795E+14        1      27056  805751.03  5  5  5       555\n",
       "2.13796E+14       36         23     336.31  1  1  1       111\n",
       "2.13797E+14        4         75    1577.63  3  2  1       321\n",
       "2.13798E+14      171         50    2621.52  1  1  2       112\n",
       "2.13799E+14        3         40    1064.96  3  1  1       311\n",
       "...              ...        ...        ... .. .. ..       ...\n",
       "2.14985E+14      162        524   17832.57  1  4  4       144\n",
       "2.14986E+14      163         68    2347.60  1  1  2       112\n",
       "2.1498E+14       163        595   22613.19  1  4  4       144\n",
       "2.149E+14          1        797   23864.31  5  4  4       544\n",
       "2.14E+14           1         31     964.35  5  1  1       511\n",
       "\n",
       "[1192 rows x 7 columns]"
      ]
     },
     "execution_count": 104,
     "metadata": {},
     "output_type": "execute_result"
    }
   ],
   "source": [
    "rfm # 5 is the best score"
   ]
  },
  {
   "cell_type": "markdown",
   "metadata": {},
   "source": [
    "### Divide customers into segments based on Recency and Frequency"
   ]
  },
  {
   "cell_type": "code",
   "execution_count": 105,
   "metadata": {},
   "outputs": [
    {
     "data": {
      "text/html": [
       "<div>\n",
       "<style scoped>\n",
       "    .dataframe tbody tr th:only-of-type {\n",
       "        vertical-align: middle;\n",
       "    }\n",
       "\n",
       "    .dataframe tbody tr th {\n",
       "        vertical-align: top;\n",
       "    }\n",
       "\n",
       "    .dataframe thead th {\n",
       "        text-align: right;\n",
       "    }\n",
       "</style>\n",
       "<table border=\"1\" class=\"dataframe\">\n",
       "  <thead>\n",
       "    <tr style=\"text-align: right;\">\n",
       "      <th></th>\n",
       "      <th>recency</th>\n",
       "      <th>frequency</th>\n",
       "      <th>monetary</th>\n",
       "      <th>R</th>\n",
       "      <th>F</th>\n",
       "      <th>M</th>\n",
       "      <th>RFM_score</th>\n",
       "      <th>Segment</th>\n",
       "    </tr>\n",
       "    <tr>\n",
       "      <th>zuid</th>\n",
       "      <th></th>\n",
       "      <th></th>\n",
       "      <th></th>\n",
       "      <th></th>\n",
       "      <th></th>\n",
       "      <th></th>\n",
       "      <th></th>\n",
       "      <th></th>\n",
       "    </tr>\n",
       "  </thead>\n",
       "  <tbody>\n",
       "    <tr>\n",
       "      <th>2.13795E+14</th>\n",
       "      <td>1</td>\n",
       "      <td>27056</td>\n",
       "      <td>805751.03</td>\n",
       "      <td>5</td>\n",
       "      <td>5</td>\n",
       "      <td>5</td>\n",
       "      <td>555</td>\n",
       "      <td>Champions</td>\n",
       "    </tr>\n",
       "    <tr>\n",
       "      <th>2.13796E+14</th>\n",
       "      <td>36</td>\n",
       "      <td>23</td>\n",
       "      <td>336.31</td>\n",
       "      <td>1</td>\n",
       "      <td>1</td>\n",
       "      <td>1</td>\n",
       "      <td>111</td>\n",
       "      <td>Hibernating</td>\n",
       "    </tr>\n",
       "    <tr>\n",
       "      <th>2.13797E+14</th>\n",
       "      <td>4</td>\n",
       "      <td>75</td>\n",
       "      <td>1577.63</td>\n",
       "      <td>3</td>\n",
       "      <td>2</td>\n",
       "      <td>1</td>\n",
       "      <td>321</td>\n",
       "      <td>About to sleep</td>\n",
       "    </tr>\n",
       "    <tr>\n",
       "      <th>2.13798E+14</th>\n",
       "      <td>171</td>\n",
       "      <td>50</td>\n",
       "      <td>2621.52</td>\n",
       "      <td>1</td>\n",
       "      <td>1</td>\n",
       "      <td>2</td>\n",
       "      <td>112</td>\n",
       "      <td>Hibernating</td>\n",
       "    </tr>\n",
       "    <tr>\n",
       "      <th>2.13799E+14</th>\n",
       "      <td>3</td>\n",
       "      <td>40</td>\n",
       "      <td>1064.96</td>\n",
       "      <td>3</td>\n",
       "      <td>1</td>\n",
       "      <td>1</td>\n",
       "      <td>311</td>\n",
       "      <td>About to sleep</td>\n",
       "    </tr>\n",
       "  </tbody>\n",
       "</table>\n",
       "</div>"
      ],
      "text/plain": [
       "             recency  frequency   monetary  R  F  M RFM_score         Segment\n",
       "zuid                                                                         \n",
       "2.13795E+14        1      27056  805751.03  5  5  5       555       Champions\n",
       "2.13796E+14       36         23     336.31  1  1  1       111     Hibernating\n",
       "2.13797E+14        4         75    1577.63  3  2  1       321  About to sleep\n",
       "2.13798E+14      171         50    2621.52  1  1  2       112     Hibernating\n",
       "2.13799E+14        3         40    1064.96  3  1  1       311  About to sleep"
      ]
     },
     "execution_count": 105,
     "metadata": {},
     "output_type": "execute_result"
    }
   ],
   "source": [
    "segt_map = {\n",
    "    r'[1-2][1-2]': 'Hibernating',\n",
    "    r'[1-2][3-4]': 'Churn risk',\n",
    "    r'[1-2]5': 'Cannot lose them',\n",
    "    r'3[1-2]': 'About to sleep',\n",
    "    r'33': 'Require attention',\n",
    "    r'[3-4][4-5]': 'Loyal customers',\n",
    "    r'41': 'Recent customer',\n",
    "    r'51': 'New customer',\n",
    "    r'[4-5][2-3]': 'Potential loyalists',\n",
    "    r'5[4-5]': 'Champions'\n",
    "}\n",
    "\n",
    "rfm['Segment'] = rfm['R'].map(str) + rfm['F'].map(str)\n",
    "rfm['Segment'] = rfm['Segment'].replace(segt_map, regex=True)\n",
    "rfm.head()"
   ]
  },
  {
   "cell_type": "code",
   "execution_count": 106,
   "metadata": {},
   "outputs": [
    {
     "data": {
      "text/html": [
       "<div>\n",
       "<style scoped>\n",
       "    .dataframe tbody tr th:only-of-type {\n",
       "        vertical-align: middle;\n",
       "    }\n",
       "\n",
       "    .dataframe tbody tr th {\n",
       "        vertical-align: top;\n",
       "    }\n",
       "\n",
       "    .dataframe thead th {\n",
       "        text-align: right;\n",
       "    }\n",
       "</style>\n",
       "<table border=\"1\" class=\"dataframe\">\n",
       "  <thead>\n",
       "    <tr style=\"text-align: right;\">\n",
       "      <th></th>\n",
       "      <th>Segment</th>\n",
       "    </tr>\n",
       "  </thead>\n",
       "  <tbody>\n",
       "    <tr>\n",
       "      <th>Champions</th>\n",
       "      <td>325</td>\n",
       "    </tr>\n",
       "    <tr>\n",
       "      <th>Hibernating</th>\n",
       "      <td>293</td>\n",
       "    </tr>\n",
       "    <tr>\n",
       "      <th>Churn risk</th>\n",
       "      <td>133</td>\n",
       "    </tr>\n",
       "    <tr>\n",
       "      <th>Potential loyalists</th>\n",
       "      <td>120</td>\n",
       "    </tr>\n",
       "    <tr>\n",
       "      <th>Loyal customers</th>\n",
       "      <td>114</td>\n",
       "    </tr>\n",
       "    <tr>\n",
       "      <th>About to sleep</th>\n",
       "      <td>91</td>\n",
       "    </tr>\n",
       "    <tr>\n",
       "      <th>Require attention</th>\n",
       "      <td>72</td>\n",
       "    </tr>\n",
       "    <tr>\n",
       "      <th>New customer</th>\n",
       "      <td>33</td>\n",
       "    </tr>\n",
       "    <tr>\n",
       "      <th>Recent customer</th>\n",
       "      <td>8</td>\n",
       "    </tr>\n",
       "    <tr>\n",
       "      <th>Cannot lose them</th>\n",
       "      <td>3</td>\n",
       "    </tr>\n",
       "  </tbody>\n",
       "</table>\n",
       "</div>"
      ],
      "text/plain": [
       "                     Segment\n",
       "Champions                325\n",
       "Hibernating              293\n",
       "Churn risk               133\n",
       "Potential loyalists      120\n",
       "Loyal customers          114\n",
       "About to sleep            91\n",
       "Require attention         72\n",
       "New customer              33\n",
       "Recent customer            8\n",
       "Cannot lose them           3"
      ]
     },
     "execution_count": 106,
     "metadata": {},
     "output_type": "execute_result"
    }
   ],
   "source": [
    "pd.DataFrame(rfm.Segment.value_counts())"
   ]
  }
 ],
 "metadata": {
  "kernelspec": {
   "display_name": "Python 3",
   "language": "python",
   "name": "python3"
  },
  "language_info": {
   "codemirror_mode": {
    "name": "ipython",
    "version": 3
   },
   "file_extension": ".py",
   "mimetype": "text/x-python",
   "name": "python",
   "nbconvert_exporter": "python",
   "pygments_lexer": "ipython3",
   "version": "3.7.6"
  }
 },
 "nbformat": 4,
 "nbformat_minor": 4
}
